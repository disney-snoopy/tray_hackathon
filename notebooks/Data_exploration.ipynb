{
 "cells": [
  {
   "cell_type": "markdown",
   "id": "final-gazette",
   "metadata": {},
   "source": [
    "# Setup"
   ]
  },
  {
   "cell_type": "code",
   "execution_count": 1,
   "id": "beautiful-promise",
   "metadata": {
    "ExecuteTime": {
     "end_time": "2021-03-20T17:29:33.593232Z",
     "start_time": "2021-03-20T17:29:33.553425Z"
    }
   },
   "outputs": [],
   "source": [
    "%config Completer.use_jedi = False"
   ]
  },
  {
   "cell_type": "code",
   "execution_count": 235,
   "id": "miniature-premium",
   "metadata": {
    "ExecuteTime": {
     "end_time": "2021-03-21T00:14:53.736976Z",
     "start_time": "2021-03-21T00:14:53.730897Z"
    }
   },
   "outputs": [],
   "source": [
    "import pandas as pd\n",
    "import seaborn as sns\n",
    "import matplotlib.pyplot as plt\n",
    "import warnings\n",
    "import joblib\n",
    "\n",
    "from sklearn.cluster import KMeans\n",
    "from sklearn.decomposition import PCA\n",
    "from sklearn.preprocessing import MinMaxScaler\n",
    "from sklearn.pipeline import Pipeline\n",
    "\n",
    "import statsmodels.formula.api as sm \n",
    "\n",
    "import requests\n",
    "from selenium import webdriver\n",
    "import chromedriver_binary\n",
    "from selenium.webdriver.chrome.options import Options\n",
    "from selenium.webdriver.common.keys import Keys\n",
    "from selenium.webdriver.common.by import By\n",
    "from selenium.webdriver.support.ui import WebDriverWait\n",
    "from selenium.webdriver.support import expected_conditions as ec\n",
    "from bs4 import BeautifulSoup"
   ]
  },
  {
   "cell_type": "code",
   "execution_count": 3,
   "id": "returning-greece",
   "metadata": {
    "ExecuteTime": {
     "end_time": "2021-03-20T17:29:36.314578Z",
     "start_time": "2021-03-20T17:29:36.303357Z"
    }
   },
   "outputs": [],
   "source": [
    "sns.set_style('dark')"
   ]
  },
  {
   "cell_type": "markdown",
   "id": "unique-blank",
   "metadata": {},
   "source": [
    "# Data Import"
   ]
  },
  {
   "cell_type": "code",
   "execution_count": 231,
   "id": "capital-olive",
   "metadata": {
    "ExecuteTime": {
     "end_time": "2021-03-21T00:12:54.810868Z",
     "start_time": "2021-03-21T00:12:54.738866Z"
    }
   },
   "outputs": [],
   "source": [
    "df = pd.read_excel('data/Tray - SaaS products.xlsx')"
   ]
  },
  {
   "cell_type": "code",
   "execution_count": 5,
   "id": "altered-sierra",
   "metadata": {
    "ExecuteTime": {
     "end_time": "2021-03-20T17:29:37.097686Z",
     "start_time": "2021-03-20T17:29:37.070067Z"
    }
   },
   "outputs": [
    {
     "data": {
      "text/plain": [
       "API                      199\n",
       "Analyst value (0 - 5)      6\n",
       "Partner value (0 - 5)      6\n",
       "Persona value (0 - 5)      6\n",
       "Growing market             2\n",
       "Competitive gap            1\n",
       "Organic Search Volume    148\n",
       "SEO Value (0 - 3)          4\n",
       "dtype: int64"
      ]
     },
     "execution_count": 5,
     "metadata": {},
     "output_type": "execute_result"
    }
   ],
   "source": [
    "df.nunique()"
   ]
  },
  {
   "cell_type": "code",
   "execution_count": 6,
   "id": "loose-round",
   "metadata": {
    "ExecuteTime": {
     "end_time": "2021-03-20T17:29:37.112635Z",
     "start_time": "2021-03-20T17:29:37.101465Z"
    }
   },
   "outputs": [],
   "source": [
    "# Competitive gap column is a categorical column with only one unique value.\n",
    "df = df.drop('Competitive gap', axis = 1)"
   ]
  },
  {
   "cell_type": "markdown",
   "id": "prerequisite-contact",
   "metadata": {},
   "source": [
    "## Feature Correlation"
   ]
  },
  {
   "cell_type": "code",
   "execution_count": 7,
   "id": "french-burden",
   "metadata": {
    "ExecuteTime": {
     "end_time": "2021-03-20T17:29:39.007089Z",
     "start_time": "2021-03-20T17:29:38.549525Z"
    }
   },
   "outputs": [
    {
     "data": {
      "text/html": [
       "<style  type=\"text/css\" >\n",
       "#T_733ef_row0_col0,#T_733ef_row1_col1,#T_733ef_row2_col2,#T_733ef_row3_col3,#T_733ef_row4_col4{\n",
       "            background-color:  #b40426;\n",
       "            color:  #f1f1f1;\n",
       "        }#T_733ef_row0_col1,#T_733ef_row3_col4{\n",
       "            background-color:  #536edd;\n",
       "            color:  #000000;\n",
       "        }#T_733ef_row0_col2{\n",
       "            background-color:  #4a63d3;\n",
       "            color:  #f1f1f1;\n",
       "        }#T_733ef_row0_col3,#T_733ef_row3_col0{\n",
       "            background-color:  #4f69d9;\n",
       "            color:  #000000;\n",
       "        }#T_733ef_row0_col4{\n",
       "            background-color:  #6687ed;\n",
       "            color:  #000000;\n",
       "        }#T_733ef_row1_col0,#T_733ef_row1_col4,#T_733ef_row4_col1,#T_733ef_row4_col2,#T_733ef_row4_col3{\n",
       "            background-color:  #3b4cc0;\n",
       "            color:  #f1f1f1;\n",
       "        }#T_733ef_row1_col2,#T_733ef_row3_col2{\n",
       "            background-color:  #4e68d8;\n",
       "            color:  #000000;\n",
       "        }#T_733ef_row1_col3{\n",
       "            background-color:  #3f53c6;\n",
       "            color:  #f1f1f1;\n",
       "        }#T_733ef_row2_col0{\n",
       "            background-color:  #3c4ec2;\n",
       "            color:  #f1f1f1;\n",
       "        }#T_733ef_row2_col1{\n",
       "            background-color:  #5977e3;\n",
       "            color:  #000000;\n",
       "        }#T_733ef_row2_col3{\n",
       "            background-color:  #4055c8;\n",
       "            color:  #f1f1f1;\n",
       "        }#T_733ef_row2_col4{\n",
       "            background-color:  #455cce;\n",
       "            color:  #f1f1f1;\n",
       "        }#T_733ef_row3_col1{\n",
       "            background-color:  #5875e1;\n",
       "            color:  #000000;\n",
       "        }#T_733ef_row4_col0{\n",
       "            background-color:  #4c66d6;\n",
       "            color:  #000000;\n",
       "        }</style><table id=\"T_733ef_\" ><thead>    <tr>        <th class=\"blank level0\" ></th>        <th class=\"col_heading level0 col0\" >Analyst value (0 - 5)</th>        <th class=\"col_heading level0 col1\" >Partner value (0 - 5)</th>        <th class=\"col_heading level0 col2\" >Persona value (0 - 5)</th>        <th class=\"col_heading level0 col3\" >Growing market</th>        <th class=\"col_heading level0 col4\" >Organic Search Volume</th>    </tr></thead><tbody>\n",
       "                <tr>\n",
       "                        <th id=\"T_733ef_level0_row0\" class=\"row_heading level0 row0\" >Analyst value (0 - 5)</th>\n",
       "                        <td id=\"T_733ef_row0_col0\" class=\"data row0 col0\" >1.000000</td>\n",
       "                        <td id=\"T_733ef_row0_col1\" class=\"data row0 col1\" >-0.016439</td>\n",
       "                        <td id=\"T_733ef_row0_col2\" class=\"data row0 col2\" >-0.010163</td>\n",
       "                        <td id=\"T_733ef_row0_col3\" class=\"data row0 col3\" >0.053816</td>\n",
       "                        <td id=\"T_733ef_row0_col4\" class=\"data row0 col4\" >0.046263</td>\n",
       "            </tr>\n",
       "            <tr>\n",
       "                        <th id=\"T_733ef_level0_row1\" class=\"row_heading level0 row1\" >Partner value (0 - 5)</th>\n",
       "                        <td id=\"T_733ef_row1_col0\" class=\"data row1 col0\" >-0.016439</td>\n",
       "                        <td id=\"T_733ef_row1_col1\" class=\"data row1 col1\" >1.000000</td>\n",
       "                        <td id=\"T_733ef_row1_col2\" class=\"data row1 col2\" >0.001943</td>\n",
       "                        <td id=\"T_733ef_row1_col3\" class=\"data row1 col3\" >-0.001423</td>\n",
       "                        <td id=\"T_733ef_row1_col4\" class=\"data row1 col4\" >-0.106402</td>\n",
       "            </tr>\n",
       "            <tr>\n",
       "                        <th id=\"T_733ef_level0_row2\" class=\"row_heading level0 row2\" >Persona value (0 - 5)</th>\n",
       "                        <td id=\"T_733ef_row2_col0\" class=\"data row2 col0\" >-0.010163</td>\n",
       "                        <td id=\"T_733ef_row2_col1\" class=\"data row2 col1\" >0.001943</td>\n",
       "                        <td id=\"T_733ef_row2_col2\" class=\"data row2 col2\" >1.000000</td>\n",
       "                        <td id=\"T_733ef_row2_col3\" class=\"data row2 col3\" >0.002930</td>\n",
       "                        <td id=\"T_733ef_row2_col4\" class=\"data row2 col4\" >-0.066732</td>\n",
       "            </tr>\n",
       "            <tr>\n",
       "                        <th id=\"T_733ef_level0_row3\" class=\"row_heading level0 row3\" >Growing market</th>\n",
       "                        <td id=\"T_733ef_row3_col0\" class=\"data row3 col0\" >0.053816</td>\n",
       "                        <td id=\"T_733ef_row3_col1\" class=\"data row3 col1\" >-0.001423</td>\n",
       "                        <td id=\"T_733ef_row3_col2\" class=\"data row3 col2\" >0.002930</td>\n",
       "                        <td id=\"T_733ef_row3_col3\" class=\"data row3 col3\" >1.000000</td>\n",
       "                        <td id=\"T_733ef_row3_col4\" class=\"data row3 col4\" >-0.017357</td>\n",
       "            </tr>\n",
       "            <tr>\n",
       "                        <th id=\"T_733ef_level0_row4\" class=\"row_heading level0 row4\" >Organic Search Volume</th>\n",
       "                        <td id=\"T_733ef_row4_col0\" class=\"data row4 col0\" >0.046263</td>\n",
       "                        <td id=\"T_733ef_row4_col1\" class=\"data row4 col1\" >-0.106402</td>\n",
       "                        <td id=\"T_733ef_row4_col2\" class=\"data row4 col2\" >-0.066732</td>\n",
       "                        <td id=\"T_733ef_row4_col3\" class=\"data row4 col3\" >-0.017357</td>\n",
       "                        <td id=\"T_733ef_row4_col4\" class=\"data row4 col4\" >1.000000</td>\n",
       "            </tr>\n",
       "    </tbody></table>"
      ],
      "text/plain": [
       "<pandas.io.formats.style.Styler at 0x7f55fd0c9ee0>"
      ]
     },
     "execution_count": 7,
     "metadata": {},
     "output_type": "execute_result"
    }
   ],
   "source": [
    "corr = df.iloc[:,:-1].corr('spearman')\n",
    "corr.style.background_gradient(cmap='coolwarm')"
   ]
  },
  {
   "cell_type": "code",
   "execution_count": 8,
   "id": "numerical-undergraduate",
   "metadata": {
    "ExecuteTime": {
     "end_time": "2021-03-20T17:29:39.541926Z",
     "start_time": "2021-03-20T17:29:39.477345Z"
    }
   },
   "outputs": [
    {
     "data": {
      "text/html": [
       "<style  type=\"text/css\" >\n",
       "#T_0ebc3_row0_col0,#T_0ebc3_row1_col1,#T_0ebc3_row2_col2,#T_0ebc3_row3_col3,#T_0ebc3_row4_col4{\n",
       "            background-color:  #b40426;\n",
       "            color:  #f1f1f1;\n",
       "        }#T_0ebc3_row0_col1{\n",
       "            background-color:  #5673e0;\n",
       "            color:  #000000;\n",
       "        }#T_0ebc3_row0_col2{\n",
       "            background-color:  #445acc;\n",
       "            color:  #f1f1f1;\n",
       "        }#T_0ebc3_row0_col3{\n",
       "            background-color:  #5a78e4;\n",
       "            color:  #000000;\n",
       "        }#T_0ebc3_row0_col4{\n",
       "            background-color:  #6c8ff1;\n",
       "            color:  #000000;\n",
       "        }#T_0ebc3_row1_col0,#T_0ebc3_row1_col4,#T_0ebc3_row4_col1,#T_0ebc3_row4_col2,#T_0ebc3_row4_col3{\n",
       "            background-color:  #3b4cc0;\n",
       "            color:  #f1f1f1;\n",
       "        }#T_0ebc3_row1_col2{\n",
       "            background-color:  #4b64d5;\n",
       "            color:  #f1f1f1;\n",
       "        }#T_0ebc3_row1_col3{\n",
       "            background-color:  #485fd1;\n",
       "            color:  #f1f1f1;\n",
       "        }#T_0ebc3_row2_col0{\n",
       "            background-color:  #3c4ec2;\n",
       "            color:  #f1f1f1;\n",
       "        }#T_0ebc3_row2_col1{\n",
       "            background-color:  #5f7fe8;\n",
       "            color:  #000000;\n",
       "        }#T_0ebc3_row2_col3,#T_0ebc3_row2_col4{\n",
       "            background-color:  #4f69d9;\n",
       "            color:  #000000;\n",
       "        }#T_0ebc3_row3_col0,#T_0ebc3_row4_col0{\n",
       "            background-color:  #516ddb;\n",
       "            color:  #000000;\n",
       "        }#T_0ebc3_row3_col1{\n",
       "            background-color:  #5b7ae5;\n",
       "            color:  #000000;\n",
       "        }#T_0ebc3_row3_col2,#T_0ebc3_row3_col4{\n",
       "            background-color:  #4e68d8;\n",
       "            color:  #000000;\n",
       "        }</style><table id=\"T_0ebc3_\" ><thead>    <tr>        <th class=\"blank level0\" ></th>        <th class=\"col_heading level0 col0\" >Analyst value (0 - 5)</th>        <th class=\"col_heading level0 col1\" >Partner value (0 - 5)</th>        <th class=\"col_heading level0 col2\" >Persona value (0 - 5)</th>        <th class=\"col_heading level0 col3\" >Growing market</th>        <th class=\"col_heading level0 col4\" >Organic Search Volume</th>    </tr></thead><tbody>\n",
       "                <tr>\n",
       "                        <th id=\"T_0ebc3_level0_row0\" class=\"row_heading level0 row0\" >Analyst value (0 - 5)</th>\n",
       "                        <td id=\"T_0ebc3_row0_col0\" class=\"data row0 col0\" >1.000000</td>\n",
       "                        <td id=\"T_0ebc3_row0_col1\" class=\"data row0 col1\" >-0.023980</td>\n",
       "                        <td id=\"T_0ebc3_row0_col2\" class=\"data row0 col2\" >-0.016264</td>\n",
       "                        <td id=\"T_0ebc3_row0_col3\" class=\"data row0 col3\" >0.054732</td>\n",
       "                        <td id=\"T_0ebc3_row0_col4\" class=\"data row0 col4\" >0.052947</td>\n",
       "            </tr>\n",
       "            <tr>\n",
       "                        <th id=\"T_0ebc3_level0_row1\" class=\"row_heading level0 row1\" >Partner value (0 - 5)</th>\n",
       "                        <td id=\"T_0ebc3_row1_col0\" class=\"data row1 col0\" >-0.023980</td>\n",
       "                        <td id=\"T_0ebc3_row1_col1\" class=\"data row1 col1\" >1.000000</td>\n",
       "                        <td id=\"T_0ebc3_row1_col2\" class=\"data row1 col2\" >0.009003</td>\n",
       "                        <td id=\"T_0ebc3_row1_col3\" class=\"data row1 col3\" >-0.008014</td>\n",
       "                        <td id=\"T_0ebc3_row1_col4\" class=\"data row1 col4\" >-0.127154</td>\n",
       "            </tr>\n",
       "            <tr>\n",
       "                        <th id=\"T_0ebc3_level0_row2\" class=\"row_heading level0 row2\" >Persona value (0 - 5)</th>\n",
       "                        <td id=\"T_0ebc3_row2_col0\" class=\"data row2 col0\" >-0.016264</td>\n",
       "                        <td id=\"T_0ebc3_row2_col1\" class=\"data row2 col1\" >0.009003</td>\n",
       "                        <td id=\"T_0ebc3_row2_col2\" class=\"data row2 col2\" >1.000000</td>\n",
       "                        <td id=\"T_0ebc3_row2_col3\" class=\"data row2 col3\" >0.017866</td>\n",
       "                        <td id=\"T_0ebc3_row2_col4\" class=\"data row2 col4\" >-0.050980</td>\n",
       "            </tr>\n",
       "            <tr>\n",
       "                        <th id=\"T_0ebc3_level0_row3\" class=\"row_heading level0 row3\" >Growing market</th>\n",
       "                        <td id=\"T_0ebc3_row3_col0\" class=\"data row3 col0\" >0.054732</td>\n",
       "                        <td id=\"T_0ebc3_row3_col1\" class=\"data row3 col1\" >-0.008014</td>\n",
       "                        <td id=\"T_0ebc3_row3_col2\" class=\"data row3 col2\" >0.017866</td>\n",
       "                        <td id=\"T_0ebc3_row3_col3\" class=\"data row3 col3\" >1.000000</td>\n",
       "                        <td id=\"T_0ebc3_row3_col4\" class=\"data row3 col4\" >-0.055398</td>\n",
       "            </tr>\n",
       "            <tr>\n",
       "                        <th id=\"T_0ebc3_level0_row4\" class=\"row_heading level0 row4\" >Organic Search Volume</th>\n",
       "                        <td id=\"T_0ebc3_row4_col0\" class=\"data row4 col0\" >0.052947</td>\n",
       "                        <td id=\"T_0ebc3_row4_col1\" class=\"data row4 col1\" >-0.127154</td>\n",
       "                        <td id=\"T_0ebc3_row4_col2\" class=\"data row4 col2\" >-0.050980</td>\n",
       "                        <td id=\"T_0ebc3_row4_col3\" class=\"data row4 col3\" >-0.055398</td>\n",
       "                        <td id=\"T_0ebc3_row4_col4\" class=\"data row4 col4\" >1.000000</td>\n",
       "            </tr>\n",
       "    </tbody></table>"
      ],
      "text/plain": [
       "<pandas.io.formats.style.Styler at 0x7f55fd0caa90>"
      ]
     },
     "execution_count": 8,
     "metadata": {},
     "output_type": "execute_result"
    }
   ],
   "source": [
    "corr = df.iloc[:,:-1].corr('pearson')\n",
    "corr.style.background_gradient(cmap='coolwarm')"
   ]
  },
  {
   "cell_type": "markdown",
   "id": "sapphire-glasgow",
   "metadata": {},
   "source": [
    "# Getting APIs that are already being served"
   ]
  },
  {
   "cell_type": "code",
   "execution_count": 10,
   "id": "south-stable",
   "metadata": {
    "ExecuteTime": {
     "end_time": "2021-03-20T17:29:55.446593Z",
     "start_time": "2021-03-20T17:29:50.829182Z"
    }
   },
   "outputs": [],
   "source": [
    "options = Options()\n",
    "options.binary_location = '/usr/bin/google-chrome'\n",
    "#options.add_argument('--no-sandbox')\n",
    "#Run without generating browser.\n",
    "options.add_argument(\"--headless\")\n",
    "#Instantiating webdriver\n",
    "driver = webdriver.Chrome(options=options, executable_path='/usr/bin/chromedriver')\n",
    "#Accessing URL\n",
    "driver.get(\"https://tray.io/documentation/connectors/service/\")"
   ]
  },
  {
   "cell_type": "code",
   "execution_count": 11,
   "id": "pointed-princeton",
   "metadata": {
    "ExecuteTime": {
     "end_time": "2021-03-20T17:30:17.027720Z",
     "start_time": "2021-03-20T17:29:56.678987Z"
    }
   },
   "outputs": [],
   "source": [
    "cards = driver.find_elements_by_tag_name('span')\n",
    "apis = []\n",
    "for card in cards:\n",
    "    apis.append(card.text)\n",
    "apis = apis[8:-6]"
   ]
  },
  {
   "cell_type": "code",
   "execution_count": 12,
   "id": "genuine-hanging",
   "metadata": {
    "ExecuteTime": {
     "end_time": "2021-03-20T17:30:18.602346Z",
     "start_time": "2021-03-20T17:30:18.574198Z"
    }
   },
   "outputs": [],
   "source": [
    "apis_proc = [api.lower().replace(' ', '') for api in apis]"
   ]
  },
  {
   "cell_type": "code",
   "execution_count": 13,
   "id": "narrative-stable",
   "metadata": {
    "ExecuteTime": {
     "end_time": "2021-03-20T17:30:18.646546Z",
     "start_time": "2021-03-20T17:30:18.607603Z"
    }
   },
   "outputs": [],
   "source": [
    "serving = []\n",
    "for api in df['API']:\n",
    "    if api.lower().replace(' ', '') in apis_proc:\n",
    "        serving.append(True)\n",
    "    else:\n",
    "        serving.append(False)"
   ]
  },
  {
   "cell_type": "code",
   "execution_count": 14,
   "id": "prospective-summit",
   "metadata": {
    "ExecuteTime": {
     "end_time": "2021-03-20T17:30:18.695097Z",
     "start_time": "2021-03-20T17:30:18.667642Z"
    }
   },
   "outputs": [],
   "source": [
    "df['serving'] = serving"
   ]
  },
  {
   "cell_type": "code",
   "execution_count": 15,
   "id": "nearby-conclusion",
   "metadata": {
    "ExecuteTime": {
     "end_time": "2021-03-20T17:30:23.957838Z",
     "start_time": "2021-03-20T17:30:23.791466Z"
    }
   },
   "outputs": [],
   "source": [
    "df.to_csv('file1.csv') "
   ]
  },
  {
   "cell_type": "code",
   "execution_count": 16,
   "id": "sealed-charter",
   "metadata": {
    "ExecuteTime": {
     "end_time": "2021-03-20T17:30:24.079032Z",
     "start_time": "2021-03-20T17:30:23.972183Z"
    },
    "scrolled": false
   },
   "outputs": [],
   "source": [
    "df[df['serving']].to_csv('Tray.csv') "
   ]
  },
  {
   "cell_type": "code",
   "execution_count": 19,
   "id": "everyday-virus",
   "metadata": {
    "ExecuteTime": {
     "end_time": "2021-03-20T17:30:38.700591Z",
     "start_time": "2021-03-20T17:30:38.600022Z"
    }
   },
   "outputs": [],
   "source": [
    "df = pd.read_excel('data/Tray - SaaS products.xlsx')\n",
    "df = df.drop('Competitive gap', axis = 1)\n",
    "df['serving'] = serving"
   ]
  },
  {
   "cell_type": "code",
   "execution_count": 20,
   "id": "subtle-calibration",
   "metadata": {
    "ExecuteTime": {
     "end_time": "2021-03-20T17:30:39.411390Z",
     "start_time": "2021-03-20T17:30:39.395666Z"
    }
   },
   "outputs": [
    {
     "data": {
      "text/plain": [
       "34"
      ]
     },
     "execution_count": 20,
     "metadata": {},
     "output_type": "execute_result"
    }
   ],
   "source": [
    "np.sum(serving)"
   ]
  },
  {
   "cell_type": "code",
   "execution_count": 21,
   "id": "critical-cambridge",
   "metadata": {
    "ExecuteTime": {
     "end_time": "2021-03-20T17:30:50.289439Z",
     "start_time": "2021-03-20T17:30:41.733376Z"
    }
   },
   "outputs": [
    {
     "name": "stderr",
     "output_type": "stream",
     "text": [
      "/home/byungjae/.pyenv/versions/3.8.6/envs/lewagon/lib/python3.8/site-packages/seaborn/distributions.py:2557: FutureWarning: `distplot` is a deprecated function and will be removed in a future version. Please adapt your code to use either `displot` (a figure-level function with similar flexibility) or `histplot` (an axes-level function for histograms).\n",
      "  warnings.warn(msg, FutureWarning)\n",
      "/home/byungjae/.pyenv/versions/3.8.6/envs/lewagon/lib/python3.8/site-packages/seaborn/distributions.py:2557: FutureWarning: `distplot` is a deprecated function and will be removed in a future version. Please adapt your code to use either `displot` (a figure-level function with similar flexibility) or `histplot` (an axes-level function for histograms).\n",
      "  warnings.warn(msg, FutureWarning)\n",
      "/home/byungjae/.pyenv/versions/3.8.6/envs/lewagon/lib/python3.8/site-packages/seaborn/distributions.py:2557: FutureWarning: `distplot` is a deprecated function and will be removed in a future version. Please adapt your code to use either `displot` (a figure-level function with similar flexibility) or `histplot` (an axes-level function for histograms).\n",
      "  warnings.warn(msg, FutureWarning)\n",
      "/home/byungjae/.pyenv/versions/3.8.6/envs/lewagon/lib/python3.8/site-packages/seaborn/distributions.py:2557: FutureWarning: `distplot` is a deprecated function and will be removed in a future version. Please adapt your code to use either `displot` (a figure-level function with similar flexibility) or `histplot` (an axes-level function for histograms).\n",
      "  warnings.warn(msg, FutureWarning)\n",
      "/home/byungjae/.pyenv/versions/3.8.6/envs/lewagon/lib/python3.8/site-packages/seaborn/distributions.py:2557: FutureWarning: `distplot` is a deprecated function and will be removed in a future version. Please adapt your code to use either `displot` (a figure-level function with similar flexibility) or `histplot` (an axes-level function for histograms).\n",
      "  warnings.warn(msg, FutureWarning)\n",
      "/home/byungjae/.pyenv/versions/3.8.6/envs/lewagon/lib/python3.8/site-packages/seaborn/distributions.py:2557: FutureWarning: `distplot` is a deprecated function and will be removed in a future version. Please adapt your code to use either `displot` (a figure-level function with similar flexibility) or `histplot` (an axes-level function for histograms).\n",
      "  warnings.warn(msg, FutureWarning)\n",
      "/home/byungjae/.pyenv/versions/3.8.6/envs/lewagon/lib/python3.8/site-packages/seaborn/distributions.py:2557: FutureWarning: `distplot` is a deprecated function and will be removed in a future version. Please adapt your code to use either `displot` (a figure-level function with similar flexibility) or `histplot` (an axes-level function for histograms).\n",
      "  warnings.warn(msg, FutureWarning)\n"
     ]
    },
    {
     "data": {
      "image/png": "[encoded data removed]",
      "text/plain": [
       "<Figure size 1800x360 with 6 Axes>"
      ]
     },
     "metadata": {},
     "output_type": "display_data"
    },
    {
     "data": {
      "image/png": "[encoded data removed]",
      "text/plain": [
       "<Figure size 1800x360 with 6 Axes>"
      ]
     },
     "metadata": {},
     "output_type": "display_data"
    }
   ],
   "source": [
    "fig, axs = plt.subplots(1, 6, figsize = (25, 5))\n",
    "fig.suptitle('Entire dataset')\n",
    "axs = axs.flatten()\n",
    "for ax, col in zip(axs, df.columns[1:-1]):\n",
    "    if col == 'SEO Value (0 - 3)':\n",
    "        sns.distplot(df[col], ax = ax, bins = 4, kde=False)\n",
    "    else:\n",
    "        sns.distplot(df[col], ax = ax, bins = 6, kde=False)\n",
    "        \n",
    "        \n",
    "fig, axs = plt.subplots(1, 6, figsize = (25, 5))\n",
    "fig.suptitle('Already being served')\n",
    "axs = axs.flatten()\n",
    "for ax, col in zip(axs, df.columns[1:-1]):\n",
    "    if col == 'SEO Value (0 - 3)':\n",
    "        sns.distplot(df[df['serving'] == True][col], ax = ax, bins = 4, kde=False)\n",
    "    else:\n",
    "        sns.distplot(df[df['serving'] == True][col], ax = ax, bins = 6, kde=False)"
   ]
  },
  {
   "cell_type": "code",
   "execution_count": 22,
   "id": "middle-reception",
   "metadata": {
    "ExecuteTime": {
     "end_time": "2021-03-20T17:30:52.468200Z",
     "start_time": "2021-03-20T17:30:52.273348Z"
    }
   },
   "outputs": [
    {
     "data": {
      "text/html": [
       "<div>\n",
       "<style scoped>\n",
       "    .dataframe tbody tr th:only-of-type {\n",
       "        vertical-align: middle;\n",
       "    }\n",
       "\n",
       "    .dataframe tbody tr th {\n",
       "        vertical-align: top;\n",
       "    }\n",
       "\n",
       "    .dataframe thead th {\n",
       "        text-align: right;\n",
       "    }\n",
       "</style>\n",
       "<table border=\"1\" class=\"dataframe\">\n",
       "  <thead>\n",
       "    <tr style=\"text-align: right;\">\n",
       "      <th></th>\n",
       "      <th>Analyst value (0 - 5)</th>\n",
       "      <th>Partner value (0 - 5)</th>\n",
       "      <th>Persona value (0 - 5)</th>\n",
       "      <th>Organic Search Volume</th>\n",
       "      <th>SEO Value (0 - 3)</th>\n",
       "    </tr>\n",
       "  </thead>\n",
       "  <tbody>\n",
       "    <tr>\n",
       "      <th>count</th>\n",
       "      <td>199.000000</td>\n",
       "      <td>199.000000</td>\n",
       "      <td>199.000000</td>\n",
       "      <td>199.000000</td>\n",
       "      <td>199.000000</td>\n",
       "    </tr>\n",
       "    <tr>\n",
       "      <th>mean</th>\n",
       "      <td>2.447236</td>\n",
       "      <td>2.251256</td>\n",
       "      <td>2.356784</td>\n",
       "      <td>467.231156</td>\n",
       "      <td>1.547739</td>\n",
       "    </tr>\n",
       "    <tr>\n",
       "      <th>std</th>\n",
       "      <td>1.625547</td>\n",
       "      <td>1.731230</td>\n",
       "      <td>1.672216</td>\n",
       "      <td>505.378173</td>\n",
       "      <td>1.103933</td>\n",
       "    </tr>\n",
       "    <tr>\n",
       "      <th>min</th>\n",
       "      <td>0.000000</td>\n",
       "      <td>0.000000</td>\n",
       "      <td>0.000000</td>\n",
       "      <td>0.000000</td>\n",
       "      <td>0.000000</td>\n",
       "    </tr>\n",
       "    <tr>\n",
       "      <th>25%</th>\n",
       "      <td>1.000000</td>\n",
       "      <td>1.000000</td>\n",
       "      <td>1.000000</td>\n",
       "      <td>10.500000</td>\n",
       "      <td>1.000000</td>\n",
       "    </tr>\n",
       "    <tr>\n",
       "      <th>50%</th>\n",
       "      <td>2.000000</td>\n",
       "      <td>2.000000</td>\n",
       "      <td>2.000000</td>\n",
       "      <td>291.000000</td>\n",
       "      <td>2.000000</td>\n",
       "    </tr>\n",
       "    <tr>\n",
       "      <th>75%</th>\n",
       "      <td>4.000000</td>\n",
       "      <td>4.000000</td>\n",
       "      <td>4.000000</td>\n",
       "      <td>790.500000</td>\n",
       "      <td>2.000000</td>\n",
       "    </tr>\n",
       "    <tr>\n",
       "      <th>max</th>\n",
       "      <td>5.000000</td>\n",
       "      <td>5.000000</td>\n",
       "      <td>5.000000</td>\n",
       "      <td>1783.000000</td>\n",
       "      <td>3.000000</td>\n",
       "    </tr>\n",
       "  </tbody>\n",
       "</table>\n",
       "</div>"
      ],
      "text/plain": [
       "       Analyst value (0 - 5)  Partner value (0 - 5)  Persona value (0 - 5)  \\\n",
       "count             199.000000             199.000000             199.000000   \n",
       "mean                2.447236               2.251256               2.356784   \n",
       "std                 1.625547               1.731230               1.672216   \n",
       "min                 0.000000               0.000000               0.000000   \n",
       "25%                 1.000000               1.000000               1.000000   \n",
       "50%                 2.000000               2.000000               2.000000   \n",
       "75%                 4.000000               4.000000               4.000000   \n",
       "max                 5.000000               5.000000               5.000000   \n",
       "\n",
       "       Organic Search Volume  SEO Value (0 - 3)  \n",
       "count             199.000000         199.000000  \n",
       "mean              467.231156           1.547739  \n",
       "std               505.378173           1.103933  \n",
       "min                 0.000000           0.000000  \n",
       "25%                10.500000           1.000000  \n",
       "50%               291.000000           2.000000  \n",
       "75%               790.500000           2.000000  \n",
       "max              1783.000000           3.000000  "
      ]
     },
     "execution_count": 22,
     "metadata": {},
     "output_type": "execute_result"
    }
   ],
   "source": [
    "df.describe()"
   ]
  },
  {
   "cell_type": "code",
   "execution_count": 222,
   "id": "demanding-miller",
   "metadata": {
    "ExecuteTime": {
     "end_time": "2021-03-20T23:29:49.728952Z",
     "start_time": "2021-03-20T23:29:47.734971Z"
    }
   },
   "outputs": [
    {
     "name": "stderr",
     "output_type": "stream",
     "text": [
      "<__array_function__ internals>:5: RuntimeWarning: Converting input from bool to <class 'numpy.uint8'> for compatibility.\n",
      "<__array_function__ internals>:5: RuntimeWarning: Converting input from bool to <class 'numpy.uint8'> for compatibility.\n",
      "<__array_function__ internals>:5: RuntimeWarning: Converting input from bool to <class 'numpy.uint8'> for compatibility.\n",
      "<__array_function__ internals>:5: RuntimeWarning: Converting input from bool to <class 'numpy.uint8'> for compatibility.\n"
     ]
    },
    {
     "data": {
      "image/png": "[encoded data removed]",
      "text/plain": [
       "<Figure size 1800x1008 with 6 Axes>"
      ]
     },
     "metadata": {},
     "output_type": "display_data"
    }
   ],
   "source": [
    "fig, axs = plt.subplots(2, 3, figsize = (25, 14))\n",
    "fig.suptitle('Entire dataset')\n",
    "axs = axs.flatten()\n",
    "for ax, col in zip(axs, df.columns[1:-1]):\n",
    "    sns.set(font_scale = 1.5)\n",
    "    if col == 'SEO Value (0 - 3)':\n",
    "        sns.histplot(data = df[df['serving']==False], x = col, ax = ax, bins = 4, kde=False, stat='probability', )\n",
    "        sns.histplot(data = df[df['serving']], x = col, ax = ax, bins = 4, kde=False, stat='probability', color='r')\n",
    "    elif col == 'Organic Search Volume':\n",
    "        sns.histplot(data = df[df['serving']==False], x = col, ax = ax, bins = 18, kde=False, stat='probability', binwidth=100)\n",
    "        sns.histplot(data = df[df['serving']], x = col, ax = ax, bins = 18, kde=False, stat='probability', binwidth=100, color='r')        \n",
    "    else:\n",
    "        sns.histplot(data = df[df['serving']==False], x = col, ax = ax, bins = 6, kde=False, stat='probability')\n",
    "        sns.histplot(data = df[df['serving']], x = col, ax = ax, bins = 6, kde=False, stat='probability', color='r')"
   ]
  },
  {
   "cell_type": "code",
   "execution_count": 33,
   "id": "acquired-dryer",
   "metadata": {
    "ExecuteTime": {
     "end_time": "2021-03-20T17:39:59.304661Z",
     "start_time": "2021-03-20T17:39:59.259781Z"
    }
   },
   "outputs": [
    {
     "data": {
      "text/html": [
       "<div>\n",
       "<style scoped>\n",
       "    .dataframe tbody tr th:only-of-type {\n",
       "        vertical-align: middle;\n",
       "    }\n",
       "\n",
       "    .dataframe tbody tr th {\n",
       "        vertical-align: top;\n",
       "    }\n",
       "\n",
       "    .dataframe thead th {\n",
       "        text-align: right;\n",
       "    }\n",
       "</style>\n",
       "<table border=\"1\" class=\"dataframe\">\n",
       "  <thead>\n",
       "    <tr style=\"text-align: right;\">\n",
       "      <th></th>\n",
       "      <th>Analyst value (0 - 5)</th>\n",
       "      <th>Partner value (0 - 5)</th>\n",
       "      <th>Persona value (0 - 5)</th>\n",
       "      <th>Organic Search Volume</th>\n",
       "      <th>SEO Value (0 - 3)</th>\n",
       "    </tr>\n",
       "  </thead>\n",
       "  <tbody>\n",
       "    <tr>\n",
       "      <th>count</th>\n",
       "      <td>199.000000</td>\n",
       "      <td>199.000000</td>\n",
       "      <td>199.000000</td>\n",
       "      <td>199.000000</td>\n",
       "      <td>199.000000</td>\n",
       "    </tr>\n",
       "    <tr>\n",
       "      <th>mean</th>\n",
       "      <td>2.447236</td>\n",
       "      <td>2.251256</td>\n",
       "      <td>2.356784</td>\n",
       "      <td>467.231156</td>\n",
       "      <td>1.547739</td>\n",
       "    </tr>\n",
       "    <tr>\n",
       "      <th>std</th>\n",
       "      <td>1.625547</td>\n",
       "      <td>1.731230</td>\n",
       "      <td>1.672216</td>\n",
       "      <td>505.378173</td>\n",
       "      <td>1.103933</td>\n",
       "    </tr>\n",
       "    <tr>\n",
       "      <th>min</th>\n",
       "      <td>0.000000</td>\n",
       "      <td>0.000000</td>\n",
       "      <td>0.000000</td>\n",
       "      <td>0.000000</td>\n",
       "      <td>0.000000</td>\n",
       "    </tr>\n",
       "    <tr>\n",
       "      <th>25%</th>\n",
       "      <td>1.000000</td>\n",
       "      <td>1.000000</td>\n",
       "      <td>1.000000</td>\n",
       "      <td>10.500000</td>\n",
       "      <td>1.000000</td>\n",
       "    </tr>\n",
       "    <tr>\n",
       "      <th>50%</th>\n",
       "      <td>2.000000</td>\n",
       "      <td>2.000000</td>\n",
       "      <td>2.000000</td>\n",
       "      <td>291.000000</td>\n",
       "      <td>2.000000</td>\n",
       "    </tr>\n",
       "    <tr>\n",
       "      <th>75%</th>\n",
       "      <td>4.000000</td>\n",
       "      <td>4.000000</td>\n",
       "      <td>4.000000</td>\n",
       "      <td>790.500000</td>\n",
       "      <td>2.000000</td>\n",
       "    </tr>\n",
       "    <tr>\n",
       "      <th>max</th>\n",
       "      <td>5.000000</td>\n",
       "      <td>5.000000</td>\n",
       "      <td>5.000000</td>\n",
       "      <td>1783.000000</td>\n",
       "      <td>3.000000</td>\n",
       "    </tr>\n",
       "  </tbody>\n",
       "</table>\n",
       "</div>"
      ],
      "text/plain": [
       "       Analyst value (0 - 5)  Partner value (0 - 5)  Persona value (0 - 5)  \\\n",
       "count             199.000000             199.000000             199.000000   \n",
       "mean                2.447236               2.251256               2.356784   \n",
       "std                 1.625547               1.731230               1.672216   \n",
       "min                 0.000000               0.000000               0.000000   \n",
       "25%                 1.000000               1.000000               1.000000   \n",
       "50%                 2.000000               2.000000               2.000000   \n",
       "75%                 4.000000               4.000000               4.000000   \n",
       "max                 5.000000               5.000000               5.000000   \n",
       "\n",
       "       Organic Search Volume  SEO Value (0 - 3)  \n",
       "count             199.000000         199.000000  \n",
       "mean              467.231156           1.547739  \n",
       "std               505.378173           1.103933  \n",
       "min                 0.000000           0.000000  \n",
       "25%                10.500000           1.000000  \n",
       "50%               291.000000           2.000000  \n",
       "75%               790.500000           2.000000  \n",
       "max              1783.000000           3.000000  "
      ]
     },
     "execution_count": 33,
     "metadata": {},
     "output_type": "execute_result"
    }
   ],
   "source": [
    "df.describe()"
   ]
  },
  {
   "cell_type": "code",
   "execution_count": 24,
   "id": "wired-black",
   "metadata": {
    "ExecuteTime": {
     "end_time": "2021-03-20T17:31:12.471791Z",
     "start_time": "2021-03-20T17:31:12.428288Z"
    }
   },
   "outputs": [
    {
     "data": {
      "text/html": [
       "<div>\n",
       "<style scoped>\n",
       "    .dataframe tbody tr th:only-of-type {\n",
       "        vertical-align: middle;\n",
       "    }\n",
       "\n",
       "    .dataframe tbody tr th {\n",
       "        vertical-align: top;\n",
       "    }\n",
       "\n",
       "    .dataframe thead th {\n",
       "        text-align: right;\n",
       "    }\n",
       "</style>\n",
       "<table border=\"1\" class=\"dataframe\">\n",
       "  <thead>\n",
       "    <tr style=\"text-align: right;\">\n",
       "      <th></th>\n",
       "      <th>Analyst value (0 - 5)</th>\n",
       "      <th>Partner value (0 - 5)</th>\n",
       "      <th>Persona value (0 - 5)</th>\n",
       "      <th>Organic Search Volume</th>\n",
       "      <th>SEO Value (0 - 3)</th>\n",
       "    </tr>\n",
       "  </thead>\n",
       "  <tbody>\n",
       "    <tr>\n",
       "      <th>count</th>\n",
       "      <td>34.000000</td>\n",
       "      <td>34.000000</td>\n",
       "      <td>34.000000</td>\n",
       "      <td>34.000000</td>\n",
       "      <td>34.00000</td>\n",
       "    </tr>\n",
       "    <tr>\n",
       "      <th>mean</th>\n",
       "      <td>2.823529</td>\n",
       "      <td>2.323529</td>\n",
       "      <td>2.558824</td>\n",
       "      <td>412.411765</td>\n",
       "      <td>1.50000</td>\n",
       "    </tr>\n",
       "    <tr>\n",
       "      <th>std</th>\n",
       "      <td>1.506965</td>\n",
       "      <td>1.902480</td>\n",
       "      <td>1.877961</td>\n",
       "      <td>409.409191</td>\n",
       "      <td>0.78817</td>\n",
       "    </tr>\n",
       "    <tr>\n",
       "      <th>min</th>\n",
       "      <td>0.000000</td>\n",
       "      <td>0.000000</td>\n",
       "      <td>0.000000</td>\n",
       "      <td>0.000000</td>\n",
       "      <td>0.00000</td>\n",
       "    </tr>\n",
       "    <tr>\n",
       "      <th>25%</th>\n",
       "      <td>2.000000</td>\n",
       "      <td>1.000000</td>\n",
       "      <td>1.000000</td>\n",
       "      <td>163.250000</td>\n",
       "      <td>1.00000</td>\n",
       "    </tr>\n",
       "    <tr>\n",
       "      <th>50%</th>\n",
       "      <td>2.500000</td>\n",
       "      <td>2.000000</td>\n",
       "      <td>2.000000</td>\n",
       "      <td>244.500000</td>\n",
       "      <td>2.00000</td>\n",
       "    </tr>\n",
       "    <tr>\n",
       "      <th>75%</th>\n",
       "      <td>4.000000</td>\n",
       "      <td>4.000000</td>\n",
       "      <td>4.750000</td>\n",
       "      <td>606.000000</td>\n",
       "      <td>2.00000</td>\n",
       "    </tr>\n",
       "    <tr>\n",
       "      <th>max</th>\n",
       "      <td>5.000000</td>\n",
       "      <td>5.000000</td>\n",
       "      <td>5.000000</td>\n",
       "      <td>1629.000000</td>\n",
       "      <td>3.00000</td>\n",
       "    </tr>\n",
       "  </tbody>\n",
       "</table>\n",
       "</div>"
      ],
      "text/plain": [
       "       Analyst value (0 - 5)  Partner value (0 - 5)  Persona value (0 - 5)  \\\n",
       "count              34.000000              34.000000              34.000000   \n",
       "mean                2.823529               2.323529               2.558824   \n",
       "std                 1.506965               1.902480               1.877961   \n",
       "min                 0.000000               0.000000               0.000000   \n",
       "25%                 2.000000               1.000000               1.000000   \n",
       "50%                 2.500000               2.000000               2.000000   \n",
       "75%                 4.000000               4.000000               4.750000   \n",
       "max                 5.000000               5.000000               5.000000   \n",
       "\n",
       "       Organic Search Volume  SEO Value (0 - 3)  \n",
       "count              34.000000           34.00000  \n",
       "mean              412.411765            1.50000  \n",
       "std               409.409191            0.78817  \n",
       "min                 0.000000            0.00000  \n",
       "25%               163.250000            1.00000  \n",
       "50%               244.500000            2.00000  \n",
       "75%               606.000000            2.00000  \n",
       "max              1629.000000            3.00000  "
      ]
     },
     "execution_count": 24,
     "metadata": {},
     "output_type": "execute_result"
    }
   ],
   "source": [
    "df[df['serving']].describe()"
   ]
  },
  {
   "cell_type": "markdown",
   "id": "narrative-indication",
   "metadata": {},
   "source": [
    "# K-means clustering"
   ]
  },
  {
   "cell_type": "markdown",
   "id": "integrated-flight",
   "metadata": {},
   "source": [
    "## Scaling"
   ]
  },
  {
   "cell_type": "code",
   "execution_count": 34,
   "id": "entire-aside",
   "metadata": {
    "ExecuteTime": {
     "end_time": "2021-03-20T17:42:21.561298Z",
     "start_time": "2021-03-20T17:42:21.534656Z"
    }
   },
   "outputs": [
    {
     "data": {
      "text/html": [
       "<div>\n",
       "<style scoped>\n",
       "    .dataframe tbody tr th:only-of-type {\n",
       "        vertical-align: middle;\n",
       "    }\n",
       "\n",
       "    .dataframe tbody tr th {\n",
       "        vertical-align: top;\n",
       "    }\n",
       "\n",
       "    .dataframe thead th {\n",
       "        text-align: right;\n",
       "    }\n",
       "</style>\n",
       "<table border=\"1\" class=\"dataframe\">\n",
       "  <thead>\n",
       "    <tr style=\"text-align: right;\">\n",
       "      <th></th>\n",
       "      <th>API</th>\n",
       "      <th>Analyst value (0 - 5)</th>\n",
       "      <th>Partner value (0 - 5)</th>\n",
       "      <th>Persona value (0 - 5)</th>\n",
       "      <th>Growing market</th>\n",
       "      <th>Organic Search Volume</th>\n",
       "      <th>SEO Value (0 - 3)</th>\n",
       "      <th>serving</th>\n",
       "    </tr>\n",
       "  </thead>\n",
       "  <tbody>\n",
       "    <tr>\n",
       "      <th>0</th>\n",
       "      <td>15Five</td>\n",
       "      <td>0</td>\n",
       "      <td>1</td>\n",
       "      <td>3</td>\n",
       "      <td>False</td>\n",
       "      <td>1161</td>\n",
       "      <td>2</td>\n",
       "      <td>False</td>\n",
       "    </tr>\n",
       "    <tr>\n",
       "      <th>1</th>\n",
       "      <td>1Password</td>\n",
       "      <td>5</td>\n",
       "      <td>1</td>\n",
       "      <td>0</td>\n",
       "      <td>True</td>\n",
       "      <td>395</td>\n",
       "      <td>2</td>\n",
       "      <td>False</td>\n",
       "    </tr>\n",
       "  </tbody>\n",
       "</table>\n",
       "</div>"
      ],
      "text/plain": [
       "         API  Analyst value (0 - 5)  Partner value (0 - 5)  \\\n",
       "0     15Five                      0                      1   \n",
       "1  1Password                      5                      1   \n",
       "\n",
       "   Persona value (0 - 5)  Growing market  Organic Search Volume  \\\n",
       "0                      3           False                   1161   \n",
       "1                      0            True                    395   \n",
       "\n",
       "   SEO Value (0 - 3)  serving  \n",
       "0                  2    False  \n",
       "1                  2    False  "
      ]
     },
     "execution_count": 34,
     "metadata": {},
     "output_type": "execute_result"
    }
   ],
   "source": [
    "df.head(2)"
   ]
  },
  {
   "cell_type": "code",
   "execution_count": 35,
   "id": "electric-thumb",
   "metadata": {
    "ExecuteTime": {
     "end_time": "2021-03-20T17:42:23.062453Z",
     "start_time": "2021-03-20T17:42:23.021447Z"
    }
   },
   "outputs": [],
   "source": [
    "# minmax sclaer\n",
    "X = df[['Analyst value (0 - 5)', 'Partner value (0 - 5)',\n",
    "       'Persona value (0 - 5)', 'Growing market', 'Organic Search Volume',\n",
    "       'SEO Value (0 - 3)']]\n",
    "mm_scaler = MinMaxScaler()\n",
    "X_scl = mm_scaler.fit_transform(X)"
   ]
  },
  {
   "cell_type": "markdown",
   "id": "legendary-saturn",
   "metadata": {},
   "source": [
    "## Elbow Plot"
   ]
  },
  {
   "cell_type": "code",
   "execution_count": 36,
   "id": "lovely-digest",
   "metadata": {
    "ExecuteTime": {
     "end_time": "2021-03-20T17:42:30.016689Z",
     "start_time": "2021-03-20T17:42:24.057706Z"
    }
   },
   "outputs": [],
   "source": [
    "inertia = []\n",
    "for i in range(1, 30):\n",
    "    kmeans = KMeans(n_clusters = i, \n",
    "                    random_state = 42)\n",
    "    kmeans.fit(X_scl)\n",
    "    inertia.append(kmeans.inertia_)"
   ]
  },
  {
   "cell_type": "code",
   "execution_count": 37,
   "id": "considerable-weight",
   "metadata": {
    "ExecuteTime": {
     "end_time": "2021-03-20T17:42:30.602209Z",
     "start_time": "2021-03-20T17:42:30.021166Z"
    }
   },
   "outputs": [
    {
     "name": "stdout",
     "output_type": "stream",
     "text": [
      "inertia_ is the sum of squared distances of samples to their closest cluster center\n"
     ]
    },
    {
     "data": {
      "image/png": "[encoded data removed]",
      "text/plain": [
       "<Figure size 864x360 with 1 Axes>"
      ]
     },
     "metadata": {},
     "output_type": "display_data"
    }
   ],
   "source": [
    "plt.figure(figsize = (12, 5))\n",
    "plt.plot(range(1, 30),inertia)\n",
    "plt.xlabel('Number of clusters')\n",
    "plt.ylabel('Inertia')\n",
    "plt.title('Finding optimal number of clusters');\n",
    "print('inertia_ is the sum of squared distances of samples to their closest cluster center')"
   ]
  },
  {
   "cell_type": "code",
   "execution_count": 38,
   "id": "interstate-skiing",
   "metadata": {
    "ExecuteTime": {
     "end_time": "2021-03-20T17:42:32.676962Z",
     "start_time": "2021-03-20T17:42:32.578597Z"
    }
   },
   "outputs": [],
   "source": [
    "kmeans = KMeans(n_clusters = 5, random_state = 42)\n",
    "y_kmeans = kmeans.fit_predict(X_scl)"
   ]
  },
  {
   "cell_type": "code",
   "execution_count": 39,
   "id": "fewer-drill",
   "metadata": {
    "ExecuteTime": {
     "end_time": "2021-03-20T17:42:33.713628Z",
     "start_time": "2021-03-20T17:42:33.702668Z"
    }
   },
   "outputs": [],
   "source": [
    "df_scl = pd.DataFrame(X_scl)\n",
    "df_scl.columns = X.columns\n",
    "df_scl['Cluster'] = pd.Series(y_kmeans)\n",
    "df_scl['serving'] = serving"
   ]
  },
  {
   "cell_type": "code",
   "execution_count": 40,
   "id": "residential-beaver",
   "metadata": {
    "ExecuteTime": {
     "end_time": "2021-03-20T17:42:34.991933Z",
     "start_time": "2021-03-20T17:42:34.983848Z"
    }
   },
   "outputs": [
    {
     "data": {
      "text/plain": [
       "(array([0, 1, 2, 3, 4], dtype=int32), array([46, 40, 28, 52, 33]))"
      ]
     },
     "execution_count": 40,
     "metadata": {},
     "output_type": "execute_result"
    }
   ],
   "source": [
    "np.unique(np.array(df_scl['Cluster']), return_counts=True)"
   ]
  },
  {
   "cell_type": "markdown",
   "id": "departmental-nylon",
   "metadata": {},
   "source": [
    "## Visualisation"
   ]
  },
  {
   "cell_type": "code",
   "execution_count": 41,
   "id": "changed-hometown",
   "metadata": {
    "ExecuteTime": {
     "end_time": "2021-03-20T17:42:36.197779Z",
     "start_time": "2021-03-20T17:42:36.193161Z"
    }
   },
   "outputs": [],
   "source": [
    "# All possible pairs in List \n",
    "# Using list comprehension + enumerate() \n",
    "col_pairs = [(a, b) for idx, a in enumerate(df_scl.columns[:-1]) for b in X.columns[idx + 1:]] "
   ]
  },
  {
   "cell_type": "code",
   "execution_count": 42,
   "id": "statistical-tennessee",
   "metadata": {
    "ExecuteTime": {
     "end_time": "2021-03-20T17:42:39.713868Z",
     "start_time": "2021-03-20T17:42:37.265201Z"
    }
   },
   "outputs": [
    {
     "data": {
      "image/png": "[encoded data removed]",
      "text/plain": [
       "<Figure size 2160x720 with 10 Axes>"
      ]
     },
     "metadata": {},
     "output_type": "display_data"
    }
   ],
   "source": [
    "fig, axs = plt.subplots(2, 5, figsize = (30, 10))\n",
    "axs = axs.flatten()\n",
    "for cols, ax in zip(col_pairs, axs):\n",
    "    ax.scatter(df_scl[cols[0]], df_scl[cols[1]], c = df_scl['Cluster'], cmap = 'turbo', alpha = 0.3)\n",
    "    ax.set_title(f'{cols[0]} vs {cols[1]}')\n",
    "    ax.set_xlabel(cols[0])\n",
    "    ax.set_ylabel(cols[1])"
   ]
  },
  {
   "cell_type": "code",
   "execution_count": 43,
   "id": "handmade-sender",
   "metadata": {
    "ExecuteTime": {
     "end_time": "2021-03-20T17:42:43.944785Z",
     "start_time": "2021-03-20T17:42:41.064689Z"
    }
   },
   "outputs": [
    {
     "data": {
      "image/png": "[encoded data removed]",
      "text/plain": [
       "<Figure size 2160x720 with 10 Axes>"
      ]
     },
     "metadata": {},
     "output_type": "display_data"
    }
   ],
   "source": [
    "fig, axs = plt.subplots(2, 5, figsize = (30, 10))\n",
    "axs = axs.flatten()\n",
    "for cols, ax in zip(col_pairs, axs):\n",
    "    ax.scatter(df_scl[cols[0]], df_scl[cols[1]], c = df_scl['serving'], cmap = 'viridis', alpha = 0.3)\n",
    "    ax.set_title(f'{cols[0]} vs {cols[1]}')\n",
    "    ax.set_xlabel(cols[0])\n",
    "    ax.set_ylabel(cols[1])"
   ]
  },
  {
   "cell_type": "markdown",
   "id": "light-suffering",
   "metadata": {},
   "source": [
    "## Proportion of already serving APIs"
   ]
  },
  {
   "cell_type": "code",
   "execution_count": 44,
   "id": "corporate-stylus",
   "metadata": {
    "ExecuteTime": {
     "end_time": "2021-03-20T17:42:45.478399Z",
     "start_time": "2021-03-20T17:42:45.453125Z"
    }
   },
   "outputs": [
    {
     "name": "stdout",
     "output_type": "stream",
     "text": [
      "Proportion of already serving APIs in the dataset\n",
      "0.17\n",
      "Proportion of already serving APIs in each cluster\n",
      "Cluster 0 0.174\n",
      "Cluster 1 0.125\n",
      "Cluster 2 0.321\n",
      "Cluster 3 0.154\n",
      "Cluster 4 0.121\n"
     ]
    }
   ],
   "source": [
    "proportion_c0 = np.mean(df_scl[df_scl['Cluster'] == 0]['serving'])\n",
    "proportion_c1 = np.mean(df_scl[df_scl['Cluster'] == 1]['serving'])\n",
    "proportion_c2 = np.mean(df_scl[df_scl['Cluster'] == 2]['serving'])\n",
    "proportion_c3 = np.mean(df_scl[df_scl['Cluster'] == 3]['serving'])\n",
    "proportion_c4 = np.mean(df_scl[df_scl['Cluster'] == 4]['serving'])\n",
    "print('Proportion of already serving APIs in the dataset')\n",
    "print(round(np.mean(df_scl['serving']), 2))\n",
    "print('Proportion of already serving APIs in each cluster')\n",
    "print('Cluster 0', round(proportion_c0, 3))\n",
    "print('Cluster 1', round(proportion_c1, 3))\n",
    "print('Cluster 2', round(proportion_c2, 3))\n",
    "print('Cluster 3', round(proportion_c3, 3))\n",
    "print('Cluster 4', round(proportion_c4, 3))"
   ]
  },
  {
   "cell_type": "code",
   "execution_count": 46,
   "id": "conceptual-vitamin",
   "metadata": {
    "ExecuteTime": {
     "end_time": "2021-03-20T17:44:56.651097Z",
     "start_time": "2021-03-20T17:44:56.623024Z"
    }
   },
   "outputs": [
    {
     "data": {
      "text/html": [
       "<div>\n",
       "<style scoped>\n",
       "    .dataframe tbody tr th:only-of-type {\n",
       "        vertical-align: middle;\n",
       "    }\n",
       "\n",
       "    .dataframe tbody tr th {\n",
       "        vertical-align: top;\n",
       "    }\n",
       "\n",
       "    .dataframe thead th {\n",
       "        text-align: right;\n",
       "    }\n",
       "</style>\n",
       "<table border=\"1\" class=\"dataframe\">\n",
       "  <thead>\n",
       "    <tr style=\"text-align: right;\">\n",
       "      <th></th>\n",
       "      <th>Analyst value (0 - 5)</th>\n",
       "      <th>Partner value (0 - 5)</th>\n",
       "      <th>Persona value (0 - 5)</th>\n",
       "      <th>Growing market</th>\n",
       "      <th>Organic Search Volume</th>\n",
       "      <th>SEO Value (0 - 3)</th>\n",
       "      <th>Proportion of serving APIs</th>\n",
       "    </tr>\n",
       "  </thead>\n",
       "  <tbody>\n",
       "    <tr>\n",
       "      <th>Cluster_0</th>\n",
       "      <td>0.373913</td>\n",
       "      <td>0.460870</td>\n",
       "      <td>0.560870</td>\n",
       "      <td>-5.551115e-16</td>\n",
       "      <td>0.057304</td>\n",
       "      <td>0.188406</td>\n",
       "      <td>0.173913</td>\n",
       "    </tr>\n",
       "    <tr>\n",
       "      <th>Cluster_1</th>\n",
       "      <td>0.515000</td>\n",
       "      <td>0.475000</td>\n",
       "      <td>0.420000</td>\n",
       "      <td>1.000000e+00</td>\n",
       "      <td>0.451767</td>\n",
       "      <td>0.850000</td>\n",
       "      <td>0.125000</td>\n",
       "    </tr>\n",
       "    <tr>\n",
       "      <th>Cluster_2</th>\n",
       "      <td>0.457143</td>\n",
       "      <td>0.435714</td>\n",
       "      <td>0.907143</td>\n",
       "      <td>1.000000e+00</td>\n",
       "      <td>0.141135</td>\n",
       "      <td>0.321429</td>\n",
       "      <td>0.321429</td>\n",
       "    </tr>\n",
       "    <tr>\n",
       "      <th>Cluster_3</th>\n",
       "      <td>0.557692</td>\n",
       "      <td>0.446154</td>\n",
       "      <td>0.380769</td>\n",
       "      <td>-6.661338e-16</td>\n",
       "      <td>0.473133</td>\n",
       "      <td>0.826923</td>\n",
       "      <td>0.153846</td>\n",
       "    </tr>\n",
       "    <tr>\n",
       "      <th>Cluster_4</th>\n",
       "      <td>0.539394</td>\n",
       "      <td>0.424242</td>\n",
       "      <td>0.181818</td>\n",
       "      <td>1.000000e+00</td>\n",
       "      <td>0.087459</td>\n",
       "      <td>0.242424</td>\n",
       "      <td>0.121212</td>\n",
       "    </tr>\n",
       "  </tbody>\n",
       "</table>\n",
       "</div>"
      ],
      "text/plain": [
       "           Analyst value (0 - 5)  Partner value (0 - 5)  \\\n",
       "Cluster_0               0.373913               0.460870   \n",
       "Cluster_1               0.515000               0.475000   \n",
       "Cluster_2               0.457143               0.435714   \n",
       "Cluster_3               0.557692               0.446154   \n",
       "Cluster_4               0.539394               0.424242   \n",
       "\n",
       "           Persona value (0 - 5)  Growing market  Organic Search Volume  \\\n",
       "Cluster_0               0.560870   -5.551115e-16               0.057304   \n",
       "Cluster_1               0.420000    1.000000e+00               0.451767   \n",
       "Cluster_2               0.907143    1.000000e+00               0.141135   \n",
       "Cluster_3               0.380769   -6.661338e-16               0.473133   \n",
       "Cluster_4               0.181818    1.000000e+00               0.087459   \n",
       "\n",
       "           SEO Value (0 - 3)  Proportion of serving APIs  \n",
       "Cluster_0           0.188406                    0.173913  \n",
       "Cluster_1           0.850000                    0.125000  \n",
       "Cluster_2           0.321429                    0.321429  \n",
       "Cluster_3           0.826923                    0.153846  \n",
       "Cluster_4           0.242424                    0.121212  "
      ]
     },
     "execution_count": 46,
     "metadata": {},
     "output_type": "execute_result"
    }
   ],
   "source": [
    "df_centres = pd.DataFrame(kmeans.cluster_centers_)\n",
    "df_centres.columns = df_scl.columns[:-2]\n",
    "df_centres.index = ['Cluster_0', 'Cluster_1', 'Cluster_2', 'Cluster_3', 'Cluster_4']\n",
    "df_centres['Proportion of serving APIs'] = [proportion_c0, proportion_c1, proportion_c2, proportion_c3, proportion_c4]\n",
    "df_centres"
   ]
  },
  {
   "cell_type": "code",
   "execution_count": 50,
   "id": "lonely-durham",
   "metadata": {
    "ExecuteTime": {
     "end_time": "2021-03-20T17:46:45.825753Z",
     "start_time": "2021-03-20T17:46:45.820772Z"
    }
   },
   "outputs": [],
   "source": [
    "proportions = [proportion_c0, proportion_c1, proportion_c2, proportion_c3, proportion_c4]\n",
    "x_lab = ['Cluster 0', 'cluster 1', 'cluster 2', 'cluster 3', 'cluster 4']"
   ]
  },
  {
   "cell_type": "code",
   "execution_count": 57,
   "id": "august-element",
   "metadata": {
    "ExecuteTime": {
     "end_time": "2021-03-20T17:51:35.955820Z",
     "start_time": "2021-03-20T17:51:35.325679Z"
    }
   },
   "outputs": [
    {
     "data": {
      "image/png": "[encoded data removed]",
      "text/plain": [
       "<Figure size 576x360 with 1 Axes>"
      ]
     },
     "metadata": {},
     "output_type": "display_data"
    }
   ],
   "source": [
    "plt.figure(figsize=(8, 5))\n",
    "plt.bar(x = x_lab, height=proportions)\n",
    "plt.axhline(0.17, color = 'red')\n",
    "plt.title('Proportion of products being served by Tray in each cluster')\n",
    "plt.ylabel('Probability');"
   ]
  },
  {
   "cell_type": "code",
   "execution_count": 64,
   "id": "minimal-rotation",
   "metadata": {
    "ExecuteTime": {
     "end_time": "2021-03-20T17:54:53.969474Z",
     "start_time": "2021-03-20T17:54:53.494726Z"
    }
   },
   "outputs": [
    {
     "data": {
      "text/plain": [
       "<AxesSubplot:>"
      ]
     },
     "execution_count": 64,
     "metadata": {},
     "output_type": "execute_result"
    },
    {
     "data": {
      "image/png": "[encoded data removed]",
      "text/plain": [
       "<Figure size 1008x504 with 1 Axes>"
      ]
     },
     "metadata": {},
     "output_type": "display_data"
    }
   ],
   "source": [
    "fig, ax = plt.subplots(1, 1, figsize = (14, 7))\n",
    "df_centres.plot(kind = 'bar', ax = ax)"
   ]
  },
  {
   "cell_type": "markdown",
   "id": "orange-andrews",
   "metadata": {},
   "source": [
    "# K-means without growing market column"
   ]
  },
  {
   "cell_type": "code",
   "execution_count": 68,
   "id": "executed-configuration",
   "metadata": {
    "ExecuteTime": {
     "end_time": "2021-03-20T17:59:28.746705Z",
     "start_time": "2021-03-20T17:59:28.728490Z"
    }
   },
   "outputs": [],
   "source": [
    "# minmax sclaer\n",
    "X = df[['Analyst value (0 - 5)', 'Partner value (0 - 5)',\n",
    "       'Persona value (0 - 5)', 'Organic Search Volume',\n",
    "       'SEO Value (0 - 3)']]\n",
    "mm_scaler = MinMaxScaler()\n",
    "X_scl = mm_scaler.fit_transform(X)"
   ]
  },
  {
   "cell_type": "code",
   "execution_count": 69,
   "id": "tough-product",
   "metadata": {
    "ExecuteTime": {
     "end_time": "2021-03-20T17:59:30.849547Z",
     "start_time": "2021-03-20T17:59:30.835146Z"
    }
   },
   "outputs": [],
   "source": [
    "df_scl = pd.DataFrame(X_scl)\n",
    "df_scl.columns = X.columns\n",
    "df_scl['Cluster'] = pd.Series(y_kmeans)\n",
    "df_scl['serving'] = serving"
   ]
  },
  {
   "cell_type": "code",
   "execution_count": 70,
   "id": "breeding-hazard",
   "metadata": {
    "ExecuteTime": {
     "end_time": "2021-03-20T17:59:39.546328Z",
     "start_time": "2021-03-20T17:59:33.878359Z"
    }
   },
   "outputs": [],
   "source": [
    "inertia = []\n",
    "for i in range(1, 30):\n",
    "    kmeans = KMeans(n_clusters = i, \n",
    "                    random_state = 42)\n",
    "    kmeans.fit(X_scl)\n",
    "    inertia.append(kmeans.inertia_)"
   ]
  },
  {
   "cell_type": "code",
   "execution_count": 71,
   "id": "julian-arlington",
   "metadata": {
    "ExecuteTime": {
     "end_time": "2021-03-20T17:59:41.406333Z",
     "start_time": "2021-03-20T17:59:41.093911Z"
    }
   },
   "outputs": [
    {
     "name": "stdout",
     "output_type": "stream",
     "text": [
      "inertia_ is the sum of squared distances of samples to their closest cluster center\n"
     ]
    },
    {
     "data": {
      "image/png": "[encoded data removed]",
      "text/plain": [
       "<Figure size 864x360 with 1 Axes>"
      ]
     },
     "metadata": {},
     "output_type": "display_data"
    }
   ],
   "source": [
    "plt.figure(figsize = (12, 5))\n",
    "plt.plot(range(1, 30),inertia)\n",
    "plt.xlabel('Number of clusters')\n",
    "plt.ylabel('Inertia')\n",
    "plt.title('Finding optimal number of clusters');\n",
    "print('inertia_ is the sum of squared distances of samples to their closest cluster center')"
   ]
  },
  {
   "cell_type": "code",
   "execution_count": 123,
   "id": "illegal-natural",
   "metadata": {
    "ExecuteTime": {
     "end_time": "2021-03-20T18:28:24.296299Z",
     "start_time": "2021-03-20T18:28:24.069229Z"
    }
   },
   "outputs": [],
   "source": [
    "kmeans = KMeans(n_clusters = 10, random_state = 42)\n",
    "y_kmeans = kmeans.fit_predict(X_scl)"
   ]
  },
  {
   "cell_type": "code",
   "execution_count": 124,
   "id": "executive-organ",
   "metadata": {
    "ExecuteTime": {
     "end_time": "2021-03-20T18:28:25.924484Z",
     "start_time": "2021-03-20T18:28:25.907889Z"
    }
   },
   "outputs": [],
   "source": [
    "df_scl = pd.DataFrame(X_scl)\n",
    "df_scl.columns = X.columns\n",
    "df_scl['Cluster'] = pd.Series(y_kmeans)\n",
    "df_scl['serving'] = serving"
   ]
  },
  {
   "cell_type": "code",
   "execution_count": 125,
   "id": "tribal-airfare",
   "metadata": {
    "ExecuteTime": {
     "end_time": "2021-03-20T18:28:25.946619Z",
     "start_time": "2021-03-20T18:28:25.936114Z"
    }
   },
   "outputs": [
    {
     "data": {
      "text/plain": [
       "(array([0, 1, 2, 3, 4, 5, 6, 7, 8, 9], dtype=int32),\n",
       " array([17, 25, 20, 20, 24, 14, 16, 18, 24, 21]))"
      ]
     },
     "execution_count": 125,
     "metadata": {},
     "output_type": "execute_result"
    }
   ],
   "source": [
    "np.unique(np.array(df_scl['Cluster']), return_counts=True)"
   ]
  },
  {
   "cell_type": "code",
   "execution_count": 126,
   "id": "worse-vinyl",
   "metadata": {
    "ExecuteTime": {
     "end_time": "2021-03-20T18:28:25.999467Z",
     "start_time": "2021-03-20T18:28:25.951681Z"
    }
   },
   "outputs": [
    {
     "name": "stdout",
     "output_type": "stream",
     "text": [
      "Proportion of already serving APIs in the dataset\n",
      "0.17\n",
      "Proportion of already serving APIs in each cluster\n",
      "Cluster 0 0.235\n",
      "Cluster 1 0.2\n",
      "Cluster 2 0.15\n",
      "Cluster 3 0.15\n",
      "Cluster 4 0.25\n",
      "Cluster 5 0.071\n",
      "Cluster 6 0.25\n",
      "Cluster 7 0.111\n",
      "Cluster 8 0.167\n",
      "Cluster 9 0.095\n"
     ]
    }
   ],
   "source": [
    "n_cluster = 10\n",
    "proportions = []\n",
    "print('Proportion of already serving APIs in the dataset')\n",
    "print(round(np.mean(df_scl['serving']), 2))\n",
    "print('Proportion of already serving APIs in each cluster')\n",
    "for i in range(n_cluster):\n",
    "    proportion = np.mean(df_scl[df_scl['Cluster'] == i]['serving'])\n",
    "    proportions.append(proportion)\n",
    "    print(f'Cluster {i}', round(proportion, 3))"
   ]
  },
  {
   "cell_type": "code",
   "execution_count": 127,
   "id": "acknowledged-reporter",
   "metadata": {
    "ExecuteTime": {
     "end_time": "2021-03-20T18:28:26.019781Z",
     "start_time": "2021-03-20T18:28:26.005468Z"
    }
   },
   "outputs": [
    {
     "data": {
      "text/plain": [
       "[0.23529411764705882,\n",
       " 0.2,\n",
       " 0.15,\n",
       " 0.15,\n",
       " 0.25,\n",
       " 0.07142857142857142,\n",
       " 0.25,\n",
       " 0.1111111111111111,\n",
       " 0.16666666666666666,\n",
       " 0.09523809523809523]"
      ]
     },
     "execution_count": 127,
     "metadata": {},
     "output_type": "execute_result"
    }
   ],
   "source": [
    "proportions"
   ]
  },
  {
   "cell_type": "code",
   "execution_count": 225,
   "id": "novel-pharmaceutical",
   "metadata": {
    "ExecuteTime": {
     "end_time": "2021-03-21T00:11:11.896095Z",
     "start_time": "2021-03-21T00:11:11.891653Z"
    }
   },
   "outputs": [],
   "source": [
    "pipeline = Pipeline([\n",
    "    ('minmax scaler', mm_scaler),\n",
    "    ('kmeans clustering', kmeans)\n",
    "])"
   ]
  },
  {
   "cell_type": "code",
   "execution_count": 236,
   "id": "attended-circulation",
   "metadata": {
    "ExecuteTime": {
     "end_time": "2021-03-21T00:15:55.958475Z",
     "start_time": "2021-03-21T00:15:55.950340Z"
    }
   },
   "outputs": [
    {
     "data": {
      "text/plain": [
       "['tray_minmax_kmeans_pipeline.joblib']"
      ]
     },
     "execution_count": 236,
     "metadata": {},
     "output_type": "execute_result"
    }
   ],
   "source": [
    "joblib.dump(pipeline, 'tray_minmax_kmeans_pipeline.joblib')"
   ]
  },
  {
   "cell_type": "code",
   "execution_count": 227,
   "id": "chicken-beauty",
   "metadata": {
    "ExecuteTime": {
     "end_time": "2021-03-21T00:11:47.883233Z",
     "start_time": "2021-03-21T00:11:47.860358Z"
    }
   },
   "outputs": [
    {
     "data": {
      "text/html": [
       "<div>\n",
       "<style scoped>\n",
       "    .dataframe tbody tr th:only-of-type {\n",
       "        vertical-align: middle;\n",
       "    }\n",
       "\n",
       "    .dataframe tbody tr th {\n",
       "        vertical-align: top;\n",
       "    }\n",
       "\n",
       "    .dataframe thead th {\n",
       "        text-align: right;\n",
       "    }\n",
       "</style>\n",
       "<table border=\"1\" class=\"dataframe\">\n",
       "  <thead>\n",
       "    <tr style=\"text-align: right;\">\n",
       "      <th></th>\n",
       "      <th>Analyst value (0 - 5)</th>\n",
       "      <th>Partner value (0 - 5)</th>\n",
       "      <th>Persona value (0 - 5)</th>\n",
       "      <th>Growing market</th>\n",
       "      <th>Organic Search Volume</th>\n",
       "      <th>SEO Value (0 - 3)</th>\n",
       "    </tr>\n",
       "  </thead>\n",
       "  <tbody>\n",
       "    <tr>\n",
       "      <th>0</th>\n",
       "      <td>0.0</td>\n",
       "      <td>0.2</td>\n",
       "      <td>0.6</td>\n",
       "      <td>0.0</td>\n",
       "      <td>0.651150</td>\n",
       "      <td>0.666667</td>\n",
       "    </tr>\n",
       "    <tr>\n",
       "      <th>1</th>\n",
       "      <td>1.0</td>\n",
       "      <td>0.2</td>\n",
       "      <td>0.0</td>\n",
       "      <td>1.0</td>\n",
       "      <td>0.221537</td>\n",
       "      <td>0.666667</td>\n",
       "    </tr>\n",
       "  </tbody>\n",
       "</table>\n",
       "</div>"
      ],
      "text/plain": [
       "   Analyst value (0 - 5)  Partner value (0 - 5)  Persona value (0 - 5)  \\\n",
       "0                    0.0                    0.2                    0.6   \n",
       "1                    1.0                    0.2                    0.0   \n",
       "\n",
       "   Growing market  Organic Search Volume  SEO Value (0 - 3)  \n",
       "0             0.0               0.651150           0.666667  \n",
       "1             1.0               0.221537           0.666667  "
      ]
     },
     "execution_count": 227,
     "metadata": {},
     "output_type": "execute_result"
    }
   ],
   "source": [
    "X_proc.head(2)"
   ]
  },
  {
   "cell_type": "code",
   "execution_count": 233,
   "id": "stupid-innocent",
   "metadata": {
    "ExecuteTime": {
     "end_time": "2021-03-21T00:13:12.865938Z",
     "start_time": "2021-03-21T00:13:12.846636Z"
    }
   },
   "outputs": [
    {
     "data": {
      "text/html": [
       "<div>\n",
       "<style scoped>\n",
       "    .dataframe tbody tr th:only-of-type {\n",
       "        vertical-align: middle;\n",
       "    }\n",
       "\n",
       "    .dataframe tbody tr th {\n",
       "        vertical-align: top;\n",
       "    }\n",
       "\n",
       "    .dataframe thead th {\n",
       "        text-align: right;\n",
       "    }\n",
       "</style>\n",
       "<table border=\"1\" class=\"dataframe\">\n",
       "  <thead>\n",
       "    <tr style=\"text-align: right;\">\n",
       "      <th></th>\n",
       "      <th>API</th>\n",
       "      <th>Analyst value (0 - 5)</th>\n",
       "      <th>Partner value (0 - 5)</th>\n",
       "      <th>Persona value (0 - 5)</th>\n",
       "      <th>Growing market</th>\n",
       "      <th>Competitive gap</th>\n",
       "      <th>Organic Search Volume</th>\n",
       "      <th>SEO Value (0 - 3)</th>\n",
       "    </tr>\n",
       "  </thead>\n",
       "  <tbody>\n",
       "    <tr>\n",
       "      <th>0</th>\n",
       "      <td>15Five</td>\n",
       "      <td>0</td>\n",
       "      <td>1</td>\n",
       "      <td>3</td>\n",
       "      <td>False</td>\n",
       "      <td>False</td>\n",
       "      <td>1161</td>\n",
       "      <td>2</td>\n",
       "    </tr>\n",
       "  </tbody>\n",
       "</table>\n",
       "</div>"
      ],
      "text/plain": [
       "      API  Analyst value (0 - 5)  Partner value (0 - 5)  \\\n",
       "0  15Five                      0                      1   \n",
       "\n",
       "   Persona value (0 - 5)  Growing market  Competitive gap  \\\n",
       "0                      3           False            False   \n",
       "\n",
       "   Organic Search Volume  SEO Value (0 - 3)  \n",
       "0                   1161                  2  "
      ]
     },
     "execution_count": 233,
     "metadata": {},
     "output_type": "execute_result"
    }
   ],
   "source": [
    "df.head(1)"
   ]
  },
  {
   "cell_type": "code",
   "execution_count": 242,
   "id": "acceptable-poultry",
   "metadata": {
    "ExecuteTime": {
     "end_time": "2021-03-21T00:24:01.460740Z",
     "start_time": "2021-03-21T00:24:01.455066Z"
    }
   },
   "outputs": [],
   "source": [
    "df_drop = df.drop(['Growing market', 'Competitive gap', 'API'], axis = 1)"
   ]
  },
  {
   "cell_type": "code",
   "execution_count": 253,
   "id": "personal-monroe",
   "metadata": {
    "ExecuteTime": {
     "end_time": "2021-03-21T00:26:54.054959Z",
     "start_time": "2021-03-21T00:26:54.047815Z"
    }
   },
   "outputs": [],
   "source": [
    "a = pd.DataFrame({'a':[1],\n",
    "                  'b':[2]})"
   ]
  },
  {
   "cell_type": "code",
   "execution_count": 257,
   "id": "german-papua",
   "metadata": {
    "ExecuteTime": {
     "end_time": "2021-03-21T00:36:03.414630Z",
     "start_time": "2021-03-21T00:36:03.407880Z"
    }
   },
   "outputs": [
    {
     "data": {
      "text/plain": [
       "1783"
      ]
     },
     "execution_count": 257,
     "metadata": {},
     "output_type": "execute_result"
    }
   ],
   "source": [
    "max(df['Organic Search Volume'])"
   ]
  },
  {
   "cell_type": "code",
   "execution_count": 248,
   "id": "extraordinary-noise",
   "metadata": {
    "ExecuteTime": {
     "end_time": "2021-03-21T00:24:35.694063Z",
     "start_time": "2021-03-21T00:24:35.688743Z"
    }
   },
   "outputs": [],
   "source": [
    "df_drop.columns = [4,1,3,44,5]"
   ]
  },
  {
   "cell_type": "code",
   "execution_count": 249,
   "id": "terminal-missouri",
   "metadata": {
    "ExecuteTime": {
     "end_time": "2021-03-21T00:24:37.394560Z",
     "start_time": "2021-03-21T00:24:37.382435Z"
    }
   },
   "outputs": [
    {
     "data": {
      "text/plain": [
       "array([7, 4, 7, 3, 8, 0, 3, 9, 2, 8, 3, 1, 8, 1, 9, 9, 4, 5, 3, 4, 4, 6,\n",
       "       8, 4, 1, 8, 1, 6, 2, 9, 4, 1, 0, 3, 2, 8, 3, 2, 3, 6, 2, 6, 0, 0,\n",
       "       4, 1, 0, 2, 9, 8, 7, 4, 9, 2, 5, 6, 4, 3, 2, 0, 0, 7, 4, 6, 7, 3,\n",
       "       7, 9, 1, 1, 0, 6, 0, 8, 6, 8, 4, 0, 9, 3, 4, 9, 9, 0, 5, 0, 4, 8,\n",
       "       2, 4, 2, 8, 1, 2, 3, 6, 7, 8, 5, 4, 3, 6, 0, 9, 9, 7, 1, 7, 2, 8,\n",
       "       8, 1, 9, 3, 8, 5, 4, 5, 6, 3, 8, 7, 1, 4, 3, 4, 1, 5, 8, 9, 4, 8,\n",
       "       7, 5, 1, 5, 3, 2, 2, 1, 0, 1, 2, 1, 5, 9, 7, 6, 8, 4, 1, 5, 9, 1,\n",
       "       7, 8, 3, 7, 3, 0, 1, 8, 1, 8, 4, 1, 4, 6, 9, 1, 6, 9, 1, 2, 0, 8,\n",
       "       2, 7, 1, 2, 4, 9, 9, 5, 8, 4, 3, 9, 5, 7, 5, 7, 3, 0, 6, 7, 6, 2,\n",
       "       2], dtype=int32)"
      ]
     },
     "execution_count": 249,
     "metadata": {},
     "output_type": "execute_result"
    }
   ],
   "source": [
    "pipeline.predict(df_drop)"
   ]
  },
  {
   "cell_type": "code",
   "execution_count": 186,
   "id": "sonic-railway",
   "metadata": {
    "ExecuteTime": {
     "end_time": "2021-03-20T20:10:40.277030Z",
     "start_time": "2021-03-20T20:10:39.846748Z"
    }
   },
   "outputs": [
    {
     "data": {
      "text/plain": [
       "<matplotlib.lines.Line2D at 0x7f55f22523d0>"
      ]
     },
     "execution_count": 186,
     "metadata": {},
     "output_type": "execute_result"
    },
    {
     "data": {
      "image/png": "[encoded data removed]",
      "text/plain": [
       "<Figure size 1296x360 with 1 Axes>"
      ]
     },
     "metadata": {},
     "output_type": "display_data"
    }
   ],
   "source": [
    "plt.figure(figsize=(18, 5))\n",
    "df_centres.sort_values('Proportion of serving APIs', ascending = False)['Proportion of serving APIs'].plot(kind = 'bar', fontsize = 15)\n",
    "plt.ylabel('Probability', fontsize=15)\n",
    "plt.title('Probability of a product being served by Tray', fontsize=15)\n",
    "plt.axhline(0.17, color = 'red')"
   ]
  },
  {
   "cell_type": "code",
   "execution_count": 131,
   "id": "billion-despite",
   "metadata": {
    "ExecuteTime": {
     "end_time": "2021-03-20T18:35:29.539008Z",
     "start_time": "2021-03-20T18:35:29.519436Z"
    }
   },
   "outputs": [
    {
     "data": {
      "text/html": [
       "<div>\n",
       "<style scoped>\n",
       "    .dataframe tbody tr th:only-of-type {\n",
       "        vertical-align: middle;\n",
       "    }\n",
       "\n",
       "    .dataframe tbody tr th {\n",
       "        vertical-align: top;\n",
       "    }\n",
       "\n",
       "    .dataframe thead th {\n",
       "        text-align: right;\n",
       "    }\n",
       "</style>\n",
       "<table border=\"1\" class=\"dataframe\">\n",
       "  <thead>\n",
       "    <tr style=\"text-align: right;\">\n",
       "      <th></th>\n",
       "      <th>Analyst value (0 - 5)</th>\n",
       "      <th>Partner value (0 - 5)</th>\n",
       "      <th>Persona value (0 - 5)</th>\n",
       "      <th>Organic Search Volume</th>\n",
       "      <th>SEO Value (0 - 3)</th>\n",
       "      <th>Proportion of serving APIs</th>\n",
       "      <th>Sample_count</th>\n",
       "    </tr>\n",
       "  </thead>\n",
       "  <tbody>\n",
       "    <tr>\n",
       "      <th>Cluster 0</th>\n",
       "      <td>0.200000</td>\n",
       "      <td>0.094118</td>\n",
       "      <td>0.858824</td>\n",
       "      <td>0.117581</td>\n",
       "      <td>0.294118</td>\n",
       "      <td>0.235294</td>\n",
       "      <td>17</td>\n",
       "    </tr>\n",
       "    <tr>\n",
       "      <th>Cluster 1</th>\n",
       "      <td>0.808000</td>\n",
       "      <td>0.392000</td>\n",
       "      <td>0.720000</td>\n",
       "      <td>0.028603</td>\n",
       "      <td>0.133333</td>\n",
       "      <td>0.200000</td>\n",
       "      <td>25</td>\n",
       "    </tr>\n",
       "    <tr>\n",
       "      <th>Cluster 2</th>\n",
       "      <td>0.250000</td>\n",
       "      <td>0.750000</td>\n",
       "      <td>0.150000</td>\n",
       "      <td>0.312900</td>\n",
       "      <td>0.816667</td>\n",
       "      <td>0.150000</td>\n",
       "      <td>20</td>\n",
       "    </tr>\n",
       "    <tr>\n",
       "      <th>Cluster 3</th>\n",
       "      <td>0.640000</td>\n",
       "      <td>0.230000</td>\n",
       "      <td>0.680000</td>\n",
       "      <td>0.662479</td>\n",
       "      <td>0.916667</td>\n",
       "      <td>0.150000</td>\n",
       "      <td>20</td>\n",
       "    </tr>\n",
       "    <tr>\n",
       "      <th>Cluster 4</th>\n",
       "      <td>0.808333</td>\n",
       "      <td>0.191667</td>\n",
       "      <td>0.133333</td>\n",
       "      <td>0.238129</td>\n",
       "      <td>0.666667</td>\n",
       "      <td>0.250000</td>\n",
       "      <td>24</td>\n",
       "    </tr>\n",
       "    <tr>\n",
       "      <th>Cluster 5</th>\n",
       "      <td>0.328571</td>\n",
       "      <td>0.842857</td>\n",
       "      <td>0.242857</td>\n",
       "      <td>0.003085</td>\n",
       "      <td>0.023810</td>\n",
       "      <td>0.071429</td>\n",
       "      <td>14</td>\n",
       "    </tr>\n",
       "    <tr>\n",
       "      <th>Cluster 6</th>\n",
       "      <td>0.200000</td>\n",
       "      <td>0.862500</td>\n",
       "      <td>0.912500</td>\n",
       "      <td>0.122827</td>\n",
       "      <td>0.375000</td>\n",
       "      <td>0.250000</td>\n",
       "      <td>16</td>\n",
       "    </tr>\n",
       "    <tr>\n",
       "      <th>Cluster 7</th>\n",
       "      <td>0.200000</td>\n",
       "      <td>0.144444</td>\n",
       "      <td>0.366667</td>\n",
       "      <td>0.545460</td>\n",
       "      <td>0.796296</td>\n",
       "      <td>0.111111</td>\n",
       "      <td>18</td>\n",
       "    </tr>\n",
       "    <tr>\n",
       "      <th>Cluster 8</th>\n",
       "      <td>0.775000</td>\n",
       "      <td>0.866667</td>\n",
       "      <td>0.508333</td>\n",
       "      <td>0.416363</td>\n",
       "      <td>0.791667</td>\n",
       "      <td>0.166667</td>\n",
       "      <td>24</td>\n",
       "    </tr>\n",
       "    <tr>\n",
       "      <th>Cluster 9</th>\n",
       "      <td>0.314286</td>\n",
       "      <td>0.238095</td>\n",
       "      <td>0.219048</td>\n",
       "      <td>0.113880</td>\n",
       "      <td>0.190476</td>\n",
       "      <td>0.095238</td>\n",
       "      <td>21</td>\n",
       "    </tr>\n",
       "  </tbody>\n",
       "</table>\n",
       "</div>"
      ],
      "text/plain": [
       "           Analyst value (0 - 5)  Partner value (0 - 5)  \\\n",
       "Cluster 0               0.200000               0.094118   \n",
       "Cluster 1               0.808000               0.392000   \n",
       "Cluster 2               0.250000               0.750000   \n",
       "Cluster 3               0.640000               0.230000   \n",
       "Cluster 4               0.808333               0.191667   \n",
       "Cluster 5               0.328571               0.842857   \n",
       "Cluster 6               0.200000               0.862500   \n",
       "Cluster 7               0.200000               0.144444   \n",
       "Cluster 8               0.775000               0.866667   \n",
       "Cluster 9               0.314286               0.238095   \n",
       "\n",
       "           Persona value (0 - 5)  Organic Search Volume  SEO Value (0 - 3)  \\\n",
       "Cluster 0               0.858824               0.117581           0.294118   \n",
       "Cluster 1               0.720000               0.028603           0.133333   \n",
       "Cluster 2               0.150000               0.312900           0.816667   \n",
       "Cluster 3               0.680000               0.662479           0.916667   \n",
       "Cluster 4               0.133333               0.238129           0.666667   \n",
       "Cluster 5               0.242857               0.003085           0.023810   \n",
       "Cluster 6               0.912500               0.122827           0.375000   \n",
       "Cluster 7               0.366667               0.545460           0.796296   \n",
       "Cluster 8               0.508333               0.416363           0.791667   \n",
       "Cluster 9               0.219048               0.113880           0.190476   \n",
       "\n",
       "           Proportion of serving APIs  Sample_count  \n",
       "Cluster 0                    0.235294            17  \n",
       "Cluster 1                    0.200000            25  \n",
       "Cluster 2                    0.150000            20  \n",
       "Cluster 3                    0.150000            20  \n",
       "Cluster 4                    0.250000            24  \n",
       "Cluster 5                    0.071429            14  \n",
       "Cluster 6                    0.250000            16  \n",
       "Cluster 7                    0.111111            18  \n",
       "Cluster 8                    0.166667            24  \n",
       "Cluster 9                    0.095238            21  "
      ]
     },
     "execution_count": 131,
     "metadata": {},
     "output_type": "execute_result"
    }
   ],
   "source": [
    "df_centres"
   ]
  },
  {
   "cell_type": "code",
   "execution_count": null,
   "id": "other-gibson",
   "metadata": {},
   "outputs": [],
   "source": [
    "df.plot()"
   ]
  },
  {
   "cell_type": "code",
   "execution_count": 188,
   "id": "nervous-matthew",
   "metadata": {
    "ExecuteTime": {
     "end_time": "2021-03-20T20:12:43.845303Z",
     "start_time": "2021-03-20T20:12:43.384753Z"
    }
   },
   "outputs": [
    {
     "data": {
      "image/png": "[encoded data removed]",
      "text/plain": [
       "<Figure size 1008x504 with 1 Axes>"
      ]
     },
     "metadata": {},
     "output_type": "display_data"
    }
   ],
   "source": [
    "df_centres = pd.DataFrame(kmeans.cluster_centers_)\n",
    "df_centres.columns = df_scl.columns[:-2]\n",
    "df_centres.index = [f'Cluster {i}' for i in range(n_cluster)]\n",
    "df_centres['Proportion of serving APIs'] = proportions\n",
    "df_centres['Sample_count'] = np.unique(np.array(df_scl['Cluster']), return_counts=True)[-1]\n",
    "fig, ax = plt.subplots(figsize = (14, 7))\n",
    "df_centres.drop('Sample_count', axis = 1).sort_values(\n",
    "    'Proportion of serving APIs', ascending = False).iloc[:4,:].plot(\n",
    "    kind = 'bar', ax = ax, fontsize = 15).legend(fontsize = 13, loc='best', bbox_to_anchor=(0.75, 0., 0.5, 0.5))\n",
    "plt.ylabel('Valuse scaled between 0 and 1', fontsize = 15);"
   ]
  },
  {
   "cell_type": "code",
   "execution_count": 130,
   "id": "corresponding-understanding",
   "metadata": {
    "ExecuteTime": {
     "end_time": "2021-03-20T18:28:37.498066Z",
     "start_time": "2021-03-20T18:28:37.475144Z"
    }
   },
   "outputs": [
    {
     "data": {
      "text/html": [
       "<div>\n",
       "<style scoped>\n",
       "    .dataframe tbody tr th:only-of-type {\n",
       "        vertical-align: middle;\n",
       "    }\n",
       "\n",
       "    .dataframe tbody tr th {\n",
       "        vertical-align: top;\n",
       "    }\n",
       "\n",
       "    .dataframe thead th {\n",
       "        text-align: right;\n",
       "    }\n",
       "</style>\n",
       "<table border=\"1\" class=\"dataframe\">\n",
       "  <thead>\n",
       "    <tr style=\"text-align: right;\">\n",
       "      <th></th>\n",
       "      <th>Analyst value (0 - 5)</th>\n",
       "      <th>Partner value (0 - 5)</th>\n",
       "      <th>Persona value (0 - 5)</th>\n",
       "      <th>Organic Search Volume</th>\n",
       "      <th>SEO Value (0 - 3)</th>\n",
       "      <th>Proportion of serving APIs</th>\n",
       "      <th>Sample_count</th>\n",
       "    </tr>\n",
       "  </thead>\n",
       "  <tbody>\n",
       "    <tr>\n",
       "      <th>Cluster 4</th>\n",
       "      <td>0.808333</td>\n",
       "      <td>0.191667</td>\n",
       "      <td>0.133333</td>\n",
       "      <td>0.238129</td>\n",
       "      <td>0.666667</td>\n",
       "      <td>0.250000</td>\n",
       "      <td>24</td>\n",
       "    </tr>\n",
       "    <tr>\n",
       "      <th>Cluster 6</th>\n",
       "      <td>0.200000</td>\n",
       "      <td>0.862500</td>\n",
       "      <td>0.912500</td>\n",
       "      <td>0.122827</td>\n",
       "      <td>0.375000</td>\n",
       "      <td>0.250000</td>\n",
       "      <td>16</td>\n",
       "    </tr>\n",
       "    <tr>\n",
       "      <th>Cluster 0</th>\n",
       "      <td>0.200000</td>\n",
       "      <td>0.094118</td>\n",
       "      <td>0.858824</td>\n",
       "      <td>0.117581</td>\n",
       "      <td>0.294118</td>\n",
       "      <td>0.235294</td>\n",
       "      <td>17</td>\n",
       "    </tr>\n",
       "    <tr>\n",
       "      <th>Cluster 1</th>\n",
       "      <td>0.808000</td>\n",
       "      <td>0.392000</td>\n",
       "      <td>0.720000</td>\n",
       "      <td>0.028603</td>\n",
       "      <td>0.133333</td>\n",
       "      <td>0.200000</td>\n",
       "      <td>25</td>\n",
       "    </tr>\n",
       "    <tr>\n",
       "      <th>Cluster 8</th>\n",
       "      <td>0.775000</td>\n",
       "      <td>0.866667</td>\n",
       "      <td>0.508333</td>\n",
       "      <td>0.416363</td>\n",
       "      <td>0.791667</td>\n",
       "      <td>0.166667</td>\n",
       "      <td>24</td>\n",
       "    </tr>\n",
       "    <tr>\n",
       "      <th>Cluster 2</th>\n",
       "      <td>0.250000</td>\n",
       "      <td>0.750000</td>\n",
       "      <td>0.150000</td>\n",
       "      <td>0.312900</td>\n",
       "      <td>0.816667</td>\n",
       "      <td>0.150000</td>\n",
       "      <td>20</td>\n",
       "    </tr>\n",
       "    <tr>\n",
       "      <th>Cluster 3</th>\n",
       "      <td>0.640000</td>\n",
       "      <td>0.230000</td>\n",
       "      <td>0.680000</td>\n",
       "      <td>0.662479</td>\n",
       "      <td>0.916667</td>\n",
       "      <td>0.150000</td>\n",
       "      <td>20</td>\n",
       "    </tr>\n",
       "    <tr>\n",
       "      <th>Cluster 7</th>\n",
       "      <td>0.200000</td>\n",
       "      <td>0.144444</td>\n",
       "      <td>0.366667</td>\n",
       "      <td>0.545460</td>\n",
       "      <td>0.796296</td>\n",
       "      <td>0.111111</td>\n",
       "      <td>18</td>\n",
       "    </tr>\n",
       "    <tr>\n",
       "      <th>Cluster 9</th>\n",
       "      <td>0.314286</td>\n",
       "      <td>0.238095</td>\n",
       "      <td>0.219048</td>\n",
       "      <td>0.113880</td>\n",
       "      <td>0.190476</td>\n",
       "      <td>0.095238</td>\n",
       "      <td>21</td>\n",
       "    </tr>\n",
       "    <tr>\n",
       "      <th>Cluster 5</th>\n",
       "      <td>0.328571</td>\n",
       "      <td>0.842857</td>\n",
       "      <td>0.242857</td>\n",
       "      <td>0.003085</td>\n",
       "      <td>0.023810</td>\n",
       "      <td>0.071429</td>\n",
       "      <td>14</td>\n",
       "    </tr>\n",
       "  </tbody>\n",
       "</table>\n",
       "</div>"
      ],
      "text/plain": [
       "           Analyst value (0 - 5)  Partner value (0 - 5)  \\\n",
       "Cluster 4               0.808333               0.191667   \n",
       "Cluster 6               0.200000               0.862500   \n",
       "Cluster 0               0.200000               0.094118   \n",
       "Cluster 1               0.808000               0.392000   \n",
       "Cluster 8               0.775000               0.866667   \n",
       "Cluster 2               0.250000               0.750000   \n",
       "Cluster 3               0.640000               0.230000   \n",
       "Cluster 7               0.200000               0.144444   \n",
       "Cluster 9               0.314286               0.238095   \n",
       "Cluster 5               0.328571               0.842857   \n",
       "\n",
       "           Persona value (0 - 5)  Organic Search Volume  SEO Value (0 - 3)  \\\n",
       "Cluster 4               0.133333               0.238129           0.666667   \n",
       "Cluster 6               0.912500               0.122827           0.375000   \n",
       "Cluster 0               0.858824               0.117581           0.294118   \n",
       "Cluster 1               0.720000               0.028603           0.133333   \n",
       "Cluster 8               0.508333               0.416363           0.791667   \n",
       "Cluster 2               0.150000               0.312900           0.816667   \n",
       "Cluster 3               0.680000               0.662479           0.916667   \n",
       "Cluster 7               0.366667               0.545460           0.796296   \n",
       "Cluster 9               0.219048               0.113880           0.190476   \n",
       "Cluster 5               0.242857               0.003085           0.023810   \n",
       "\n",
       "           Proportion of serving APIs  Sample_count  \n",
       "Cluster 4                    0.250000            24  \n",
       "Cluster 6                    0.250000            16  \n",
       "Cluster 0                    0.235294            17  \n",
       "Cluster 1                    0.200000            25  \n",
       "Cluster 8                    0.166667            24  \n",
       "Cluster 2                    0.150000            20  \n",
       "Cluster 3                    0.150000            20  \n",
       "Cluster 7                    0.111111            18  \n",
       "Cluster 9                    0.095238            21  \n",
       "Cluster 5                    0.071429            14  "
      ]
     },
     "execution_count": 130,
     "metadata": {},
     "output_type": "execute_result"
    }
   ],
   "source": [
    "df_centres.sort_values('Proportion of serving APIs', ascending = False)"
   ]
  },
  {
   "cell_type": "markdown",
   "id": "liquid-particular",
   "metadata": {},
   "source": [
    "- Historic data\n",
    "- Future suggestion"
   ]
  },
  {
   "cell_type": "code",
   "execution_count": 160,
   "id": "sporting-pontiac",
   "metadata": {
    "ExecuteTime": {
     "end_time": "2021-03-20T19:41:35.202129Z",
     "start_time": "2021-03-20T19:41:35.186247Z"
    }
   },
   "outputs": [
    {
     "data": {
      "text/plain": [
       "0.5294117647058824"
      ]
     },
     "execution_count": 160,
     "metadata": {},
     "output_type": "execute_result"
    }
   ],
   "source": [
    "np.mean(df[df['serving']]['Growing market'])"
   ]
  },
  {
   "cell_type": "code",
   "execution_count": 164,
   "id": "corresponding-protest",
   "metadata": {
    "ExecuteTime": {
     "end_time": "2021-03-20T19:45:33.350693Z",
     "start_time": "2021-03-20T19:45:33.344629Z"
    }
   },
   "outputs": [],
   "source": [
    "df['Cluster'] = y_kmeans"
   ]
  },
  {
   "cell_type": "code",
   "execution_count": 171,
   "id": "racial-title",
   "metadata": {
    "ExecuteTime": {
     "end_time": "2021-03-20T19:58:11.856796Z",
     "start_time": "2021-03-20T19:58:09.689829Z"
    }
   },
   "outputs": [
    {
     "data": {
      "text/plain": [
       "<matplotlib.collections.PathCollection at 0x7f55f2c35250>"
      ]
     },
     "execution_count": 171,
     "metadata": {},
     "output_type": "execute_result"
    },
    {
     "data": {
      "image/png": "[encoded data removed]",
      "text/plain": [
       "<Figure size 432x288 with 1 Axes>"
      ]
     },
     "metadata": {},
     "output_type": "display_data"
    }
   ],
   "source": [
    "plt.scatter(x = df[df['Cluster'] == 8]['Analyst value (0 - 5)'], y = df[df['Cluster'] == 8]['Partner value (0 - 5)'])"
   ]
  },
  {
   "cell_type": "code",
   "execution_count": 177,
   "id": "demographic-sheffield",
   "metadata": {
    "ExecuteTime": {
     "end_time": "2021-03-20T20:03:55.649327Z",
     "start_time": "2021-03-20T20:03:55.589305Z"
    }
   },
   "outputs": [
    {
     "data": {
      "text/html": [
       "<style  type=\"text/css\" >\n",
       "#T_90831_row0_col0,#T_90831_row0_col1,#T_90831_row0_col2,#T_90831_row0_col3,#T_90831_row0_col4,#T_90831_row0_col5,#T_90831_row0_col6,#T_90831_row0_col7,#T_90831_row0_col8,#T_90831_row1_col0,#T_90831_row1_col1,#T_90831_row1_col2,#T_90831_row1_col3,#T_90831_row1_col4,#T_90831_row1_col5,#T_90831_row1_col6,#T_90831_row1_col7,#T_90831_row1_col8,#T_90831_row2_col0,#T_90831_row2_col1,#T_90831_row2_col2,#T_90831_row2_col3,#T_90831_row2_col4,#T_90831_row2_col5,#T_90831_row2_col6,#T_90831_row2_col7,#T_90831_row2_col8,#T_90831_row3_col0,#T_90831_row3_col1,#T_90831_row3_col2,#T_90831_row3_col3,#T_90831_row3_col4,#T_90831_row3_col5,#T_90831_row3_col6,#T_90831_row3_col7,#T_90831_row3_col8,#T_90831_row4_col0,#T_90831_row4_col1,#T_90831_row4_col2,#T_90831_row4_col3,#T_90831_row4_col4,#T_90831_row4_col5,#T_90831_row4_col6,#T_90831_row4_col7,#T_90831_row4_col8,#T_90831_row5_col0,#T_90831_row5_col1,#T_90831_row5_col2,#T_90831_row5_col3,#T_90831_row5_col4,#T_90831_row5_col5,#T_90831_row5_col6,#T_90831_row5_col7,#T_90831_row5_col8,#T_90831_row6_col0,#T_90831_row6_col1,#T_90831_row6_col2,#T_90831_row6_col3,#T_90831_row6_col4,#T_90831_row6_col5,#T_90831_row6_col6,#T_90831_row6_col7,#T_90831_row6_col8,#T_90831_row7_col0,#T_90831_row7_col1,#T_90831_row7_col2,#T_90831_row7_col3,#T_90831_row7_col4,#T_90831_row7_col5,#T_90831_row7_col6,#T_90831_row7_col7,#T_90831_row7_col8,#T_90831_row8_col0,#T_90831_row8_col1,#T_90831_row8_col2,#T_90831_row8_col3,#T_90831_row8_col4,#T_90831_row8_col5,#T_90831_row8_col6,#T_90831_row8_col7,#T_90831_row8_col8,#T_90831_row9_col0,#T_90831_row9_col1,#T_90831_row9_col2,#T_90831_row9_col3,#T_90831_row9_col4,#T_90831_row9_col5,#T_90831_row9_col6,#T_90831_row9_col7,#T_90831_row9_col8,#T_90831_row10_col0,#T_90831_row10_col1,#T_90831_row10_col2,#T_90831_row10_col3,#T_90831_row10_col4,#T_90831_row10_col5,#T_90831_row10_col6,#T_90831_row10_col7,#T_90831_row10_col8,#T_90831_row11_col0,#T_90831_row11_col1,#T_90831_row11_col2,#T_90831_row11_col3,#T_90831_row11_col4,#T_90831_row11_col5,#T_90831_row11_col6,#T_90831_row11_col7,#T_90831_row11_col8,#T_90831_row12_col0,#T_90831_row12_col1,#T_90831_row12_col2,#T_90831_row12_col3,#T_90831_row12_col4,#T_90831_row12_col5,#T_90831_row12_col6,#T_90831_row12_col7,#T_90831_row12_col8,#T_90831_row13_col0,#T_90831_row13_col1,#T_90831_row13_col2,#T_90831_row13_col3,#T_90831_row13_col4,#T_90831_row13_col5,#T_90831_row13_col6,#T_90831_row13_col7,#T_90831_row13_col8,#T_90831_row14_col0,#T_90831_row14_col1,#T_90831_row14_col2,#T_90831_row14_col3,#T_90831_row14_col4,#T_90831_row14_col5,#T_90831_row14_col6,#T_90831_row14_col7,#T_90831_row14_col8,#T_90831_row15_col0,#T_90831_row15_col1,#T_90831_row15_col2,#T_90831_row15_col3,#T_90831_row15_col4,#T_90831_row15_col5,#T_90831_row15_col6,#T_90831_row15_col7,#T_90831_row15_col8,#T_90831_row16_col0,#T_90831_row16_col1,#T_90831_row16_col2,#T_90831_row16_col3,#T_90831_row16_col4,#T_90831_row16_col5,#T_90831_row16_col6,#T_90831_row16_col7,#T_90831_row16_col8,#T_90831_row17_col0,#T_90831_row17_col1,#T_90831_row17_col2,#T_90831_row17_col3,#T_90831_row17_col4,#T_90831_row17_col5,#T_90831_row17_col6,#T_90831_row17_col7,#T_90831_row17_col8,#T_90831_row18_col0,#T_90831_row18_col1,#T_90831_row18_col2,#T_90831_row18_col3,#T_90831_row18_col4,#T_90831_row18_col5,#T_90831_row18_col6,#T_90831_row18_col7,#T_90831_row18_col8,#T_90831_row19_col0,#T_90831_row19_col1,#T_90831_row19_col2,#T_90831_row19_col3,#T_90831_row19_col4,#T_90831_row19_col5,#T_90831_row19_col6,#T_90831_row19_col7,#T_90831_row19_col8,#T_90831_row20_col0,#T_90831_row20_col1,#T_90831_row20_col2,#T_90831_row20_col3,#T_90831_row20_col4,#T_90831_row20_col5,#T_90831_row20_col6,#T_90831_row20_col7,#T_90831_row20_col8,#T_90831_row21_col0,#T_90831_row21_col1,#T_90831_row21_col2,#T_90831_row21_col3,#T_90831_row21_col4,#T_90831_row21_col5,#T_90831_row21_col6,#T_90831_row21_col7,#T_90831_row21_col8,#T_90831_row22_col0,#T_90831_row22_col1,#T_90831_row22_col2,#T_90831_row22_col3,#T_90831_row22_col4,#T_90831_row22_col5,#T_90831_row22_col6,#T_90831_row22_col7,#T_90831_row22_col8,#T_90831_row23_col0,#T_90831_row23_col1,#T_90831_row23_col2,#T_90831_row23_col3,#T_90831_row23_col4,#T_90831_row23_col5,#T_90831_row23_col6,#T_90831_row23_col7,#T_90831_row23_col8{\n",
       "            font-size:  15pt;\n",
       "        }</style><table id=\"T_90831_\" ><thead>    <tr>        <th class=\"blank level0\" ></th>        <th class=\"col_heading level0 col0\" >API</th>        <th class=\"col_heading level0 col1\" >Analyst value (0 - 5)</th>        <th class=\"col_heading level0 col2\" >Partner value (0 - 5)</th>        <th class=\"col_heading level0 col3\" >Persona value (0 - 5)</th>        <th class=\"col_heading level0 col4\" >Growing market</th>        <th class=\"col_heading level0 col5\" >Organic Search Volume</th>        <th class=\"col_heading level0 col6\" >SEO Value (0 - 3)</th>        <th class=\"col_heading level0 col7\" >serving</th>        <th class=\"col_heading level0 col8\" >Cluster</th>    </tr></thead><tbody>\n",
       "                <tr>\n",
       "                        <th id=\"T_90831_level0_row0\" class=\"row_heading level0 row0\" >4</th>\n",
       "                        <td id=\"T_90831_row0_col0\" class=\"data row0 col0\" >ActivTrak</td>\n",
       "                        <td id=\"T_90831_row0_col1\" class=\"data row0 col1\" >2</td>\n",
       "                        <td id=\"T_90831_row0_col2\" class=\"data row0 col2\" >5</td>\n",
       "                        <td id=\"T_90831_row0_col3\" class=\"data row0 col3\" >3</td>\n",
       "                        <td id=\"T_90831_row0_col4\" class=\"data row0 col4\" >False</td>\n",
       "                        <td id=\"T_90831_row0_col5\" class=\"data row0 col5\" >996</td>\n",
       "                        <td id=\"T_90831_row0_col6\" class=\"data row0 col6\" >2</td>\n",
       "                        <td id=\"T_90831_row0_col7\" class=\"data row0 col7\" >False</td>\n",
       "                        <td id=\"T_90831_row0_col8\" class=\"data row0 col8\" >8</td>\n",
       "            </tr>\n",
       "            <tr>\n",
       "                        <th id=\"T_90831_level0_row1\" class=\"row_heading level0 row1\" >9</th>\n",
       "                        <td id=\"T_90831_row1_col0\" class=\"data row1 col0\" >Aircall</td>\n",
       "                        <td id=\"T_90831_row1_col1\" class=\"data row1 col1\" >4</td>\n",
       "                        <td id=\"T_90831_row1_col2\" class=\"data row1 col2\" >5</td>\n",
       "                        <td id=\"T_90831_row1_col3\" class=\"data row1 col3\" >1</td>\n",
       "                        <td id=\"T_90831_row1_col4\" class=\"data row1 col4\" >True</td>\n",
       "                        <td id=\"T_90831_row1_col5\" class=\"data row1 col5\" >491</td>\n",
       "                        <td id=\"T_90831_row1_col6\" class=\"data row1 col6\" >1</td>\n",
       "                        <td id=\"T_90831_row1_col7\" class=\"data row1 col7\" >True</td>\n",
       "                        <td id=\"T_90831_row1_col8\" class=\"data row1 col8\" >8</td>\n",
       "            </tr>\n",
       "            <tr>\n",
       "                        <th id=\"T_90831_level0_row2\" class=\"row_heading level0 row2\" >12</th>\n",
       "                        <td id=\"T_90831_row2_col0\" class=\"data row2 col0\" >Anvyl</td>\n",
       "                        <td id=\"T_90831_row2_col1\" class=\"data row2 col1\" >4</td>\n",
       "                        <td id=\"T_90831_row2_col2\" class=\"data row2 col2\" >5</td>\n",
       "                        <td id=\"T_90831_row2_col3\" class=\"data row2 col3\" >1</td>\n",
       "                        <td id=\"T_90831_row2_col4\" class=\"data row2 col4\" >False</td>\n",
       "                        <td id=\"T_90831_row2_col5\" class=\"data row2 col5\" >299</td>\n",
       "                        <td id=\"T_90831_row2_col6\" class=\"data row2 col6\" >2</td>\n",
       "                        <td id=\"T_90831_row2_col7\" class=\"data row2 col7\" >False</td>\n",
       "                        <td id=\"T_90831_row2_col8\" class=\"data row2 col8\" >8</td>\n",
       "            </tr>\n",
       "            <tr>\n",
       "                        <th id=\"T_90831_level0_row3\" class=\"row_heading level0 row3\" >22</th>\n",
       "                        <td id=\"T_90831_row3_col0\" class=\"data row3 col0\" >Badger Maps</td>\n",
       "                        <td id=\"T_90831_row3_col1\" class=\"data row3 col1\" >3</td>\n",
       "                        <td id=\"T_90831_row3_col2\" class=\"data row3 col2\" >5</td>\n",
       "                        <td id=\"T_90831_row3_col3\" class=\"data row3 col3\" >3</td>\n",
       "                        <td id=\"T_90831_row3_col4\" class=\"data row3 col4\" >True</td>\n",
       "                        <td id=\"T_90831_row3_col5\" class=\"data row3 col5\" >307</td>\n",
       "                        <td id=\"T_90831_row3_col6\" class=\"data row3 col6\" >3</td>\n",
       "                        <td id=\"T_90831_row3_col7\" class=\"data row3 col7\" >False</td>\n",
       "                        <td id=\"T_90831_row3_col8\" class=\"data row3 col8\" >8</td>\n",
       "            </tr>\n",
       "            <tr>\n",
       "                        <th id=\"T_90831_level0_row4\" class=\"row_heading level0 row4\" >25</th>\n",
       "                        <td id=\"T_90831_row4_col0\" class=\"data row4 col0\" >BetterWorks</td>\n",
       "                        <td id=\"T_90831_row4_col1\" class=\"data row4 col1\" >5</td>\n",
       "                        <td id=\"T_90831_row4_col2\" class=\"data row4 col2\" >4</td>\n",
       "                        <td id=\"T_90831_row4_col3\" class=\"data row4 col3\" >5</td>\n",
       "                        <td id=\"T_90831_row4_col4\" class=\"data row4 col4\" >True</td>\n",
       "                        <td id=\"T_90831_row4_col5\" class=\"data row4 col5\" >622</td>\n",
       "                        <td id=\"T_90831_row4_col6\" class=\"data row4 col6\" >3</td>\n",
       "                        <td id=\"T_90831_row4_col7\" class=\"data row4 col7\" >False</td>\n",
       "                        <td id=\"T_90831_row4_col8\" class=\"data row4 col8\" >8</td>\n",
       "            </tr>\n",
       "            <tr>\n",
       "                        <th id=\"T_90831_level0_row5\" class=\"row_heading level0 row5\" >35</th>\n",
       "                        <td id=\"T_90831_row5_col0\" class=\"data row5 col0\" >CallTrackingMetrics</td>\n",
       "                        <td id=\"T_90831_row5_col1\" class=\"data row5 col1\" >4</td>\n",
       "                        <td id=\"T_90831_row5_col2\" class=\"data row5 col2\" >4</td>\n",
       "                        <td id=\"T_90831_row5_col3\" class=\"data row5 col3\" >1</td>\n",
       "                        <td id=\"T_90831_row5_col4\" class=\"data row5 col4\" >False</td>\n",
       "                        <td id=\"T_90831_row5_col5\" class=\"data row5 col5\" >1783</td>\n",
       "                        <td id=\"T_90831_row5_col6\" class=\"data row5 col6\" >3</td>\n",
       "                        <td id=\"T_90831_row5_col7\" class=\"data row5 col7\" >False</td>\n",
       "                        <td id=\"T_90831_row5_col8\" class=\"data row5 col8\" >8</td>\n",
       "            </tr>\n",
       "            <tr>\n",
       "                        <th id=\"T_90831_level0_row6\" class=\"row_heading level0 row6\" >49</th>\n",
       "                        <td id=\"T_90831_row6_col0\" class=\"data row6 col0\" >Copper</td>\n",
       "                        <td id=\"T_90831_row6_col1\" class=\"data row6 col1\" >4</td>\n",
       "                        <td id=\"T_90831_row6_col2\" class=\"data row6 col2\" >5</td>\n",
       "                        <td id=\"T_90831_row6_col3\" class=\"data row6 col3\" >1</td>\n",
       "                        <td id=\"T_90831_row6_col4\" class=\"data row6 col4\" >True</td>\n",
       "                        <td id=\"T_90831_row6_col5\" class=\"data row6 col5\" >414</td>\n",
       "                        <td id=\"T_90831_row6_col6\" class=\"data row6 col6\" >1</td>\n",
       "                        <td id=\"T_90831_row6_col7\" class=\"data row6 col7\" >True</td>\n",
       "                        <td id=\"T_90831_row6_col8\" class=\"data row6 col8\" >8</td>\n",
       "            </tr>\n",
       "            <tr>\n",
       "                        <th id=\"T_90831_level0_row7\" class=\"row_heading level0 row7\" >73</th>\n",
       "                        <td id=\"T_90831_row7_col0\" class=\"data row7 col0\" >Front</td>\n",
       "                        <td id=\"T_90831_row7_col1\" class=\"data row7 col1\" >5</td>\n",
       "                        <td id=\"T_90831_row7_col2\" class=\"data row7 col2\" >5</td>\n",
       "                        <td id=\"T_90831_row7_col3\" class=\"data row7 col3\" >2</td>\n",
       "                        <td id=\"T_90831_row7_col4\" class=\"data row7 col4\" >False</td>\n",
       "                        <td id=\"T_90831_row7_col5\" class=\"data row7 col5\" >172</td>\n",
       "                        <td id=\"T_90831_row7_col6\" class=\"data row7 col6\" >2</td>\n",
       "                        <td id=\"T_90831_row7_col7\" class=\"data row7 col7\" >True</td>\n",
       "                        <td id=\"T_90831_row7_col8\" class=\"data row7 col8\" >8</td>\n",
       "            </tr>\n",
       "            <tr>\n",
       "                        <th id=\"T_90831_level0_row8\" class=\"row_heading level0 row8\" >75</th>\n",
       "                        <td id=\"T_90831_row8_col0\" class=\"data row8 col0\" >FullStory</td>\n",
       "                        <td id=\"T_90831_row8_col1\" class=\"data row8 col1\" >4</td>\n",
       "                        <td id=\"T_90831_row8_col2\" class=\"data row8 col2\" >5</td>\n",
       "                        <td id=\"T_90831_row8_col3\" class=\"data row8 col3\" >4</td>\n",
       "                        <td id=\"T_90831_row8_col4\" class=\"data row8 col4\" >True</td>\n",
       "                        <td id=\"T_90831_row8_col5\" class=\"data row8 col5\" >163</td>\n",
       "                        <td id=\"T_90831_row8_col6\" class=\"data row8 col6\" >3</td>\n",
       "                        <td id=\"T_90831_row8_col7\" class=\"data row8 col7\" >False</td>\n",
       "                        <td id=\"T_90831_row8_col8\" class=\"data row8 col8\" >8</td>\n",
       "            </tr>\n",
       "            <tr>\n",
       "                        <th id=\"T_90831_level0_row9\" class=\"row_heading level0 row9\" >87</th>\n",
       "                        <td id=\"T_90831_row9_col0\" class=\"data row9 col0\" >Highspot</td>\n",
       "                        <td id=\"T_90831_row9_col1\" class=\"data row9 col1\" >3</td>\n",
       "                        <td id=\"T_90831_row9_col2\" class=\"data row9 col2\" >5</td>\n",
       "                        <td id=\"T_90831_row9_col3\" class=\"data row9 col3\" >5</td>\n",
       "                        <td id=\"T_90831_row9_col4\" class=\"data row9 col4\" >True</td>\n",
       "                        <td id=\"T_90831_row9_col5\" class=\"data row9 col5\" >1733</td>\n",
       "                        <td id=\"T_90831_row9_col6\" class=\"data row9 col6\" >3</td>\n",
       "                        <td id=\"T_90831_row9_col7\" class=\"data row9 col7\" >False</td>\n",
       "                        <td id=\"T_90831_row9_col8\" class=\"data row9 col8\" >8</td>\n",
       "            </tr>\n",
       "            <tr>\n",
       "                        <th id=\"T_90831_level0_row10\" class=\"row_heading level0 row10\" >91</th>\n",
       "                        <td id=\"T_90831_row10_col0\" class=\"data row10 col0\" >join.com</td>\n",
       "                        <td id=\"T_90831_row10_col1\" class=\"data row10 col1\" >3</td>\n",
       "                        <td id=\"T_90831_row10_col2\" class=\"data row10 col2\" >4</td>\n",
       "                        <td id=\"T_90831_row10_col3\" class=\"data row10 col3\" >2</td>\n",
       "                        <td id=\"T_90831_row10_col4\" class=\"data row10 col4\" >False</td>\n",
       "                        <td id=\"T_90831_row10_col5\" class=\"data row10 col5\" >1472</td>\n",
       "                        <td id=\"T_90831_row10_col6\" class=\"data row10 col6\" >3</td>\n",
       "                        <td id=\"T_90831_row10_col7\" class=\"data row10 col7\" >False</td>\n",
       "                        <td id=\"T_90831_row10_col8\" class=\"data row10 col8\" >8</td>\n",
       "            </tr>\n",
       "            <tr>\n",
       "                        <th id=\"T_90831_level0_row11\" class=\"row_heading level0 row11\" >97</th>\n",
       "                        <td id=\"T_90831_row11_col0\" class=\"data row11 col0\" >Kissmetrics</td>\n",
       "                        <td id=\"T_90831_row11_col1\" class=\"data row11 col1\" >5</td>\n",
       "                        <td id=\"T_90831_row11_col2\" class=\"data row11 col2\" >3</td>\n",
       "                        <td id=\"T_90831_row11_col3\" class=\"data row11 col3\" >1</td>\n",
       "                        <td id=\"T_90831_row11_col4\" class=\"data row11 col4\" >False</td>\n",
       "                        <td id=\"T_90831_row11_col5\" class=\"data row11 col5\" >1016</td>\n",
       "                        <td id=\"T_90831_row11_col6\" class=\"data row11 col6\" >2</td>\n",
       "                        <td id=\"T_90831_row11_col7\" class=\"data row11 col7\" >False</td>\n",
       "                        <td id=\"T_90831_row11_col8\" class=\"data row11 col8\" >8</td>\n",
       "            </tr>\n",
       "            <tr>\n",
       "                        <th id=\"T_90831_level0_row12\" class=\"row_heading level0 row12\" >109</th>\n",
       "                        <td id=\"T_90831_row12_col0\" class=\"data row12 col0\" >Logentries</td>\n",
       "                        <td id=\"T_90831_row12_col1\" class=\"data row12 col1\" >5</td>\n",
       "                        <td id=\"T_90831_row12_col2\" class=\"data row12 col2\" >3</td>\n",
       "                        <td id=\"T_90831_row12_col3\" class=\"data row12 col3\" >2</td>\n",
       "                        <td id=\"T_90831_row12_col4\" class=\"data row12 col4\" >False</td>\n",
       "                        <td id=\"T_90831_row12_col5\" class=\"data row12 col5\" >849</td>\n",
       "                        <td id=\"T_90831_row12_col6\" class=\"data row12 col6\" >2</td>\n",
       "                        <td id=\"T_90831_row12_col7\" class=\"data row12 col7\" >False</td>\n",
       "                        <td id=\"T_90831_row12_col8\" class=\"data row12 col8\" >8</td>\n",
       "            </tr>\n",
       "            <tr>\n",
       "                        <th id=\"T_90831_level0_row13\" class=\"row_heading level0 row13\" >110</th>\n",
       "                        <td id=\"T_90831_row13_col0\" class=\"data row13 col0\" >LogicMonitor</td>\n",
       "                        <td id=\"T_90831_row13_col1\" class=\"data row13 col1\" >4</td>\n",
       "                        <td id=\"T_90831_row13_col2\" class=\"data row13 col2\" >5</td>\n",
       "                        <td id=\"T_90831_row13_col3\" class=\"data row13 col3\" >2</td>\n",
       "                        <td id=\"T_90831_row13_col4\" class=\"data row13 col4\" >False</td>\n",
       "                        <td id=\"T_90831_row13_col5\" class=\"data row13 col5\" >500</td>\n",
       "                        <td id=\"T_90831_row13_col6\" class=\"data row13 col6\" >2</td>\n",
       "                        <td id=\"T_90831_row13_col7\" class=\"data row13 col7\" >True</td>\n",
       "                        <td id=\"T_90831_row13_col8\" class=\"data row13 col8\" >8</td>\n",
       "            </tr>\n",
       "            <tr>\n",
       "                        <th id=\"T_90831_level0_row14\" class=\"row_heading level0 row14\" >114</th>\n",
       "                        <td id=\"T_90831_row14_col0\" class=\"data row14 col0\" >MailUp Group</td>\n",
       "                        <td id=\"T_90831_row14_col1\" class=\"data row14 col1\" >2</td>\n",
       "                        <td id=\"T_90831_row14_col2\" class=\"data row14 col2\" >4</td>\n",
       "                        <td id=\"T_90831_row14_col3\" class=\"data row14 col3\" >3</td>\n",
       "                        <td id=\"T_90831_row14_col4\" class=\"data row14 col4\" >False</td>\n",
       "                        <td id=\"T_90831_row14_col5\" class=\"data row14 col5\" >664</td>\n",
       "                        <td id=\"T_90831_row14_col6\" class=\"data row14 col6\" >2</td>\n",
       "                        <td id=\"T_90831_row14_col7\" class=\"data row14 col7\" >False</td>\n",
       "                        <td id=\"T_90831_row14_col8\" class=\"data row14 col8\" >8</td>\n",
       "            </tr>\n",
       "            <tr>\n",
       "                        <th id=\"T_90831_level0_row15\" class=\"row_heading level0 row15\" >120</th>\n",
       "                        <td id=\"T_90831_row15_col0\" class=\"data row15 col0\" >Mode Analytics</td>\n",
       "                        <td id=\"T_90831_row15_col1\" class=\"data row15 col1\" >4</td>\n",
       "                        <td id=\"T_90831_row15_col2\" class=\"data row15 col2\" >4</td>\n",
       "                        <td id=\"T_90831_row15_col3\" class=\"data row15 col3\" >2</td>\n",
       "                        <td id=\"T_90831_row15_col4\" class=\"data row15 col4\" >False</td>\n",
       "                        <td id=\"T_90831_row15_col5\" class=\"data row15 col5\" >305</td>\n",
       "                        <td id=\"T_90831_row15_col6\" class=\"data row15 col6\" >3</td>\n",
       "                        <td id=\"T_90831_row15_col7\" class=\"data row15 col7\" >False</td>\n",
       "                        <td id=\"T_90831_row15_col8\" class=\"data row15 col8\" >8</td>\n",
       "            </tr>\n",
       "            <tr>\n",
       "                        <th id=\"T_90831_level0_row16\" class=\"row_heading level0 row16\" >128</th>\n",
       "                        <td id=\"T_90831_row16_col0\" class=\"data row16 col0\" >OpenSesame</td>\n",
       "                        <td id=\"T_90831_row16_col1\" class=\"data row16 col1\" >4</td>\n",
       "                        <td id=\"T_90831_row16_col2\" class=\"data row16 col2\" >4</td>\n",
       "                        <td id=\"T_90831_row16_col3\" class=\"data row16 col3\" >3</td>\n",
       "                        <td id=\"T_90831_row16_col4\" class=\"data row16 col4\" >False</td>\n",
       "                        <td id=\"T_90831_row16_col5\" class=\"data row16 col5\" >150</td>\n",
       "                        <td id=\"T_90831_row16_col6\" class=\"data row16 col6\" >2</td>\n",
       "                        <td id=\"T_90831_row16_col7\" class=\"data row16 col7\" >False</td>\n",
       "                        <td id=\"T_90831_row16_col8\" class=\"data row16 col8\" >8</td>\n",
       "            </tr>\n",
       "            <tr>\n",
       "                        <th id=\"T_90831_level0_row17\" class=\"row_heading level0 row17\" >131</th>\n",
       "                        <td id=\"T_90831_row17_col0\" class=\"data row17 col0\" >Pax8</td>\n",
       "                        <td id=\"T_90831_row17_col1\" class=\"data row17 col1\" >3</td>\n",
       "                        <td id=\"T_90831_row17_col2\" class=\"data row17 col2\" >4</td>\n",
       "                        <td id=\"T_90831_row17_col3\" class=\"data row17 col3\" >3</td>\n",
       "                        <td id=\"T_90831_row17_col4\" class=\"data row17 col4\" >False</td>\n",
       "                        <td id=\"T_90831_row17_col5\" class=\"data row17 col5\" >1670</td>\n",
       "                        <td id=\"T_90831_row17_col6\" class=\"data row17 col6\" >3</td>\n",
       "                        <td id=\"T_90831_row17_col7\" class=\"data row17 col7\" >False</td>\n",
       "                        <td id=\"T_90831_row17_col8\" class=\"data row17 col8\" >8</td>\n",
       "            </tr>\n",
       "            <tr>\n",
       "                        <th id=\"T_90831_level0_row18\" class=\"row_heading level0 row18\" >148</th>\n",
       "                        <td id=\"T_90831_row18_col0\" class=\"data row18 col0\" >Rydoo</td>\n",
       "                        <td id=\"T_90831_row18_col1\" class=\"data row18 col1\" >5</td>\n",
       "                        <td id=\"T_90831_row18_col2\" class=\"data row18 col2\" >4</td>\n",
       "                        <td id=\"T_90831_row18_col3\" class=\"data row18 col3\" >3</td>\n",
       "                        <td id=\"T_90831_row18_col4\" class=\"data row18 col4\" >True</td>\n",
       "                        <td id=\"T_90831_row18_col5\" class=\"data row18 col5\" >1393</td>\n",
       "                        <td id=\"T_90831_row18_col6\" class=\"data row18 col6\" >3</td>\n",
       "                        <td id=\"T_90831_row18_col7\" class=\"data row18 col7\" >False</td>\n",
       "                        <td id=\"T_90831_row18_col8\" class=\"data row18 col8\" >8</td>\n",
       "            </tr>\n",
       "            <tr>\n",
       "                        <th id=\"T_90831_level0_row19\" class=\"row_heading level0 row19\" >155</th>\n",
       "                        <td id=\"T_90831_row19_col0\" class=\"data row19 col0\" >Sendoso</td>\n",
       "                        <td id=\"T_90831_row19_col1\" class=\"data row19 col1\" >4</td>\n",
       "                        <td id=\"T_90831_row19_col2\" class=\"data row19 col2\" >3</td>\n",
       "                        <td id=\"T_90831_row19_col3\" class=\"data row19 col3\" >4</td>\n",
       "                        <td id=\"T_90831_row19_col4\" class=\"data row19 col4\" >False</td>\n",
       "                        <td id=\"T_90831_row19_col5\" class=\"data row19 col5\" >291</td>\n",
       "                        <td id=\"T_90831_row19_col6\" class=\"data row19 col6\" >3</td>\n",
       "                        <td id=\"T_90831_row19_col7\" class=\"data row19 col7\" >False</td>\n",
       "                        <td id=\"T_90831_row19_col8\" class=\"data row19 col8\" >8</td>\n",
       "            </tr>\n",
       "            <tr>\n",
       "                        <th id=\"T_90831_level0_row20\" class=\"row_heading level0 row20\" >161</th>\n",
       "                        <td id=\"T_90831_row20_col0\" class=\"data row20 col0\" >Spark Hire</td>\n",
       "                        <td id=\"T_90831_row20_col1\" class=\"data row20 col1\" >4</td>\n",
       "                        <td id=\"T_90831_row20_col2\" class=\"data row20 col2\" >4</td>\n",
       "                        <td id=\"T_90831_row20_col3\" class=\"data row20 col3\" >3</td>\n",
       "                        <td id=\"T_90831_row20_col4\" class=\"data row20 col4\" >False</td>\n",
       "                        <td id=\"T_90831_row20_col5\" class=\"data row20 col5\" >1423</td>\n",
       "                        <td id=\"T_90831_row20_col6\" class=\"data row20 col6\" >3</td>\n",
       "                        <td id=\"T_90831_row20_col7\" class=\"data row20 col7\" >False</td>\n",
       "                        <td id=\"T_90831_row20_col8\" class=\"data row20 col8\" >8</td>\n",
       "            </tr>\n",
       "            <tr>\n",
       "                        <th id=\"T_90831_level0_row21\" class=\"row_heading level0 row21\" >163</th>\n",
       "                        <td id=\"T_90831_row21_col0\" class=\"data row21 col0\" >Spiff</td>\n",
       "                        <td id=\"T_90831_row21_col1\" class=\"data row21 col1\" >4</td>\n",
       "                        <td id=\"T_90831_row21_col2\" class=\"data row21 col2\" >4</td>\n",
       "                        <td id=\"T_90831_row21_col3\" class=\"data row21 col3\" >3</td>\n",
       "                        <td id=\"T_90831_row21_col4\" class=\"data row21 col4\" >True</td>\n",
       "                        <td id=\"T_90831_row21_col5\" class=\"data row21 col5\" >576</td>\n",
       "                        <td id=\"T_90831_row21_col6\" class=\"data row21 col6\" >2</td>\n",
       "                        <td id=\"T_90831_row21_col7\" class=\"data row21 col7\" >False</td>\n",
       "                        <td id=\"T_90831_row21_col8\" class=\"data row21 col8\" >8</td>\n",
       "            </tr>\n",
       "            <tr>\n",
       "                        <th id=\"T_90831_level0_row22\" class=\"row_heading level0 row22\" >175</th>\n",
       "                        <td id=\"T_90831_row22_col0\" class=\"data row22 col0\" >TravelPerk</td>\n",
       "                        <td id=\"T_90831_row22_col1\" class=\"data row22 col1\" >5</td>\n",
       "                        <td id=\"T_90831_row22_col2\" class=\"data row22 col2\" >5</td>\n",
       "                        <td id=\"T_90831_row22_col3\" class=\"data row22 col3\" >2</td>\n",
       "                        <td id=\"T_90831_row22_col4\" class=\"data row22 col4\" >False</td>\n",
       "                        <td id=\"T_90831_row22_col5\" class=\"data row22 col5\" >359</td>\n",
       "                        <td id=\"T_90831_row22_col6\" class=\"data row22 col6\" >2</td>\n",
       "                        <td id=\"T_90831_row22_col7\" class=\"data row22 col7\" >False</td>\n",
       "                        <td id=\"T_90831_row22_col8\" class=\"data row22 col8\" >8</td>\n",
       "            </tr>\n",
       "            <tr>\n",
       "                        <th id=\"T_90831_level0_row23\" class=\"row_heading level0 row23\" >184</th>\n",
       "                        <td id=\"T_90831_row23_col0\" class=\"data row23 col0\" >Vectorworks</td>\n",
       "                        <td id=\"T_90831_row23_col1\" class=\"data row23 col1\" >3</td>\n",
       "                        <td id=\"T_90831_row23_col2\" class=\"data row23 col2\" >5</td>\n",
       "                        <td id=\"T_90831_row23_col3\" class=\"data row23 col3\" >2</td>\n",
       "                        <td id=\"T_90831_row23_col4\" class=\"data row23 col4\" >False</td>\n",
       "                        <td id=\"T_90831_row23_col5\" class=\"data row23 col5\" >169</td>\n",
       "                        <td id=\"T_90831_row23_col6\" class=\"data row23 col6\" >2</td>\n",
       "                        <td id=\"T_90831_row23_col7\" class=\"data row23 col7\" >False</td>\n",
       "                        <td id=\"T_90831_row23_col8\" class=\"data row23 col8\" >8</td>\n",
       "            </tr>\n",
       "    </tbody></table>"
      ],
      "text/plain": [
       "<pandas.io.formats.style.Styler at 0x7f55f299b0d0>"
      ]
     },
     "execution_count": 177,
     "metadata": {},
     "output_type": "execute_result"
    }
   ],
   "source": [
    "df[df['Cluster'] == 8].style.set_properties(**{\n",
    "    'font-size': '15pt',\n",
    "})"
   ]
  },
  {
   "cell_type": "code",
   "execution_count": null,
   "id": "flush-purpose",
   "metadata": {},
   "outputs": [],
   "source": []
  },
  {
   "cell_type": "code",
   "execution_count": null,
   "id": "billion-gravity",
   "metadata": {},
   "outputs": [],
   "source": []
  },
  {
   "cell_type": "code",
   "execution_count": null,
   "id": "visible-semester",
   "metadata": {},
   "outputs": [],
   "source": []
  },
  {
   "cell_type": "code",
   "execution_count": null,
   "id": "sustained-astrology",
   "metadata": {},
   "outputs": [],
   "source": []
  },
  {
   "cell_type": "code",
   "execution_count": null,
   "id": "intense-victor",
   "metadata": {},
   "outputs": [],
   "source": []
  },
  {
   "cell_type": "code",
   "execution_count": null,
   "id": "geological-notebook",
   "metadata": {},
   "outputs": [],
   "source": []
  },
  {
   "cell_type": "code",
   "execution_count": null,
   "id": "whole-stage",
   "metadata": {},
   "outputs": [],
   "source": []
  },
  {
   "cell_type": "code",
   "execution_count": null,
   "id": "voluntary-cannon",
   "metadata": {},
   "outputs": [],
   "source": []
  },
  {
   "cell_type": "code",
   "execution_count": null,
   "id": "jewish-capability",
   "metadata": {},
   "outputs": [],
   "source": []
  },
  {
   "cell_type": "markdown",
   "id": "editorial-devon",
   "metadata": {},
   "source": [
    "# Feature Interaction"
   ]
  },
  {
   "cell_type": "code",
   "execution_count": 169,
   "id": "patient-block",
   "metadata": {
    "ExecuteTime": {
     "end_time": "2021-03-20T14:54:50.035531Z",
     "start_time": "2021-03-20T14:54:50.029953Z"
    }
   },
   "outputs": [],
   "source": [
    "# All possible pairs in List \n",
    "# Using list comprehension + enumerate() \n",
    "col_pairs = [(a, b) for idx, a in enumerate(df_scl.columns[:-1]) for b in X.columns[idx + 1:]] "
   ]
  },
  {
   "cell_type": "code",
   "execution_count": 170,
   "id": "executive-white",
   "metadata": {
    "ExecuteTime": {
     "end_time": "2021-03-20T14:54:50.188520Z",
     "start_time": "2021-03-20T14:54:50.182345Z"
    }
   },
   "outputs": [],
   "source": [
    "df_ext = df_scl.copy()\n",
    "df_ext = df_ext.drop(['serving','Cluster'], axis = 1)"
   ]
  },
  {
   "cell_type": "code",
   "execution_count": 171,
   "id": "center-stone",
   "metadata": {
    "ExecuteTime": {
     "end_time": "2021-03-20T14:54:52.488264Z",
     "start_time": "2021-03-20T14:54:52.465107Z"
    }
   },
   "outputs": [
    {
     "data": {
      "text/html": [
       "<div>\n",
       "<style scoped>\n",
       "    .dataframe tbody tr th:only-of-type {\n",
       "        vertical-align: middle;\n",
       "    }\n",
       "\n",
       "    .dataframe tbody tr th {\n",
       "        vertical-align: top;\n",
       "    }\n",
       "\n",
       "    .dataframe thead th {\n",
       "        text-align: right;\n",
       "    }\n",
       "</style>\n",
       "<table border=\"1\" class=\"dataframe\">\n",
       "  <thead>\n",
       "    <tr style=\"text-align: right;\">\n",
       "      <th></th>\n",
       "      <th>Analyst value (0 - 5)</th>\n",
       "      <th>Partner value (0 - 5)</th>\n",
       "      <th>Persona value (0 - 5)</th>\n",
       "      <th>Growing market</th>\n",
       "      <th>Organic Search Volume</th>\n",
       "      <th>SEO Value (0 - 3)</th>\n",
       "    </tr>\n",
       "  </thead>\n",
       "  <tbody>\n",
       "    <tr>\n",
       "      <th>0</th>\n",
       "      <td>0.0</td>\n",
       "      <td>0.2</td>\n",
       "      <td>0.6</td>\n",
       "      <td>0.0</td>\n",
       "      <td>0.651150</td>\n",
       "      <td>0.666667</td>\n",
       "    </tr>\n",
       "    <tr>\n",
       "      <th>1</th>\n",
       "      <td>1.0</td>\n",
       "      <td>0.2</td>\n",
       "      <td>0.0</td>\n",
       "      <td>1.0</td>\n",
       "      <td>0.221537</td>\n",
       "      <td>0.666667</td>\n",
       "    </tr>\n",
       "    <tr>\n",
       "      <th>2</th>\n",
       "      <td>0.2</td>\n",
       "      <td>0.2</td>\n",
       "      <td>0.0</td>\n",
       "      <td>1.0</td>\n",
       "      <td>0.177790</td>\n",
       "      <td>0.666667</td>\n",
       "    </tr>\n",
       "    <tr>\n",
       "      <th>3</th>\n",
       "      <td>0.6</td>\n",
       "      <td>0.4</td>\n",
       "      <td>0.6</td>\n",
       "      <td>1.0</td>\n",
       "      <td>0.642176</td>\n",
       "      <td>0.666667</td>\n",
       "    </tr>\n",
       "    <tr>\n",
       "      <th>4</th>\n",
       "      <td>0.4</td>\n",
       "      <td>1.0</td>\n",
       "      <td>0.6</td>\n",
       "      <td>0.0</td>\n",
       "      <td>0.558609</td>\n",
       "      <td>0.666667</td>\n",
       "    </tr>\n",
       "    <tr>\n",
       "      <th>...</th>\n",
       "      <td>...</td>\n",
       "      <td>...</td>\n",
       "      <td>...</td>\n",
       "      <td>...</td>\n",
       "      <td>...</td>\n",
       "      <td>...</td>\n",
       "    </tr>\n",
       "    <tr>\n",
       "      <th>194</th>\n",
       "      <td>0.0</td>\n",
       "      <td>0.8</td>\n",
       "      <td>1.0</td>\n",
       "      <td>1.0</td>\n",
       "      <td>0.335390</td>\n",
       "      <td>1.000000</td>\n",
       "    </tr>\n",
       "    <tr>\n",
       "      <th>195</th>\n",
       "      <td>0.2</td>\n",
       "      <td>0.2</td>\n",
       "      <td>0.2</td>\n",
       "      <td>0.0</td>\n",
       "      <td>0.797532</td>\n",
       "      <td>1.000000</td>\n",
       "    </tr>\n",
       "    <tr>\n",
       "      <th>196</th>\n",
       "      <td>0.6</td>\n",
       "      <td>1.0</td>\n",
       "      <td>0.8</td>\n",
       "      <td>0.0</td>\n",
       "      <td>0.255749</td>\n",
       "      <td>0.333333</td>\n",
       "    </tr>\n",
       "    <tr>\n",
       "      <th>197</th>\n",
       "      <td>0.0</td>\n",
       "      <td>0.8</td>\n",
       "      <td>0.2</td>\n",
       "      <td>1.0</td>\n",
       "      <td>0.217050</td>\n",
       "      <td>0.666667</td>\n",
       "    </tr>\n",
       "    <tr>\n",
       "      <th>198</th>\n",
       "      <td>0.4</td>\n",
       "      <td>1.0</td>\n",
       "      <td>0.0</td>\n",
       "      <td>1.0</td>\n",
       "      <td>0.204711</td>\n",
       "      <td>0.666667</td>\n",
       "    </tr>\n",
       "  </tbody>\n",
       "</table>\n",
       "<p>199 rows × 6 columns</p>\n",
       "</div>"
      ],
      "text/plain": [
       "     Analyst value (0 - 5)  Partner value (0 - 5)  Persona value (0 - 5)  \\\n",
       "0                      0.0                    0.2                    0.6   \n",
       "1                      1.0                    0.2                    0.0   \n",
       "2                      0.2                    0.2                    0.0   \n",
       "3                      0.6                    0.4                    0.6   \n",
       "4                      0.4                    1.0                    0.6   \n",
       "..                     ...                    ...                    ...   \n",
       "194                    0.0                    0.8                    1.0   \n",
       "195                    0.2                    0.2                    0.2   \n",
       "196                    0.6                    1.0                    0.8   \n",
       "197                    0.0                    0.8                    0.2   \n",
       "198                    0.4                    1.0                    0.0   \n",
       "\n",
       "     Growing market  Organic Search Volume  SEO Value (0 - 3)  \n",
       "0               0.0               0.651150           0.666667  \n",
       "1               1.0               0.221537           0.666667  \n",
       "2               1.0               0.177790           0.666667  \n",
       "3               1.0               0.642176           0.666667  \n",
       "4               0.0               0.558609           0.666667  \n",
       "..              ...                    ...                ...  \n",
       "194             1.0               0.335390           1.000000  \n",
       "195             0.0               0.797532           1.000000  \n",
       "196             0.0               0.255749           0.333333  \n",
       "197             1.0               0.217050           0.666667  \n",
       "198             1.0               0.204711           0.666667  \n",
       "\n",
       "[199 rows x 6 columns]"
      ]
     },
     "execution_count": 171,
     "metadata": {},
     "output_type": "execute_result"
    }
   ],
   "source": [
    "df_ext"
   ]
  },
  {
   "cell_type": "code",
   "execution_count": 172,
   "id": "thick-insulation",
   "metadata": {
    "ExecuteTime": {
     "end_time": "2021-03-20T14:54:52.535184Z",
     "start_time": "2021-03-20T14:54:52.491740Z"
    }
   },
   "outputs": [],
   "source": [
    "for pair in col_pairs:\n",
    "    col_name = str(pair)[2:-2]\n",
    "    df_ext['mult' + col_name] = df_scl[pair[0]] * df_scl[pair[1]]\n",
    "    df_ext['div' + col_name] = df_scl[pair[0]] / df_scl[pair[1]]"
   ]
  },
  {
   "cell_type": "code",
   "execution_count": 173,
   "id": "swiss-writing",
   "metadata": {
    "ExecuteTime": {
     "end_time": "2021-03-20T14:54:52.554066Z",
     "start_time": "2021-03-20T14:54:52.538612Z"
    }
   },
   "outputs": [],
   "source": [
    "df_ext = df_ext.replace(np.nan, 0)\n",
    "df_ext = df_ext.replace(np.inf, 1)\n",
    "df_ext = df_ext.clip(lower = 0, upper = 1)"
   ]
  },
  {
   "cell_type": "code",
   "execution_count": 174,
   "id": "raised-alias",
   "metadata": {
    "ExecuteTime": {
     "end_time": "2021-03-20T14:54:57.824248Z",
     "start_time": "2021-03-20T14:54:52.556788Z"
    }
   },
   "outputs": [],
   "source": [
    "inertia = []\n",
    "for i in range(1, 30):\n",
    "    kmeans = KMeans(n_clusters = i, \n",
    "                    random_state = 42)\n",
    "    kmeans.fit(df_ext)\n",
    "    inertia.append(kmeans.inertia_)"
   ]
  },
  {
   "cell_type": "code",
   "execution_count": 175,
   "id": "emotional-courtesy",
   "metadata": {
    "ExecuteTime": {
     "end_time": "2021-03-20T14:55:03.928497Z",
     "start_time": "2021-03-20T14:55:03.605264Z"
    }
   },
   "outputs": [
    {
     "name": "stdout",
     "output_type": "stream",
     "text": [
      "inertia_ is the sum of squared distances of samples to their closest cluster center\n"
     ]
    },
    {
     "data": {
      "image/png": "[encoded data removed]",
      "text/plain": [
       "<Figure size 864x360 with 1 Axes>"
      ]
     },
     "metadata": {},
     "output_type": "display_data"
    }
   ],
   "source": [
    "plt.figure(figsize = (12, 5))\n",
    "plt.plot(range(1, 30),inertia)\n",
    "plt.xlabel('Number of clusters')\n",
    "plt.ylabel('Inertia')\n",
    "plt.title('Finding optimal number of clusters');\n",
    "print('inertia_ is the sum of squared distances of samples to their closest cluster center')"
   ]
  },
  {
   "cell_type": "code",
   "execution_count": 176,
   "id": "valuable-grass",
   "metadata": {
    "ExecuteTime": {
     "end_time": "2021-03-20T14:55:05.366027Z",
     "start_time": "2021-03-20T14:55:05.233267Z"
    }
   },
   "outputs": [],
   "source": [
    "n_clusters = 10\n",
    "kmeans = KMeans(n_clusters = n_clusters, random_state = 42)\n",
    "y_kmeans = kmeans.fit_predict(df_ext)"
   ]
  },
  {
   "cell_type": "code",
   "execution_count": 177,
   "id": "automatic-stomach",
   "metadata": {
    "ExecuteTime": {
     "end_time": "2021-03-20T14:55:06.922283Z",
     "start_time": "2021-03-20T14:55:06.914933Z"
    }
   },
   "outputs": [
    {
     "data": {
      "text/plain": [
       "(10, 36)"
      ]
     },
     "execution_count": 177,
     "metadata": {},
     "output_type": "execute_result"
    }
   ],
   "source": [
    "kmeans.cluster_centers_.shape"
   ]
  },
  {
   "cell_type": "code",
   "execution_count": 178,
   "id": "banned-confirmation",
   "metadata": {
    "ExecuteTime": {
     "end_time": "2021-03-20T14:55:08.226097Z",
     "start_time": "2021-03-20T14:55:08.215141Z"
    }
   },
   "outputs": [],
   "source": [
    "df_ext['Cluster'] = pd.Series(y_kmeans)\n",
    "df_ext['serving'] = serving"
   ]
  },
  {
   "cell_type": "code",
   "execution_count": 179,
   "id": "directed-military",
   "metadata": {
    "ExecuteTime": {
     "end_time": "2021-03-20T14:55:09.734308Z",
     "start_time": "2021-03-20T14:55:09.717953Z"
    }
   },
   "outputs": [
    {
     "data": {
      "text/plain": [
       "(array([0, 1, 2, 3, 4, 5, 6, 7, 8, 9], dtype=int32),\n",
       " array([19, 20, 12, 17, 18, 21, 37, 13, 21, 21]))"
      ]
     },
     "execution_count": 179,
     "metadata": {},
     "output_type": "execute_result"
    }
   ],
   "source": [
    "np.unique(np.array(df_ext['Cluster']), return_counts=True)"
   ]
  },
  {
   "cell_type": "code",
   "execution_count": 180,
   "id": "olive-spare",
   "metadata": {
    "ExecuteTime": {
     "end_time": "2021-03-20T14:55:11.262936Z",
     "start_time": "2021-03-20T14:55:11.228815Z"
    }
   },
   "outputs": [
    {
     "name": "stdout",
     "output_type": "stream",
     "text": [
      "Proportion of already serving APIs in the dataset\n",
      "0.14\n",
      "Proportion of already serving APIs in each cluster\n",
      "Cluster 0 0.263\n",
      "Cluster 1 0.1\n",
      "Cluster 2 0.167\n",
      "Cluster 3 0.118\n",
      "Cluster 4 0.0\n",
      "Cluster 5 0.19\n",
      "Cluster 6 0.189\n",
      "Cluster 7 0.077\n",
      "Cluster 8 0.048\n",
      "Cluster 9 0.19\n"
     ]
    }
   ],
   "source": [
    "print('Proportion of already serving APIs in the dataset')\n",
    "print(round(np.mean(df_ext['serving']), 2))\n",
    "print('Proportion of already serving APIs in each cluster')\n",
    "proportions = []\n",
    "for i in range(n_clusters):\n",
    "    proportion_c = np.mean(df_ext[df_ext['Cluster'] == i]['serving'])\n",
    "    proportions.append(round(proportion_c, 3))\n",
    "    print(f'Cluster {i}', round(proportion_c, 3))"
   ]
  },
  {
   "cell_type": "code",
   "execution_count": 184,
   "id": "ruled-section",
   "metadata": {
    "ExecuteTime": {
     "end_time": "2021-03-20T14:56:06.634293Z",
     "start_time": "2021-03-20T14:56:06.573518Z"
    }
   },
   "outputs": [
    {
     "data": {
      "text/html": [
       "<div>\n",
       "<style scoped>\n",
       "    .dataframe tbody tr th:only-of-type {\n",
       "        vertical-align: middle;\n",
       "    }\n",
       "\n",
       "    .dataframe tbody tr th {\n",
       "        vertical-align: top;\n",
       "    }\n",
       "\n",
       "    .dataframe thead th {\n",
       "        text-align: right;\n",
       "    }\n",
       "</style>\n",
       "<table border=\"1\" class=\"dataframe\">\n",
       "  <thead>\n",
       "    <tr style=\"text-align: right;\">\n",
       "      <th></th>\n",
       "      <th>Analyst value (0 - 5)</th>\n",
       "      <th>Partner value (0 - 5)</th>\n",
       "      <th>Persona value (0 - 5)</th>\n",
       "      <th>Growing market</th>\n",
       "      <th>Organic Search Volume</th>\n",
       "      <th>SEO Value (0 - 3)</th>\n",
       "      <th>multAnalyst value (0 - 5)', 'Partner value (0 - 5)</th>\n",
       "      <th>divAnalyst value (0 - 5)', 'Partner value (0 - 5)</th>\n",
       "      <th>multAnalyst value (0 - 5)', 'Persona value (0 - 5)</th>\n",
       "      <th>divAnalyst value (0 - 5)', 'Persona value (0 - 5)</th>\n",
       "      <th>...</th>\n",
       "      <th>divPersona value (0 - 5)', 'Organic Search Volume</th>\n",
       "      <th>multPersona value (0 - 5)', 'SEO Value (0 - 3)</th>\n",
       "      <th>divPersona value (0 - 5)', 'SEO Value (0 - 3)</th>\n",
       "      <th>multGrowing market', 'Organic Search Volume</th>\n",
       "      <th>divGrowing market', 'Organic Search Volume</th>\n",
       "      <th>multGrowing market', 'SEO Value (0 - 3)</th>\n",
       "      <th>divGrowing market', 'SEO Value (0 - 3)</th>\n",
       "      <th>multOrganic Search Volume', 'SEO Value (0 - 3)</th>\n",
       "      <th>divOrganic Search Volume', 'SEO Value (0 - 3)</th>\n",
       "      <th>Proportion of serving APIs</th>\n",
       "    </tr>\n",
       "  </thead>\n",
       "  <tbody>\n",
       "    <tr>\n",
       "      <th>Cluster_0</th>\n",
       "      <td>6.105263e-01</td>\n",
       "      <td>0.631579</td>\n",
       "      <td>0.652632</td>\n",
       "      <td>1.000000e+00</td>\n",
       "      <td>0.021253</td>\n",
       "      <td>0.087719</td>\n",
       "      <td>0.376842</td>\n",
       "      <td>0.762281</td>\n",
       "      <td>0.408421</td>\n",
       "      <td>8.052632e-01</td>\n",
       "      <td>...</td>\n",
       "      <td>1.000000</td>\n",
       "      <td>0.080702</td>\n",
       "      <td>1.000000</td>\n",
       "      <td>2.125336e-02</td>\n",
       "      <td>1.000000e+00</td>\n",
       "      <td>8.771930e-02</td>\n",
       "      <td>1.000000e+00</td>\n",
       "      <td>0.007084</td>\n",
       "      <td>0.063760</td>\n",
       "      <td>0.263</td>\n",
       "    </tr>\n",
       "    <tr>\n",
       "      <th>Cluster_1</th>\n",
       "      <td>4.800000e-01</td>\n",
       "      <td>0.060000</td>\n",
       "      <td>0.570000</td>\n",
       "      <td>0.000000e+00</td>\n",
       "      <td>0.389736</td>\n",
       "      <td>0.600000</td>\n",
       "      <td>0.028000</td>\n",
       "      <td>1.000000</td>\n",
       "      <td>0.280000</td>\n",
       "      <td>7.233333e-01</td>\n",
       "      <td>...</td>\n",
       "      <td>0.908014</td>\n",
       "      <td>0.350000</td>\n",
       "      <td>0.800000</td>\n",
       "      <td>0.000000e+00</td>\n",
       "      <td>0.000000e+00</td>\n",
       "      <td>0.000000e+00</td>\n",
       "      <td>0.000000e+00</td>\n",
       "      <td>0.341391</td>\n",
       "      <td>0.482978</td>\n",
       "      <td>0.100</td>\n",
       "    </tr>\n",
       "    <tr>\n",
       "      <th>Cluster_2</th>\n",
       "      <td>6.000000e-01</td>\n",
       "      <td>0.033333</td>\n",
       "      <td>0.116667</td>\n",
       "      <td>7.500000e-01</td>\n",
       "      <td>0.577912</td>\n",
       "      <td>0.750000</td>\n",
       "      <td>0.020000</td>\n",
       "      <td>1.000000</td>\n",
       "      <td>0.080000</td>\n",
       "      <td>1.000000e+00</td>\n",
       "      <td>...</td>\n",
       "      <td>0.144028</td>\n",
       "      <td>0.111111</td>\n",
       "      <td>0.125000</td>\n",
       "      <td>4.362030e-01</td>\n",
       "      <td>7.500000e-01</td>\n",
       "      <td>5.277778e-01</td>\n",
       "      <td>7.500000e-01</td>\n",
       "      <td>0.493535</td>\n",
       "      <td>0.704477</td>\n",
       "      <td>0.167</td>\n",
       "    </tr>\n",
       "    <tr>\n",
       "      <th>Cluster_3</th>\n",
       "      <td>1.665335e-16</td>\n",
       "      <td>0.423529</td>\n",
       "      <td>0.505882</td>\n",
       "      <td>0.000000e+00</td>\n",
       "      <td>0.225826</td>\n",
       "      <td>0.490196</td>\n",
       "      <td>0.000000</td>\n",
       "      <td>0.000000</td>\n",
       "      <td>0.000000</td>\n",
       "      <td>-2.220446e-16</td>\n",
       "      <td>...</td>\n",
       "      <td>0.809218</td>\n",
       "      <td>0.203922</td>\n",
       "      <td>0.711765</td>\n",
       "      <td>2.775558e-17</td>\n",
       "      <td>0.000000e+00</td>\n",
       "      <td>0.000000e+00</td>\n",
       "      <td>0.000000e+00</td>\n",
       "      <td>0.185279</td>\n",
       "      <td>0.291033</td>\n",
       "      <td>0.118</td>\n",
       "    </tr>\n",
       "    <tr>\n",
       "      <th>Cluster_4</th>\n",
       "      <td>5.555556e-02</td>\n",
       "      <td>0.588889</td>\n",
       "      <td>0.500000</td>\n",
       "      <td>1.000000e+00</td>\n",
       "      <td>0.224902</td>\n",
       "      <td>0.518519</td>\n",
       "      <td>0.033333</td>\n",
       "      <td>0.097222</td>\n",
       "      <td>0.026667</td>\n",
       "      <td>1.250000e-01</td>\n",
       "      <td>...</td>\n",
       "      <td>0.877917</td>\n",
       "      <td>0.285185</td>\n",
       "      <td>0.716667</td>\n",
       "      <td>2.249019e-01</td>\n",
       "      <td>1.000000e+00</td>\n",
       "      <td>5.185185e-01</td>\n",
       "      <td>1.000000e+00</td>\n",
       "      <td>0.163551</td>\n",
       "      <td>0.356531</td>\n",
       "      <td>0.000</td>\n",
       "    </tr>\n",
       "    <tr>\n",
       "      <th>Cluster_5</th>\n",
       "      <td>5.714286e-01</td>\n",
       "      <td>0.571429</td>\n",
       "      <td>0.066667</td>\n",
       "      <td>1.000000e+00</td>\n",
       "      <td>0.223727</td>\n",
       "      <td>0.571429</td>\n",
       "      <td>0.306667</td>\n",
       "      <td>0.750794</td>\n",
       "      <td>0.040000</td>\n",
       "      <td>1.000000e+00</td>\n",
       "      <td>...</td>\n",
       "      <td>0.254627</td>\n",
       "      <td>0.038095</td>\n",
       "      <td>0.147619</td>\n",
       "      <td>2.237267e-01</td>\n",
       "      <td>1.000000e+00</td>\n",
       "      <td>5.714286e-01</td>\n",
       "      <td>1.000000e+00</td>\n",
       "      <td>0.158721</td>\n",
       "      <td>0.387549</td>\n",
       "      <td>0.190</td>\n",
       "    </tr>\n",
       "    <tr>\n",
       "      <th>Cluster_6</th>\n",
       "      <td>5.513514e-01</td>\n",
       "      <td>0.686486</td>\n",
       "      <td>0.535135</td>\n",
       "      <td>-2.220446e-16</td>\n",
       "      <td>0.104773</td>\n",
       "      <td>0.306306</td>\n",
       "      <td>0.372973</td>\n",
       "      <td>0.707207</td>\n",
       "      <td>0.308108</td>\n",
       "      <td>8.486486e-01</td>\n",
       "      <td>...</td>\n",
       "      <td>0.935394</td>\n",
       "      <td>0.163964</td>\n",
       "      <td>0.818919</td>\n",
       "      <td>-8.326673e-17</td>\n",
       "      <td>-2.220446e-16</td>\n",
       "      <td>-1.110223e-16</td>\n",
       "      <td>-2.220446e-16</td>\n",
       "      <td>0.056843</td>\n",
       "      <td>0.220097</td>\n",
       "      <td>0.189</td>\n",
       "    </tr>\n",
       "    <tr>\n",
       "      <th>Cluster_7</th>\n",
       "      <td>8.000000e-01</td>\n",
       "      <td>0.630769</td>\n",
       "      <td>0.723077</td>\n",
       "      <td>1.000000e+00</td>\n",
       "      <td>0.431554</td>\n",
       "      <td>0.871795</td>\n",
       "      <td>0.492308</td>\n",
       "      <td>0.923077</td>\n",
       "      <td>0.572308</td>\n",
       "      <td>9.384615e-01</td>\n",
       "      <td>...</td>\n",
       "      <td>0.977100</td>\n",
       "      <td>0.635897</td>\n",
       "      <td>0.800000</td>\n",
       "      <td>4.315544e-01</td>\n",
       "      <td>1.000000e+00</td>\n",
       "      <td>8.717949e-01</td>\n",
       "      <td>1.000000e+00</td>\n",
       "      <td>0.382429</td>\n",
       "      <td>0.505242</td>\n",
       "      <td>0.077</td>\n",
       "    </tr>\n",
       "    <tr>\n",
       "      <th>Cluster_8</th>\n",
       "      <td>6.857143e-01</td>\n",
       "      <td>0.504762</td>\n",
       "      <td>0.276190</td>\n",
       "      <td>0.000000e+00</td>\n",
       "      <td>0.477526</td>\n",
       "      <td>0.825397</td>\n",
       "      <td>0.348571</td>\n",
       "      <td>0.916667</td>\n",
       "      <td>0.190476</td>\n",
       "      <td>9.880952e-01</td>\n",
       "      <td>...</td>\n",
       "      <td>0.459909</td>\n",
       "      <td>0.260317</td>\n",
       "      <td>0.300000</td>\n",
       "      <td>-2.775558e-17</td>\n",
       "      <td>0.000000e+00</td>\n",
       "      <td>0.000000e+00</td>\n",
       "      <td>0.000000e+00</td>\n",
       "      <td>0.422794</td>\n",
       "      <td>0.582939</td>\n",
       "      <td>0.048</td>\n",
       "    </tr>\n",
       "    <tr>\n",
       "      <th>Cluster_9</th>\n",
       "      <td>5.142857e-01</td>\n",
       "      <td>0.095238</td>\n",
       "      <td>0.695238</td>\n",
       "      <td>1.000000e+00</td>\n",
       "      <td>0.233982</td>\n",
       "      <td>0.492063</td>\n",
       "      <td>0.038095</td>\n",
       "      <td>1.000000</td>\n",
       "      <td>0.337143</td>\n",
       "      <td>6.650794e-01</td>\n",
       "      <td>...</td>\n",
       "      <td>1.000000</td>\n",
       "      <td>0.342857</td>\n",
       "      <td>0.866667</td>\n",
       "      <td>2.339823e-01</td>\n",
       "      <td>1.000000e+00</td>\n",
       "      <td>4.920635e-01</td>\n",
       "      <td>1.000000e+00</td>\n",
       "      <td>0.154154</td>\n",
       "      <td>0.424418</td>\n",
       "      <td>0.190</td>\n",
       "    </tr>\n",
       "  </tbody>\n",
       "</table>\n",
       "<p>10 rows × 37 columns</p>\n",
       "</div>"
      ],
      "text/plain": [
       "           Analyst value (0 - 5)  Partner value (0 - 5)  \\\n",
       "Cluster_0           6.105263e-01               0.631579   \n",
       "Cluster_1           4.800000e-01               0.060000   \n",
       "Cluster_2           6.000000e-01               0.033333   \n",
       "Cluster_3           1.665335e-16               0.423529   \n",
       "Cluster_4           5.555556e-02               0.588889   \n",
       "Cluster_5           5.714286e-01               0.571429   \n",
       "Cluster_6           5.513514e-01               0.686486   \n",
       "Cluster_7           8.000000e-01               0.630769   \n",
       "Cluster_8           6.857143e-01               0.504762   \n",
       "Cluster_9           5.142857e-01               0.095238   \n",
       "\n",
       "           Persona value (0 - 5)  Growing market  Organic Search Volume  \\\n",
       "Cluster_0               0.652632    1.000000e+00               0.021253   \n",
       "Cluster_1               0.570000    0.000000e+00               0.389736   \n",
       "Cluster_2               0.116667    7.500000e-01               0.577912   \n",
       "Cluster_3               0.505882    0.000000e+00               0.225826   \n",
       "Cluster_4               0.500000    1.000000e+00               0.224902   \n",
       "Cluster_5               0.066667    1.000000e+00               0.223727   \n",
       "Cluster_6               0.535135   -2.220446e-16               0.104773   \n",
       "Cluster_7               0.723077    1.000000e+00               0.431554   \n",
       "Cluster_8               0.276190    0.000000e+00               0.477526   \n",
       "Cluster_9               0.695238    1.000000e+00               0.233982   \n",
       "\n",
       "           SEO Value (0 - 3)  \\\n",
       "Cluster_0           0.087719   \n",
       "Cluster_1           0.600000   \n",
       "Cluster_2           0.750000   \n",
       "Cluster_3           0.490196   \n",
       "Cluster_4           0.518519   \n",
       "Cluster_5           0.571429   \n",
       "Cluster_6           0.306306   \n",
       "Cluster_7           0.871795   \n",
       "Cluster_8           0.825397   \n",
       "Cluster_9           0.492063   \n",
       "\n",
       "           multAnalyst value (0 - 5)', 'Partner value (0 - 5)  \\\n",
       "Cluster_0                                           0.376842    \n",
       "Cluster_1                                           0.028000    \n",
       "Cluster_2                                           0.020000    \n",
       "Cluster_3                                           0.000000    \n",
       "Cluster_4                                           0.033333    \n",
       "Cluster_5                                           0.306667    \n",
       "Cluster_6                                           0.372973    \n",
       "Cluster_7                                           0.492308    \n",
       "Cluster_8                                           0.348571    \n",
       "Cluster_9                                           0.038095    \n",
       "\n",
       "           divAnalyst value (0 - 5)', 'Partner value (0 - 5)  \\\n",
       "Cluster_0                                           0.762281   \n",
       "Cluster_1                                           1.000000   \n",
       "Cluster_2                                           1.000000   \n",
       "Cluster_3                                           0.000000   \n",
       "Cluster_4                                           0.097222   \n",
       "Cluster_5                                           0.750794   \n",
       "Cluster_6                                           0.707207   \n",
       "Cluster_7                                           0.923077   \n",
       "Cluster_8                                           0.916667   \n",
       "Cluster_9                                           1.000000   \n",
       "\n",
       "           multAnalyst value (0 - 5)', 'Persona value (0 - 5)  \\\n",
       "Cluster_0                                           0.408421    \n",
       "Cluster_1                                           0.280000    \n",
       "Cluster_2                                           0.080000    \n",
       "Cluster_3                                           0.000000    \n",
       "Cluster_4                                           0.026667    \n",
       "Cluster_5                                           0.040000    \n",
       "Cluster_6                                           0.308108    \n",
       "Cluster_7                                           0.572308    \n",
       "Cluster_8                                           0.190476    \n",
       "Cluster_9                                           0.337143    \n",
       "\n",
       "           divAnalyst value (0 - 5)', 'Persona value (0 - 5)  ...  \\\n",
       "Cluster_0                                       8.052632e-01  ...   \n",
       "Cluster_1                                       7.233333e-01  ...   \n",
       "Cluster_2                                       1.000000e+00  ...   \n",
       "Cluster_3                                      -2.220446e-16  ...   \n",
       "Cluster_4                                       1.250000e-01  ...   \n",
       "Cluster_5                                       1.000000e+00  ...   \n",
       "Cluster_6                                       8.486486e-01  ...   \n",
       "Cluster_7                                       9.384615e-01  ...   \n",
       "Cluster_8                                       9.880952e-01  ...   \n",
       "Cluster_9                                       6.650794e-01  ...   \n",
       "\n",
       "           divPersona value (0 - 5)', 'Organic Search Volume  \\\n",
       "Cluster_0                                           1.000000   \n",
       "Cluster_1                                           0.908014   \n",
       "Cluster_2                                           0.144028   \n",
       "Cluster_3                                           0.809218   \n",
       "Cluster_4                                           0.877917   \n",
       "Cluster_5                                           0.254627   \n",
       "Cluster_6                                           0.935394   \n",
       "Cluster_7                                           0.977100   \n",
       "Cluster_8                                           0.459909   \n",
       "Cluster_9                                           1.000000   \n",
       "\n",
       "           multPersona value (0 - 5)', 'SEO Value (0 - 3)  \\\n",
       "Cluster_0                                        0.080702   \n",
       "Cluster_1                                        0.350000   \n",
       "Cluster_2                                        0.111111   \n",
       "Cluster_3                                        0.203922   \n",
       "Cluster_4                                        0.285185   \n",
       "Cluster_5                                        0.038095   \n",
       "Cluster_6                                        0.163964   \n",
       "Cluster_7                                        0.635897   \n",
       "Cluster_8                                        0.260317   \n",
       "Cluster_9                                        0.342857   \n",
       "\n",
       "           divPersona value (0 - 5)', 'SEO Value (0 - 3)  \\\n",
       "Cluster_0                                       1.000000   \n",
       "Cluster_1                                       0.800000   \n",
       "Cluster_2                                       0.125000   \n",
       "Cluster_3                                       0.711765   \n",
       "Cluster_4                                       0.716667   \n",
       "Cluster_5                                       0.147619   \n",
       "Cluster_6                                       0.818919   \n",
       "Cluster_7                                       0.800000   \n",
       "Cluster_8                                       0.300000   \n",
       "Cluster_9                                       0.866667   \n",
       "\n",
       "           multGrowing market', 'Organic Search Volume  \\\n",
       "Cluster_0                                 2.125336e-02   \n",
       "Cluster_1                                 0.000000e+00   \n",
       "Cluster_2                                 4.362030e-01   \n",
       "Cluster_3                                 2.775558e-17   \n",
       "Cluster_4                                 2.249019e-01   \n",
       "Cluster_5                                 2.237267e-01   \n",
       "Cluster_6                                -8.326673e-17   \n",
       "Cluster_7                                 4.315544e-01   \n",
       "Cluster_8                                -2.775558e-17   \n",
       "Cluster_9                                 2.339823e-01   \n",
       "\n",
       "           divGrowing market', 'Organic Search Volume  \\\n",
       "Cluster_0                                1.000000e+00   \n",
       "Cluster_1                                0.000000e+00   \n",
       "Cluster_2                                7.500000e-01   \n",
       "Cluster_3                                0.000000e+00   \n",
       "Cluster_4                                1.000000e+00   \n",
       "Cluster_5                                1.000000e+00   \n",
       "Cluster_6                               -2.220446e-16   \n",
       "Cluster_7                                1.000000e+00   \n",
       "Cluster_8                                0.000000e+00   \n",
       "Cluster_9                                1.000000e+00   \n",
       "\n",
       "           multGrowing market', 'SEO Value (0 - 3)  \\\n",
       "Cluster_0                             8.771930e-02   \n",
       "Cluster_1                             0.000000e+00   \n",
       "Cluster_2                             5.277778e-01   \n",
       "Cluster_3                             0.000000e+00   \n",
       "Cluster_4                             5.185185e-01   \n",
       "Cluster_5                             5.714286e-01   \n",
       "Cluster_6                            -1.110223e-16   \n",
       "Cluster_7                             8.717949e-01   \n",
       "Cluster_8                             0.000000e+00   \n",
       "Cluster_9                             4.920635e-01   \n",
       "\n",
       "           divGrowing market', 'SEO Value (0 - 3)  \\\n",
       "Cluster_0                            1.000000e+00   \n",
       "Cluster_1                            0.000000e+00   \n",
       "Cluster_2                            7.500000e-01   \n",
       "Cluster_3                            0.000000e+00   \n",
       "Cluster_4                            1.000000e+00   \n",
       "Cluster_5                            1.000000e+00   \n",
       "Cluster_6                           -2.220446e-16   \n",
       "Cluster_7                            1.000000e+00   \n",
       "Cluster_8                            0.000000e+00   \n",
       "Cluster_9                            1.000000e+00   \n",
       "\n",
       "           multOrganic Search Volume', 'SEO Value (0 - 3)  \\\n",
       "Cluster_0                                        0.007084   \n",
       "Cluster_1                                        0.341391   \n",
       "Cluster_2                                        0.493535   \n",
       "Cluster_3                                        0.185279   \n",
       "Cluster_4                                        0.163551   \n",
       "Cluster_5                                        0.158721   \n",
       "Cluster_6                                        0.056843   \n",
       "Cluster_7                                        0.382429   \n",
       "Cluster_8                                        0.422794   \n",
       "Cluster_9                                        0.154154   \n",
       "\n",
       "           divOrganic Search Volume', 'SEO Value (0 - 3)  \\\n",
       "Cluster_0                                       0.063760   \n",
       "Cluster_1                                       0.482978   \n",
       "Cluster_2                                       0.704477   \n",
       "Cluster_3                                       0.291033   \n",
       "Cluster_4                                       0.356531   \n",
       "Cluster_5                                       0.387549   \n",
       "Cluster_6                                       0.220097   \n",
       "Cluster_7                                       0.505242   \n",
       "Cluster_8                                       0.582939   \n",
       "Cluster_9                                       0.424418   \n",
       "\n",
       "           Proportion of serving APIs  \n",
       "Cluster_0                       0.263  \n",
       "Cluster_1                       0.100  \n",
       "Cluster_2                       0.167  \n",
       "Cluster_3                       0.118  \n",
       "Cluster_4                       0.000  \n",
       "Cluster_5                       0.190  \n",
       "Cluster_6                       0.189  \n",
       "Cluster_7                       0.077  \n",
       "Cluster_8                       0.048  \n",
       "Cluster_9                       0.190  \n",
       "\n",
       "[10 rows x 37 columns]"
      ]
     },
     "execution_count": 184,
     "metadata": {},
     "output_type": "execute_result"
    }
   ],
   "source": [
    "df_centres = pd.DataFrame(kmeans.cluster_centers_)\n",
    "df_centres.columns = df_ext.columns[:-2]\n",
    "df_centres.index = [f'Cluster_{i}' for i in range(n_clusters)]\n",
    "#df_centres.index = ['Cluster_0', 'Cluster_1', 'Cluster_2', 'Cluster_3', 'Cluster_4']\n",
    "df_centres['Proportion of serving APIs'] = proportions\n",
    "df_centres"
   ]
  },
  {
   "cell_type": "code",
   "execution_count": 308,
   "id": "mathematical-happiness",
   "metadata": {
    "ExecuteTime": {
     "end_time": "2021-03-20T17:05:24.803891Z",
     "start_time": "2021-03-20T17:05:24.768236Z"
    }
   },
   "outputs": [
    {
     "data": {
      "text/html": [
       "<div>\n",
       "<style scoped>\n",
       "    .dataframe tbody tr th:only-of-type {\n",
       "        vertical-align: middle;\n",
       "    }\n",
       "\n",
       "    .dataframe tbody tr th {\n",
       "        vertical-align: top;\n",
       "    }\n",
       "\n",
       "    .dataframe thead th {\n",
       "        text-align: right;\n",
       "    }\n",
       "</style>\n",
       "<table border=\"1\" class=\"dataframe\">\n",
       "  <thead>\n",
       "    <tr style=\"text-align: right;\">\n",
       "      <th></th>\n",
       "      <th>API</th>\n",
       "      <th>Analyst value (0 - 5)</th>\n",
       "      <th>Partner value (0 - 5)</th>\n",
       "      <th>Persona value (0 - 5)</th>\n",
       "      <th>Growing market</th>\n",
       "      <th>Organic Search Volume</th>\n",
       "      <th>SEO Value (0 - 3)</th>\n",
       "      <th>serving</th>\n",
       "    </tr>\n",
       "  </thead>\n",
       "  <tbody>\n",
       "    <tr>\n",
       "      <th>5</th>\n",
       "      <td>AdRoll</td>\n",
       "      <td>2</td>\n",
       "      <td>0</td>\n",
       "      <td>5</td>\n",
       "      <td>True</td>\n",
       "      <td>226</td>\n",
       "      <td>1</td>\n",
       "      <td>True</td>\n",
       "    </tr>\n",
       "    <tr>\n",
       "      <th>9</th>\n",
       "      <td>Aircall</td>\n",
       "      <td>4</td>\n",
       "      <td>5</td>\n",
       "      <td>1</td>\n",
       "      <td>True</td>\n",
       "      <td>491</td>\n",
       "      <td>1</td>\n",
       "      <td>True</td>\n",
       "    </tr>\n",
       "    <tr>\n",
       "      <th>18</th>\n",
       "      <td>Asana</td>\n",
       "      <td>2</td>\n",
       "      <td>1</td>\n",
       "      <td>5</td>\n",
       "      <td>True</td>\n",
       "      <td>1092</td>\n",
       "      <td>2</td>\n",
       "      <td>True</td>\n",
       "    </tr>\n",
       "    <tr>\n",
       "      <th>23</th>\n",
       "      <td>Bamboo HR</td>\n",
       "      <td>5</td>\n",
       "      <td>2</td>\n",
       "      <td>0</td>\n",
       "      <td>False</td>\n",
       "      <td>383</td>\n",
       "      <td>2</td>\n",
       "      <td>True</td>\n",
       "    </tr>\n",
       "    <tr>\n",
       "      <th>29</th>\n",
       "      <td>Bizzabo</td>\n",
       "      <td>2</td>\n",
       "      <td>2</td>\n",
       "      <td>1</td>\n",
       "      <td>False</td>\n",
       "      <td>585</td>\n",
       "      <td>1</td>\n",
       "      <td>True</td>\n",
       "    </tr>\n",
       "    <tr>\n",
       "      <th>31</th>\n",
       "      <td>Brandfolder</td>\n",
       "      <td>4</td>\n",
       "      <td>2</td>\n",
       "      <td>4</td>\n",
       "      <td>True</td>\n",
       "      <td>13</td>\n",
       "      <td>2</td>\n",
       "      <td>True</td>\n",
       "    </tr>\n",
       "    <tr>\n",
       "      <th>32</th>\n",
       "      <td>Braze</td>\n",
       "      <td>2</td>\n",
       "      <td>1</td>\n",
       "      <td>5</td>\n",
       "      <td>True</td>\n",
       "      <td>650</td>\n",
       "      <td>2</td>\n",
       "      <td>True</td>\n",
       "    </tr>\n",
       "    <tr>\n",
       "      <th>34</th>\n",
       "      <td>Calendly</td>\n",
       "      <td>1</td>\n",
       "      <td>4</td>\n",
       "      <td>1</td>\n",
       "      <td>False</td>\n",
       "      <td>218</td>\n",
       "      <td>2</td>\n",
       "      <td>True</td>\n",
       "    </tr>\n",
       "    <tr>\n",
       "      <th>39</th>\n",
       "      <td>Chargify</td>\n",
       "      <td>0</td>\n",
       "      <td>5</td>\n",
       "      <td>5</td>\n",
       "      <td>False</td>\n",
       "      <td>167</td>\n",
       "      <td>2</td>\n",
       "      <td>True</td>\n",
       "    </tr>\n",
       "    <tr>\n",
       "      <th>49</th>\n",
       "      <td>Copper</td>\n",
       "      <td>4</td>\n",
       "      <td>5</td>\n",
       "      <td>1</td>\n",
       "      <td>True</td>\n",
       "      <td>414</td>\n",
       "      <td>1</td>\n",
       "      <td>True</td>\n",
       "    </tr>\n",
       "    <tr>\n",
       "      <th>55</th>\n",
       "      <td>Databricks</td>\n",
       "      <td>2</td>\n",
       "      <td>4</td>\n",
       "      <td>5</td>\n",
       "      <td>True</td>\n",
       "      <td>225</td>\n",
       "      <td>1</td>\n",
       "      <td>True</td>\n",
       "    </tr>\n",
       "    <tr>\n",
       "      <th>56</th>\n",
       "      <td>Datadog</td>\n",
       "      <td>3</td>\n",
       "      <td>0</td>\n",
       "      <td>0</td>\n",
       "      <td>True</td>\n",
       "      <td>1178</td>\n",
       "      <td>2</td>\n",
       "      <td>True</td>\n",
       "    </tr>\n",
       "    <tr>\n",
       "      <th>59</th>\n",
       "      <td>Docebo</td>\n",
       "      <td>0</td>\n",
       "      <td>0</td>\n",
       "      <td>5</td>\n",
       "      <td>False</td>\n",
       "      <td>13</td>\n",
       "      <td>2</td>\n",
       "      <td>True</td>\n",
       "    </tr>\n",
       "    <tr>\n",
       "      <th>61</th>\n",
       "      <td>Drift</td>\n",
       "      <td>2</td>\n",
       "      <td>0</td>\n",
       "      <td>0</td>\n",
       "      <td>True</td>\n",
       "      <td>1120</td>\n",
       "      <td>2</td>\n",
       "      <td>True</td>\n",
       "    </tr>\n",
       "    <tr>\n",
       "      <th>73</th>\n",
       "      <td>Front</td>\n",
       "      <td>5</td>\n",
       "      <td>5</td>\n",
       "      <td>2</td>\n",
       "      <td>False</td>\n",
       "      <td>172</td>\n",
       "      <td>2</td>\n",
       "      <td>True</td>\n",
       "    </tr>\n",
       "    <tr>\n",
       "      <th>80</th>\n",
       "      <td>Gong.io</td>\n",
       "      <td>4</td>\n",
       "      <td>1</td>\n",
       "      <td>0</td>\n",
       "      <td>True</td>\n",
       "      <td>223</td>\n",
       "      <td>1</td>\n",
       "      <td>True</td>\n",
       "    </tr>\n",
       "    <tr>\n",
       "      <th>85</th>\n",
       "      <td>Help Scout</td>\n",
       "      <td>2</td>\n",
       "      <td>1</td>\n",
       "      <td>5</td>\n",
       "      <td>True</td>\n",
       "      <td>0</td>\n",
       "      <td>0</td>\n",
       "      <td>True</td>\n",
       "    </tr>\n",
       "    <tr>\n",
       "      <th>92</th>\n",
       "      <td>JumpCloud</td>\n",
       "      <td>3</td>\n",
       "      <td>0</td>\n",
       "      <td>3</td>\n",
       "      <td>False</td>\n",
       "      <td>0</td>\n",
       "      <td>0</td>\n",
       "      <td>True</td>\n",
       "    </tr>\n",
       "    <tr>\n",
       "      <th>98</th>\n",
       "      <td>Klaviyo</td>\n",
       "      <td>2</td>\n",
       "      <td>5</td>\n",
       "      <td>1</td>\n",
       "      <td>False</td>\n",
       "      <td>0</td>\n",
       "      <td>0</td>\n",
       "      <td>True</td>\n",
       "    </tr>\n",
       "    <tr>\n",
       "      <th>100</th>\n",
       "      <td>LaunchDarkly</td>\n",
       "      <td>5</td>\n",
       "      <td>0</td>\n",
       "      <td>3</td>\n",
       "      <td>False</td>\n",
       "      <td>1629</td>\n",
       "      <td>3</td>\n",
       "      <td>True</td>\n",
       "    </tr>\n",
       "    <tr>\n",
       "      <th>110</th>\n",
       "      <td>LogicMonitor</td>\n",
       "      <td>4</td>\n",
       "      <td>5</td>\n",
       "      <td>2</td>\n",
       "      <td>False</td>\n",
       "      <td>500</td>\n",
       "      <td>2</td>\n",
       "      <td>True</td>\n",
       "    </tr>\n",
       "    <tr>\n",
       "      <th>113</th>\n",
       "      <td>MailerLite</td>\n",
       "      <td>3</td>\n",
       "      <td>1</td>\n",
       "      <td>3</td>\n",
       "      <td>True</td>\n",
       "      <td>848</td>\n",
       "      <td>2</td>\n",
       "      <td>True</td>\n",
       "    </tr>\n",
       "    <tr>\n",
       "      <th>125</th>\n",
       "      <td>Netsuite</td>\n",
       "      <td>5</td>\n",
       "      <td>0</td>\n",
       "      <td>2</td>\n",
       "      <td>True</td>\n",
       "      <td>69</td>\n",
       "      <td>2</td>\n",
       "      <td>True</td>\n",
       "    </tr>\n",
       "    <tr>\n",
       "      <th>130</th>\n",
       "      <td>PandaDoc</td>\n",
       "      <td>5</td>\n",
       "      <td>2</td>\n",
       "      <td>2</td>\n",
       "      <td>True</td>\n",
       "      <td>613</td>\n",
       "      <td>2</td>\n",
       "      <td>True</td>\n",
       "    </tr>\n",
       "    <tr>\n",
       "      <th>132</th>\n",
       "      <td>Personio</td>\n",
       "      <td>1</td>\n",
       "      <td>1</td>\n",
       "      <td>2</td>\n",
       "      <td>False</td>\n",
       "      <td>957</td>\n",
       "      <td>3</td>\n",
       "      <td>True</td>\n",
       "    </tr>\n",
       "    <tr>\n",
       "      <th>143</th>\n",
       "      <td>Qualtrics</td>\n",
       "      <td>4</td>\n",
       "      <td>3</td>\n",
       "      <td>4</td>\n",
       "      <td>True</td>\n",
       "      <td>9</td>\n",
       "      <td>1</td>\n",
       "      <td>True</td>\n",
       "    </tr>\n",
       "    <tr>\n",
       "      <th>145</th>\n",
       "      <td>Recurly</td>\n",
       "      <td>2</td>\n",
       "      <td>1</td>\n",
       "      <td>2</td>\n",
       "      <td>False</td>\n",
       "      <td>263</td>\n",
       "      <td>1</td>\n",
       "      <td>True</td>\n",
       "    </tr>\n",
       "    <tr>\n",
       "      <th>153</th>\n",
       "      <td>Segment</td>\n",
       "      <td>5</td>\n",
       "      <td>2</td>\n",
       "      <td>3</td>\n",
       "      <td>False</td>\n",
       "      <td>162</td>\n",
       "      <td>1</td>\n",
       "      <td>True</td>\n",
       "    </tr>\n",
       "    <tr>\n",
       "      <th>167</th>\n",
       "      <td>Stripe</td>\n",
       "      <td>1</td>\n",
       "      <td>4</td>\n",
       "      <td>4</td>\n",
       "      <td>False</td>\n",
       "      <td>201</td>\n",
       "      <td>1</td>\n",
       "      <td>True</td>\n",
       "    </tr>\n",
       "    <tr>\n",
       "      <th>170</th>\n",
       "      <td>Talkdesk</td>\n",
       "      <td>1</td>\n",
       "      <td>5</td>\n",
       "      <td>5</td>\n",
       "      <td>True</td>\n",
       "      <td>193</td>\n",
       "      <td>1</td>\n",
       "      <td>True</td>\n",
       "    </tr>\n",
       "    <tr>\n",
       "      <th>178</th>\n",
       "      <td>Twilio</td>\n",
       "      <td>4</td>\n",
       "      <td>3</td>\n",
       "      <td>5</td>\n",
       "      <td>True</td>\n",
       "      <td>0</td>\n",
       "      <td>0</td>\n",
       "      <td>True</td>\n",
       "    </tr>\n",
       "    <tr>\n",
       "      <th>179</th>\n",
       "      <td>typeform</td>\n",
       "      <td>2</td>\n",
       "      <td>3</td>\n",
       "      <td>0</td>\n",
       "      <td>False</td>\n",
       "      <td>267</td>\n",
       "      <td>2</td>\n",
       "      <td>True</td>\n",
       "    </tr>\n",
       "    <tr>\n",
       "      <th>180</th>\n",
       "      <td>Uberflip</td>\n",
       "      <td>3</td>\n",
       "      <td>1</td>\n",
       "      <td>1</td>\n",
       "      <td>False</td>\n",
       "      <td>776</td>\n",
       "      <td>2</td>\n",
       "      <td>True</td>\n",
       "    </tr>\n",
       "    <tr>\n",
       "      <th>198</th>\n",
       "      <td>ZoomInfo</td>\n",
       "      <td>2</td>\n",
       "      <td>5</td>\n",
       "      <td>0</td>\n",
       "      <td>True</td>\n",
       "      <td>365</td>\n",
       "      <td>2</td>\n",
       "      <td>True</td>\n",
       "    </tr>\n",
       "  </tbody>\n",
       "</table>\n",
       "</div>"
      ],
      "text/plain": [
       "              API  Analyst value (0 - 5)  Partner value (0 - 5)  \\\n",
       "5          AdRoll                      2                      0   \n",
       "9         Aircall                      4                      5   \n",
       "18          Asana                      2                      1   \n",
       "23      Bamboo HR                      5                      2   \n",
       "29        Bizzabo                      2                      2   \n",
       "31    Brandfolder                      4                      2   \n",
       "32          Braze                      2                      1   \n",
       "34       Calendly                      1                      4   \n",
       "39       Chargify                      0                      5   \n",
       "49         Copper                      4                      5   \n",
       "55     Databricks                      2                      4   \n",
       "56        Datadog                      3                      0   \n",
       "59         Docebo                      0                      0   \n",
       "61          Drift                      2                      0   \n",
       "73          Front                      5                      5   \n",
       "80        Gong.io                      4                      1   \n",
       "85     Help Scout                      2                      1   \n",
       "92      JumpCloud                      3                      0   \n",
       "98        Klaviyo                      2                      5   \n",
       "100  LaunchDarkly                      5                      0   \n",
       "110  LogicMonitor                      4                      5   \n",
       "113    MailerLite                      3                      1   \n",
       "125      Netsuite                      5                      0   \n",
       "130      PandaDoc                      5                      2   \n",
       "132      Personio                      1                      1   \n",
       "143     Qualtrics                      4                      3   \n",
       "145       Recurly                      2                      1   \n",
       "153       Segment                      5                      2   \n",
       "167        Stripe                      1                      4   \n",
       "170      Talkdesk                      1                      5   \n",
       "178        Twilio                      4                      3   \n",
       "179      typeform                      2                      3   \n",
       "180      Uberflip                      3                      1   \n",
       "198      ZoomInfo                      2                      5   \n",
       "\n",
       "     Persona value (0 - 5)  Growing market  Organic Search Volume  \\\n",
       "5                        5            True                    226   \n",
       "9                        1            True                    491   \n",
       "18                       5            True                   1092   \n",
       "23                       0           False                    383   \n",
       "29                       1           False                    585   \n",
       "31                       4            True                     13   \n",
       "32                       5            True                    650   \n",
       "34                       1           False                    218   \n",
       "39                       5           False                    167   \n",
       "49                       1            True                    414   \n",
       "55                       5            True                    225   \n",
       "56                       0            True                   1178   \n",
       "59                       5           False                     13   \n",
       "61                       0            True                   1120   \n",
       "73                       2           False                    172   \n",
       "80                       0            True                    223   \n",
       "85                       5            True                      0   \n",
       "92                       3           False                      0   \n",
       "98                       1           False                      0   \n",
       "100                      3           False                   1629   \n",
       "110                      2           False                    500   \n",
       "113                      3            True                    848   \n",
       "125                      2            True                     69   \n",
       "130                      2            True                    613   \n",
       "132                      2           False                    957   \n",
       "143                      4            True                      9   \n",
       "145                      2           False                    263   \n",
       "153                      3           False                    162   \n",
       "167                      4           False                    201   \n",
       "170                      5            True                    193   \n",
       "178                      5            True                      0   \n",
       "179                      0           False                    267   \n",
       "180                      1           False                    776   \n",
       "198                      0            True                    365   \n",
       "\n",
       "     SEO Value (0 - 3)  serving  \n",
       "5                    1     True  \n",
       "9                    1     True  \n",
       "18                   2     True  \n",
       "23                   2     True  \n",
       "29                   1     True  \n",
       "31                   2     True  \n",
       "32                   2     True  \n",
       "34                   2     True  \n",
       "39                   2     True  \n",
       "49                   1     True  \n",
       "55                   1     True  \n",
       "56                   2     True  \n",
       "59                   2     True  \n",
       "61                   2     True  \n",
       "73                   2     True  \n",
       "80                   1     True  \n",
       "85                   0     True  \n",
       "92                   0     True  \n",
       "98                   0     True  \n",
       "100                  3     True  \n",
       "110                  2     True  \n",
       "113                  2     True  \n",
       "125                  2     True  \n",
       "130                  2     True  \n",
       "132                  3     True  \n",
       "143                  1     True  \n",
       "145                  1     True  \n",
       "153                  1     True  \n",
       "167                  1     True  \n",
       "170                  1     True  \n",
       "178                  0     True  \n",
       "179                  2     True  \n",
       "180                  2     True  \n",
       "198                  2     True  "
      ]
     },
     "execution_count": 308,
     "metadata": {},
     "output_type": "execute_result"
    }
   ],
   "source": [
    "df[df['serving']]"
   ]
  },
  {
   "cell_type": "markdown",
   "id": "cultural-container",
   "metadata": {},
   "source": [
    "# Logistic Regression"
   ]
  },
  {
   "cell_type": "code",
   "execution_count": 26,
   "id": "occasional-tournament",
   "metadata": {
    "ExecuteTime": {
     "end_time": "2021-03-20T17:31:37.796011Z",
     "start_time": "2021-03-20T17:31:37.787440Z"
    }
   },
   "outputs": [],
   "source": [
    "y = df['serving']\n",
    "X = df.drop(['API', 'serving'], axis = 1)"
   ]
  },
  {
   "cell_type": "code",
   "execution_count": 27,
   "id": "swedish-trance",
   "metadata": {
    "ExecuteTime": {
     "end_time": "2021-03-20T17:31:38.833943Z",
     "start_time": "2021-03-20T17:31:38.822740Z"
    }
   },
   "outputs": [
    {
     "name": "stdout",
     "output_type": "stream",
     "text": [
      "(199, 6)\n",
      "(199,)\n"
     ]
    }
   ],
   "source": [
    "print(X.shape)\n",
    "print(y.shape)"
   ]
  },
  {
   "cell_type": "code",
   "execution_count": 28,
   "id": "australian-exposure",
   "metadata": {
    "ExecuteTime": {
     "end_time": "2021-03-20T17:31:40.838249Z",
     "start_time": "2021-03-20T17:31:40.829580Z"
    }
   },
   "outputs": [],
   "source": [
    "mm_scaler = MinMaxScaler()\n",
    "X_proc = mm_scaler.fit_transform(X)\n",
    "X_proc = pd.DataFrame(X_proc, columns=X.columns)"
   ]
  },
  {
   "cell_type": "code",
   "execution_count": 31,
   "id": "judicial-execution",
   "metadata": {
    "ExecuteTime": {
     "end_time": "2021-03-20T17:32:11.661625Z",
     "start_time": "2021-03-20T17:32:11.579057Z"
    }
   },
   "outputs": [
    {
     "name": "stdout",
     "output_type": "stream",
     "text": [
      "Optimization terminated successfully.\n",
      "         Current function value: 0.448389\n",
      "         Iterations 6\n"
     ]
    }
   ],
   "source": [
    "import statsmodels.api as sm \n",
    "from statsmodels.tools.tools import add_constant\n",
    "log_reg = sm.Logit(y, add_constant(X_proc)).fit()"
   ]
  },
  {
   "cell_type": "code",
   "execution_count": 32,
   "id": "greatest-tooth",
   "metadata": {
    "ExecuteTime": {
     "end_time": "2021-03-20T17:32:13.136534Z",
     "start_time": "2021-03-20T17:32:13.102565Z"
    }
   },
   "outputs": [
    {
     "data": {
      "text/html": [
       "<table class=\"simpletable\">\n",
       "<caption>Logit Regression Results</caption>\n",
       "<tr>\n",
       "  <th>Dep. Variable:</th>        <td>serving</td>     <th>  No. Observations:  </th>  <td>   199</td> \n",
       "</tr>\n",
       "<tr>\n",
       "  <th>Model:</th>                 <td>Logit</td>      <th>  Df Residuals:      </th>  <td>   192</td> \n",
       "</tr>\n",
       "<tr>\n",
       "  <th>Method:</th>                 <td>MLE</td>       <th>  Df Model:          </th>  <td>     6</td> \n",
       "</tr>\n",
       "<tr>\n",
       "  <th>Date:</th>            <td>Sat, 20 Mar 2021</td> <th>  Pseudo R-squ.:     </th>  <td>0.01935</td>\n",
       "</tr>\n",
       "<tr>\n",
       "  <th>Time:</th>                <td>17:32:13</td>     <th>  Log-Likelihood:    </th> <td> -89.229</td>\n",
       "</tr>\n",
       "<tr>\n",
       "  <th>converged:</th>             <td>True</td>       <th>  LL-Null:           </th> <td> -90.990</td>\n",
       "</tr>\n",
       "<tr>\n",
       "  <th>Covariance Type:</th>     <td>nonrobust</td>    <th>  LLR p-value:       </th>  <td>0.7410</td> \n",
       "</tr>\n",
       "</table>\n",
       "<table class=\"simpletable\">\n",
       "<tr>\n",
       "            <td></td>               <th>coef</th>     <th>std err</th>      <th>z</th>      <th>P>|z|</th>  <th>[0.025</th>    <th>0.975]</th>  \n",
       "</tr>\n",
       "<tr>\n",
       "  <th>const</th>                 <td>   -2.2540</td> <td>    0.631</td> <td>   -3.574</td> <td> 0.000</td> <td>   -3.490</td> <td>   -1.018</td>\n",
       "</tr>\n",
       "<tr>\n",
       "  <th>Analyst value (0 - 5)</th> <td>    0.8887</td> <td>    0.595</td> <td>    1.493</td> <td> 0.136</td> <td>   -0.278</td> <td>    2.056</td>\n",
       "</tr>\n",
       "<tr>\n",
       "  <th>Partner value (0 - 5)</th> <td>    0.1025</td> <td>    0.556</td> <td>    0.184</td> <td> 0.854</td> <td>   -0.987</td> <td>    1.192</td>\n",
       "</tr>\n",
       "<tr>\n",
       "  <th>Persona value (0 - 5)</th> <td>    0.4430</td> <td>    0.572</td> <td>    0.775</td> <td> 0.438</td> <td>   -0.678</td> <td>    1.564</td>\n",
       "</tr>\n",
       "<tr>\n",
       "  <th>Growing market</th>        <td>    0.0577</td> <td>    0.382</td> <td>    0.151</td> <td> 0.880</td> <td>   -0.690</td> <td>    0.806</td>\n",
       "</tr>\n",
       "<tr>\n",
       "  <th>Organic Search Volume</th> <td>   -0.6306</td> <td>    0.972</td> <td>   -0.649</td> <td> 0.516</td> <td>   -2.535</td> <td>    1.274</td>\n",
       "</tr>\n",
       "<tr>\n",
       "  <th>SEO Value (0 - 3)</th>     <td>    0.1530</td> <td>    0.714</td> <td>    0.214</td> <td> 0.830</td> <td>   -1.246</td> <td>    1.552</td>\n",
       "</tr>\n",
       "</table>"
      ],
      "text/plain": [
       "<class 'statsmodels.iolib.summary.Summary'>\n",
       "\"\"\"\n",
       "                           Logit Regression Results                           \n",
       "==============================================================================\n",
       "Dep. Variable:                serving   No. Observations:                  199\n",
       "Model:                          Logit   Df Residuals:                      192\n",
       "Method:                           MLE   Df Model:                            6\n",
       "Date:                Sat, 20 Mar 2021   Pseudo R-squ.:                 0.01935\n",
       "Time:                        17:32:13   Log-Likelihood:                -89.229\n",
       "converged:                       True   LL-Null:                       -90.990\n",
       "Covariance Type:            nonrobust   LLR p-value:                    0.7410\n",
       "=========================================================================================\n",
       "                            coef    std err          z      P>|z|      [0.025      0.975]\n",
       "-----------------------------------------------------------------------------------------\n",
       "const                    -2.2540      0.631     -3.574      0.000      -3.490      -1.018\n",
       "Analyst value (0 - 5)     0.8887      0.595      1.493      0.136      -0.278       2.056\n",
       "Partner value (0 - 5)     0.1025      0.556      0.184      0.854      -0.987       1.192\n",
       "Persona value (0 - 5)     0.4430      0.572      0.775      0.438      -0.678       1.564\n",
       "Growing market            0.0577      0.382      0.151      0.880      -0.690       0.806\n",
       "Organic Search Volume    -0.6306      0.972     -0.649      0.516      -2.535       1.274\n",
       "SEO Value (0 - 3)         0.1530      0.714      0.214      0.830      -1.246       1.552\n",
       "=========================================================================================\n",
       "\"\"\""
      ]
     },
     "execution_count": 32,
     "metadata": {},
     "output_type": "execute_result"
    }
   ],
   "source": [
    "log_reg.summary()"
   ]
  },
  {
   "cell_type": "code",
   "execution_count": 66,
   "id": "expressed-iceland",
   "metadata": {
    "ExecuteTime": {
     "end_time": "2021-03-20T17:56:15.269928Z",
     "start_time": "2021-03-20T17:56:15.247902Z"
    }
   },
   "outputs": [],
   "source": [
    "df.to_csv('Tray_dataset.csv')"
   ]
  },
  {
   "cell_type": "code",
   "execution_count": null,
   "id": "polar-aaron",
   "metadata": {},
   "outputs": [],
   "source": []
  },
  {
   "cell_type": "code",
   "execution_count": null,
   "id": "appropriate-console",
   "metadata": {},
   "outputs": [],
   "source": []
  },
  {
   "cell_type": "code",
   "execution_count": null,
   "id": "threaded-action",
   "metadata": {},
   "outputs": [],
   "source": []
  },
  {
   "cell_type": "code",
   "execution_count": null,
   "id": "convinced-corrections",
   "metadata": {},
   "outputs": [],
   "source": []
  },
  {
   "cell_type": "code",
   "execution_count": null,
   "id": "indian-administrator",
   "metadata": {},
   "outputs": [],
   "source": []
  },
  {
   "cell_type": "code",
   "execution_count": null,
   "id": "communist-motorcycle",
   "metadata": {},
   "outputs": [],
   "source": []
  },
  {
   "cell_type": "code",
   "execution_count": null,
   "id": "graphic-album",
   "metadata": {},
   "outputs": [],
   "source": []
  },
  {
   "cell_type": "code",
   "execution_count": null,
   "id": "compound-happiness",
   "metadata": {},
   "outputs": [],
   "source": []
  },
  {
   "cell_type": "code",
   "execution_count": null,
   "id": "related-singles",
   "metadata": {},
   "outputs": [],
   "source": []
  },
  {
   "cell_type": "code",
   "execution_count": null,
   "id": "mounted-chambers",
   "metadata": {},
   "outputs": [],
   "source": []
  },
  {
   "cell_type": "code",
   "execution_count": null,
   "id": "confirmed-broadway",
   "metadata": {},
   "outputs": [],
   "source": []
  },
  {
   "cell_type": "code",
   "execution_count": null,
   "id": "sealed-surge",
   "metadata": {},
   "outputs": [],
   "source": []
  },
  {
   "cell_type": "code",
   "execution_count": null,
   "id": "disciplinary-breathing",
   "metadata": {},
   "outputs": [],
   "source": []
  },
  {
   "cell_type": "code",
   "execution_count": null,
   "id": "approximate-neutral",
   "metadata": {},
   "outputs": [],
   "source": []
  },
  {
   "cell_type": "code",
   "execution_count": null,
   "id": "dangerous-elder",
   "metadata": {},
   "outputs": [],
   "source": []
  },
  {
   "cell_type": "code",
   "execution_count": null,
   "id": "constant-diabetes",
   "metadata": {},
   "outputs": [],
   "source": []
  },
  {
   "cell_type": "code",
   "execution_count": null,
   "id": "sought-mississippi",
   "metadata": {},
   "outputs": [],
   "source": []
  },
  {
   "cell_type": "code",
   "execution_count": null,
   "id": "naked-remainder",
   "metadata": {},
   "outputs": [],
   "source": []
  },
  {
   "cell_type": "code",
   "execution_count": null,
   "id": "economic-cholesterol",
   "metadata": {},
   "outputs": [],
   "source": []
  }
 ],
 "metadata": {
  "kernelspec": {
   "display_name": "Python 3",
   "language": "python",
   "name": "python3"
  },
  "language_info": {
   "codemirror_mode": {
    "name": "ipython",
    "version": 3
   },
   "file_extension": ".py",
   "mimetype": "text/x-python",
   "name": "python",
   "nbconvert_exporter": "python",
   "pygments_lexer": "ipython3",
   "version": "3.8.6"
  },
  "toc": {
   "base_numbering": 1,
   "nav_menu": {},
   "number_sections": true,
   "sideBar": true,
   "skip_h1_title": false,
   "title_cell": "Table of Contents",
   "title_sidebar": "Contents",
   "toc_cell": false,
   "toc_position": {},
   "toc_section_display": true,
   "toc_window_display": true
  },
  "varInspector": {
   "cols": {
    "lenName": 16,
    "lenType": 16,
    "lenVar": 40
   },
   "kernels_config": {
    "python": {
     "delete_cmd_postfix": "",
     "delete_cmd_prefix": "del ",
     "library": "var_list.py",
     "varRefreshCmd": "print(var_dic_list())"
    },
    "r": {
     "delete_cmd_postfix": ") ",
     "delete_cmd_prefix": "rm(",
     "library": "var_list.r",
     "varRefreshCmd": "cat(var_dic_list()) "
    }
   },
   "types_to_exclude": [
    "module",
    "function",
    "builtin_function_or_method",
    "instance",
    "_Feature"
   ],
   "window_display": false
  }
 },
 "nbformat": 4,
 "nbformat_minor": 5
}
